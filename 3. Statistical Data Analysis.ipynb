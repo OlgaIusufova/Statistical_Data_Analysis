{
 "cells": [
  {
   "cell_type": "markdown",
   "metadata": {},
   "source": [
    "# Project description\n",
    "## The telecom operator Megaline (analyze clients' behavior)\n",
    "\n",
    "You work as an analyst for the telecom operator Megaline. The company offers its clients two prepaid plans, Surf and Ultimate. The commercial department wants to know which of the plans brings in more revenue in order to adjust the advertising budget.\n",
    "<br>You are going to carry out a preliminary analysis of the plans based on a relatively small client selection. You'll have the data on 500 Megaline clients: who the clients are, where they're from, which plan they use, and the number of calls they made and text messages they sent in 2018. Your job is to analyze clients' behavior and determine which prepaid plan brings in more revenue."
   ]
  },
  {
   "cell_type": "markdown",
   "metadata": {},
   "source": [
    "# Description of the plans\n",
    "Note: Megaline rounds seconds up to minutes, and megabytes to gigabytes. For calls, each individual call is rounded up: even if the call lasted just one second, it will be counted as one minute. For web traffic, individual web sessions are not rounded up. Instead, the total for the month is rounded up. If someone uses 1025 megabytes this month, they will be charged for 2 gigabytes.\n",
    "\n",
    "***Surf***\n",
    "1. Monthly charge: 20 dollars\n",
    "2. 500 monthly minutes, 50 texts, and 15 GB of data\n",
    "3. After exceeding the package limits:\n",
    "- minute: 3 cents \n",
    "- text message: 3 cents\n",
    "- GB of data: 10 dollars\n",
    "\n",
    "***Ultimate***\n",
    "1. Monthly charge: 70 dollars\n",
    "2. 3000 monthly minutes, 1000 text messages, and 30 GB of data\n",
    "3. After exceeding the package limits:\n",
    "- 1 minute: 1 cent\n",
    "- 1 text message: 1 cent\n",
    "- 1 GB of data: 7 dollars\n",
    "\n",
    "\n",
    "**The ```users``` table (data on users):**\n",
    "- ```user_id``` — unique user identifier\n",
    "- ```first_name``` — user's name\n",
    "- ```last_name``` — user's last name\n",
    "- ```age``` — user's age (years)\n",
    "- ```reg_date``` — subscription date (dd, mm, yy)\n",
    "- ```churn_date``` — the date the user stopped using the service (if the value is missing, the calling plan was being used when this data was retrieved)\n",
    "- ```city``` — user's city of residence\n",
    "- ```plan``` — calling plan name\n",
    "\n",
    "**The ```calls``` table (data on calls):**\n",
    "- ```id``` — unique call identifier\n",
    "- ```call_date``` — call date\n",
    "- ```duration``` — call duration (in minutes)\n",
    "- ```user_id``` — the identifier of the user making the call\n",
    "\n",
    "**The ```messages``` table (data on texts):**\n",
    "- ```id``` — unique text message identifier\n",
    "- ```message_date``` — text message date\n",
    "- ```user_id``` — the identifier of the user sending the text\n",
    "\n",
    "**The ```internet``` table (data on web sessions):**\n",
    "- ```id``` — unique session identifier\n",
    "- ```mb_used``` — the volume of data spent during the session (in megabytes)\n",
    "- ```session_date``` — web session date\n",
    "- ```user_id``` — user identifier\n",
    "\n",
    "**The ```plans``` table (data on the plans):**\n",
    "- ```plan_name``` — calling plan name\n",
    "- ```usd_monthly_fee``` — monthly charge in US dollars\n",
    "- ```minutes_included``` — monthly minute allowance\n",
    "- ```messages_included``` — monthly text allowance\n",
    "- ```mb_per_month_included``` — data volume allowance (in megabytes)\n",
    "- ```usd_per_minute``` — price per minute after exceeding the package limits (e.g., if the package includes 100 minutes, the 101st minute will be charged)\n",
    "- ```usd_per_message``` — price per text after exceeding the package limits\n",
    "- ```usd_per_gb``` — price per extra gigabyte of data after exceeding the package limits (1 GB = 1024 megabytes)"
   ]
  },
  {
   "cell_type": "markdown",
   "metadata": {},
   "source": [
    "## Open the data file and study the general information. "
   ]
  },
  {
   "cell_type": "code",
   "execution_count": 1,
   "metadata": {},
   "outputs": [],
   "source": [
    "import pandas as pd\n",
    "import matplotlib.pyplot as plt\n",
    "from scipy import stats as st\n",
    "import numpy as np\n"
   ]
  },
  {
   "cell_type": "code",
   "execution_count": 2,
   "metadata": {},
   "outputs": [],
   "source": [
    "df_calls = pd.read_csv('/datasets/megaline_calls.csv')\n",
    "df_internet = pd.read_csv('/datasets/megaline_internet.csv')\n",
    "df_messages = pd.read_csv('/datasets/megaline_messages.csv')\n",
    "df_plans = pd.read_csv('/datasets/megaline_plans.csv')\n",
    "df_users = pd.read_csv('/datasets/megaline_users.csv')"
   ]
  },
  {
   "cell_type": "code",
   "execution_count": 3,
   "metadata": {},
   "outputs": [
    {
     "name": "stdout",
     "output_type": "stream",
     "text": [
      "<class 'pandas.core.frame.DataFrame'>\n",
      "RangeIndex: 137735 entries, 0 to 137734\n",
      "Data columns (total 4 columns):\n",
      "id           137735 non-null object\n",
      "user_id      137735 non-null int64\n",
      "call_date    137735 non-null object\n",
      "duration     137735 non-null float64\n",
      "dtypes: float64(1), int64(1), object(2)\n",
      "memory usage: 4.2+ MB\n"
     ]
    }
   ],
   "source": [
    "df_calls.info()"
   ]
  },
  {
   "cell_type": "code",
   "execution_count": 4,
   "metadata": {},
   "outputs": [
    {
     "data": {
      "text/html": [
       "<div>\n",
       "<style scoped>\n",
       "    .dataframe tbody tr th:only-of-type {\n",
       "        vertical-align: middle;\n",
       "    }\n",
       "\n",
       "    .dataframe tbody tr th {\n",
       "        vertical-align: top;\n",
       "    }\n",
       "\n",
       "    .dataframe thead th {\n",
       "        text-align: right;\n",
       "    }\n",
       "</style>\n",
       "<table border=\"1\" class=\"dataframe\">\n",
       "  <thead>\n",
       "    <tr style=\"text-align: right;\">\n",
       "      <th></th>\n",
       "      <th>id</th>\n",
       "      <th>user_id</th>\n",
       "      <th>call_date</th>\n",
       "      <th>duration</th>\n",
       "    </tr>\n",
       "  </thead>\n",
       "  <tbody>\n",
       "    <tr>\n",
       "      <td>0</td>\n",
       "      <td>1000_93</td>\n",
       "      <td>1000</td>\n",
       "      <td>2018-12-27</td>\n",
       "      <td>8.52</td>\n",
       "    </tr>\n",
       "    <tr>\n",
       "      <td>1</td>\n",
       "      <td>1000_145</td>\n",
       "      <td>1000</td>\n",
       "      <td>2018-12-27</td>\n",
       "      <td>13.66</td>\n",
       "    </tr>\n",
       "    <tr>\n",
       "      <td>2</td>\n",
       "      <td>1000_247</td>\n",
       "      <td>1000</td>\n",
       "      <td>2018-12-27</td>\n",
       "      <td>14.48</td>\n",
       "    </tr>\n",
       "    <tr>\n",
       "      <td>3</td>\n",
       "      <td>1000_309</td>\n",
       "      <td>1000</td>\n",
       "      <td>2018-12-28</td>\n",
       "      <td>5.76</td>\n",
       "    </tr>\n",
       "    <tr>\n",
       "      <td>4</td>\n",
       "      <td>1000_380</td>\n",
       "      <td>1000</td>\n",
       "      <td>2018-12-30</td>\n",
       "      <td>4.22</td>\n",
       "    </tr>\n",
       "  </tbody>\n",
       "</table>\n",
       "</div>"
      ],
      "text/plain": [
       "         id  user_id   call_date  duration\n",
       "0   1000_93     1000  2018-12-27      8.52\n",
       "1  1000_145     1000  2018-12-27     13.66\n",
       "2  1000_247     1000  2018-12-27     14.48\n",
       "3  1000_309     1000  2018-12-28      5.76\n",
       "4  1000_380     1000  2018-12-30      4.22"
      ]
     },
     "execution_count": 4,
     "metadata": {},
     "output_type": "execute_result"
    }
   ],
   "source": [
    "df_calls.head()"
   ]
  },
  {
   "cell_type": "code",
   "execution_count": 5,
   "metadata": {},
   "outputs": [
    {
     "name": "stdout",
     "output_type": "stream",
     "text": [
      "<class 'pandas.core.frame.DataFrame'>\n",
      "RangeIndex: 104825 entries, 0 to 104824\n",
      "Data columns (total 4 columns):\n",
      "id              104825 non-null object\n",
      "user_id         104825 non-null int64\n",
      "session_date    104825 non-null object\n",
      "mb_used         104825 non-null float64\n",
      "dtypes: float64(1), int64(1), object(2)\n",
      "memory usage: 3.2+ MB\n"
     ]
    }
   ],
   "source": [
    "df_internet.info()"
   ]
  },
  {
   "cell_type": "code",
   "execution_count": 6,
   "metadata": {},
   "outputs": [
    {
     "data": {
      "text/html": [
       "<div>\n",
       "<style scoped>\n",
       "    .dataframe tbody tr th:only-of-type {\n",
       "        vertical-align: middle;\n",
       "    }\n",
       "\n",
       "    .dataframe tbody tr th {\n",
       "        vertical-align: top;\n",
       "    }\n",
       "\n",
       "    .dataframe thead th {\n",
       "        text-align: right;\n",
       "    }\n",
       "</style>\n",
       "<table border=\"1\" class=\"dataframe\">\n",
       "  <thead>\n",
       "    <tr style=\"text-align: right;\">\n",
       "      <th></th>\n",
       "      <th>id</th>\n",
       "      <th>user_id</th>\n",
       "      <th>session_date</th>\n",
       "      <th>mb_used</th>\n",
       "    </tr>\n",
       "  </thead>\n",
       "  <tbody>\n",
       "    <tr>\n",
       "      <td>0</td>\n",
       "      <td>1000_13</td>\n",
       "      <td>1000</td>\n",
       "      <td>2018-12-29</td>\n",
       "      <td>89.86</td>\n",
       "    </tr>\n",
       "    <tr>\n",
       "      <td>1</td>\n",
       "      <td>1000_204</td>\n",
       "      <td>1000</td>\n",
       "      <td>2018-12-31</td>\n",
       "      <td>0.00</td>\n",
       "    </tr>\n",
       "    <tr>\n",
       "      <td>2</td>\n",
       "      <td>1000_379</td>\n",
       "      <td>1000</td>\n",
       "      <td>2018-12-28</td>\n",
       "      <td>660.40</td>\n",
       "    </tr>\n",
       "    <tr>\n",
       "      <td>3</td>\n",
       "      <td>1000_413</td>\n",
       "      <td>1000</td>\n",
       "      <td>2018-12-26</td>\n",
       "      <td>270.99</td>\n",
       "    </tr>\n",
       "    <tr>\n",
       "      <td>4</td>\n",
       "      <td>1000_442</td>\n",
       "      <td>1000</td>\n",
       "      <td>2018-12-27</td>\n",
       "      <td>880.22</td>\n",
       "    </tr>\n",
       "  </tbody>\n",
       "</table>\n",
       "</div>"
      ],
      "text/plain": [
       "         id  user_id session_date  mb_used\n",
       "0   1000_13     1000   2018-12-29    89.86\n",
       "1  1000_204     1000   2018-12-31     0.00\n",
       "2  1000_379     1000   2018-12-28   660.40\n",
       "3  1000_413     1000   2018-12-26   270.99\n",
       "4  1000_442     1000   2018-12-27   880.22"
      ]
     },
     "execution_count": 6,
     "metadata": {},
     "output_type": "execute_result"
    }
   ],
   "source": [
    "df_internet.head()"
   ]
  },
  {
   "cell_type": "code",
   "execution_count": 7,
   "metadata": {},
   "outputs": [
    {
     "name": "stdout",
     "output_type": "stream",
     "text": [
      "<class 'pandas.core.frame.DataFrame'>\n",
      "RangeIndex: 76051 entries, 0 to 76050\n",
      "Data columns (total 3 columns):\n",
      "id              76051 non-null object\n",
      "user_id         76051 non-null int64\n",
      "message_date    76051 non-null object\n",
      "dtypes: int64(1), object(2)\n",
      "memory usage: 1.7+ MB\n"
     ]
    }
   ],
   "source": [
    "df_messages.info()"
   ]
  },
  {
   "cell_type": "code",
   "execution_count": 8,
   "metadata": {},
   "outputs": [
    {
     "data": {
      "text/html": [
       "<div>\n",
       "<style scoped>\n",
       "    .dataframe tbody tr th:only-of-type {\n",
       "        vertical-align: middle;\n",
       "    }\n",
       "\n",
       "    .dataframe tbody tr th {\n",
       "        vertical-align: top;\n",
       "    }\n",
       "\n",
       "    .dataframe thead th {\n",
       "        text-align: right;\n",
       "    }\n",
       "</style>\n",
       "<table border=\"1\" class=\"dataframe\">\n",
       "  <thead>\n",
       "    <tr style=\"text-align: right;\">\n",
       "      <th></th>\n",
       "      <th>id</th>\n",
       "      <th>user_id</th>\n",
       "      <th>message_date</th>\n",
       "    </tr>\n",
       "  </thead>\n",
       "  <tbody>\n",
       "    <tr>\n",
       "      <td>0</td>\n",
       "      <td>1000_125</td>\n",
       "      <td>1000</td>\n",
       "      <td>2018-12-27</td>\n",
       "    </tr>\n",
       "    <tr>\n",
       "      <td>1</td>\n",
       "      <td>1000_160</td>\n",
       "      <td>1000</td>\n",
       "      <td>2018-12-31</td>\n",
       "    </tr>\n",
       "    <tr>\n",
       "      <td>2</td>\n",
       "      <td>1000_223</td>\n",
       "      <td>1000</td>\n",
       "      <td>2018-12-31</td>\n",
       "    </tr>\n",
       "    <tr>\n",
       "      <td>3</td>\n",
       "      <td>1000_251</td>\n",
       "      <td>1000</td>\n",
       "      <td>2018-12-27</td>\n",
       "    </tr>\n",
       "    <tr>\n",
       "      <td>4</td>\n",
       "      <td>1000_255</td>\n",
       "      <td>1000</td>\n",
       "      <td>2018-12-26</td>\n",
       "    </tr>\n",
       "  </tbody>\n",
       "</table>\n",
       "</div>"
      ],
      "text/plain": [
       "         id  user_id message_date\n",
       "0  1000_125     1000   2018-12-27\n",
       "1  1000_160     1000   2018-12-31\n",
       "2  1000_223     1000   2018-12-31\n",
       "3  1000_251     1000   2018-12-27\n",
       "4  1000_255     1000   2018-12-26"
      ]
     },
     "execution_count": 8,
     "metadata": {},
     "output_type": "execute_result"
    }
   ],
   "source": [
    "df_messages.head()"
   ]
  },
  {
   "cell_type": "code",
   "execution_count": 9,
   "metadata": {},
   "outputs": [
    {
     "name": "stdout",
     "output_type": "stream",
     "text": [
      "<class 'pandas.core.frame.DataFrame'>\n",
      "RangeIndex: 2 entries, 0 to 1\n",
      "Data columns (total 8 columns):\n",
      "messages_included        2 non-null int64\n",
      "mb_per_month_included    2 non-null int64\n",
      "minutes_included         2 non-null int64\n",
      "usd_monthly_pay          2 non-null int64\n",
      "usd_per_gb               2 non-null int64\n",
      "usd_per_message          2 non-null float64\n",
      "usd_per_minute           2 non-null float64\n",
      "plan_name                2 non-null object\n",
      "dtypes: float64(2), int64(5), object(1)\n",
      "memory usage: 256.0+ bytes\n"
     ]
    }
   ],
   "source": [
    "df_plans.info()"
   ]
  },
  {
   "cell_type": "code",
   "execution_count": 10,
   "metadata": {},
   "outputs": [
    {
     "data": {
      "text/html": [
       "<div>\n",
       "<style scoped>\n",
       "    .dataframe tbody tr th:only-of-type {\n",
       "        vertical-align: middle;\n",
       "    }\n",
       "\n",
       "    .dataframe tbody tr th {\n",
       "        vertical-align: top;\n",
       "    }\n",
       "\n",
       "    .dataframe thead th {\n",
       "        text-align: right;\n",
       "    }\n",
       "</style>\n",
       "<table border=\"1\" class=\"dataframe\">\n",
       "  <thead>\n",
       "    <tr style=\"text-align: right;\">\n",
       "      <th></th>\n",
       "      <th>messages_included</th>\n",
       "      <th>mb_per_month_included</th>\n",
       "      <th>minutes_included</th>\n",
       "      <th>usd_monthly_pay</th>\n",
       "      <th>usd_per_gb</th>\n",
       "      <th>usd_per_message</th>\n",
       "      <th>usd_per_minute</th>\n",
       "      <th>plan_name</th>\n",
       "    </tr>\n",
       "  </thead>\n",
       "  <tbody>\n",
       "    <tr>\n",
       "      <td>0</td>\n",
       "      <td>50</td>\n",
       "      <td>15360</td>\n",
       "      <td>500</td>\n",
       "      <td>20</td>\n",
       "      <td>10</td>\n",
       "      <td>0.03</td>\n",
       "      <td>0.03</td>\n",
       "      <td>surf</td>\n",
       "    </tr>\n",
       "    <tr>\n",
       "      <td>1</td>\n",
       "      <td>1000</td>\n",
       "      <td>30720</td>\n",
       "      <td>3000</td>\n",
       "      <td>70</td>\n",
       "      <td>7</td>\n",
       "      <td>0.01</td>\n",
       "      <td>0.01</td>\n",
       "      <td>ultimate</td>\n",
       "    </tr>\n",
       "  </tbody>\n",
       "</table>\n",
       "</div>"
      ],
      "text/plain": [
       "   messages_included  mb_per_month_included  minutes_included  \\\n",
       "0                 50                  15360               500   \n",
       "1               1000                  30720              3000   \n",
       "\n",
       "   usd_monthly_pay  usd_per_gb  usd_per_message  usd_per_minute plan_name  \n",
       "0               20          10             0.03            0.03      surf  \n",
       "1               70           7             0.01            0.01  ultimate  "
      ]
     },
     "execution_count": 10,
     "metadata": {},
     "output_type": "execute_result"
    }
   ],
   "source": [
    "df_plans.head()"
   ]
  },
  {
   "cell_type": "code",
   "execution_count": 11,
   "metadata": {},
   "outputs": [
    {
     "name": "stdout",
     "output_type": "stream",
     "text": [
      "<class 'pandas.core.frame.DataFrame'>\n",
      "RangeIndex: 500 entries, 0 to 499\n",
      "Data columns (total 8 columns):\n",
      "user_id       500 non-null int64\n",
      "first_name    500 non-null object\n",
      "last_name     500 non-null object\n",
      "age           500 non-null int64\n",
      "city          500 non-null object\n",
      "reg_date      500 non-null object\n",
      "plan          500 non-null object\n",
      "churn_date    34 non-null object\n",
      "dtypes: int64(2), object(6)\n",
      "memory usage: 31.4+ KB\n"
     ]
    }
   ],
   "source": [
    "df_users.info()"
   ]
  },
  {
   "cell_type": "code",
   "execution_count": 12,
   "metadata": {},
   "outputs": [
    {
     "data": {
      "text/html": [
       "<div>\n",
       "<style scoped>\n",
       "    .dataframe tbody tr th:only-of-type {\n",
       "        vertical-align: middle;\n",
       "    }\n",
       "\n",
       "    .dataframe tbody tr th {\n",
       "        vertical-align: top;\n",
       "    }\n",
       "\n",
       "    .dataframe thead th {\n",
       "        text-align: right;\n",
       "    }\n",
       "</style>\n",
       "<table border=\"1\" class=\"dataframe\">\n",
       "  <thead>\n",
       "    <tr style=\"text-align: right;\">\n",
       "      <th></th>\n",
       "      <th>user_id</th>\n",
       "      <th>first_name</th>\n",
       "      <th>last_name</th>\n",
       "      <th>age</th>\n",
       "      <th>city</th>\n",
       "      <th>reg_date</th>\n",
       "      <th>plan</th>\n",
       "      <th>churn_date</th>\n",
       "    </tr>\n",
       "  </thead>\n",
       "  <tbody>\n",
       "    <tr>\n",
       "      <td>0</td>\n",
       "      <td>1000</td>\n",
       "      <td>Anamaria</td>\n",
       "      <td>Bauer</td>\n",
       "      <td>45</td>\n",
       "      <td>Atlanta-Sandy Springs-Roswell, GA MSA</td>\n",
       "      <td>2018-12-24</td>\n",
       "      <td>ultimate</td>\n",
       "      <td>NaN</td>\n",
       "    </tr>\n",
       "    <tr>\n",
       "      <td>1</td>\n",
       "      <td>1001</td>\n",
       "      <td>Mickey</td>\n",
       "      <td>Wilkerson</td>\n",
       "      <td>28</td>\n",
       "      <td>Seattle-Tacoma-Bellevue, WA MSA</td>\n",
       "      <td>2018-08-13</td>\n",
       "      <td>surf</td>\n",
       "      <td>NaN</td>\n",
       "    </tr>\n",
       "    <tr>\n",
       "      <td>2</td>\n",
       "      <td>1002</td>\n",
       "      <td>Carlee</td>\n",
       "      <td>Hoffman</td>\n",
       "      <td>36</td>\n",
       "      <td>Las Vegas-Henderson-Paradise, NV MSA</td>\n",
       "      <td>2018-10-21</td>\n",
       "      <td>surf</td>\n",
       "      <td>NaN</td>\n",
       "    </tr>\n",
       "    <tr>\n",
       "      <td>3</td>\n",
       "      <td>1003</td>\n",
       "      <td>Reynaldo</td>\n",
       "      <td>Jenkins</td>\n",
       "      <td>52</td>\n",
       "      <td>Tulsa, OK MSA</td>\n",
       "      <td>2018-01-28</td>\n",
       "      <td>surf</td>\n",
       "      <td>NaN</td>\n",
       "    </tr>\n",
       "    <tr>\n",
       "      <td>4</td>\n",
       "      <td>1004</td>\n",
       "      <td>Leonila</td>\n",
       "      <td>Thompson</td>\n",
       "      <td>40</td>\n",
       "      <td>Seattle-Tacoma-Bellevue, WA MSA</td>\n",
       "      <td>2018-05-23</td>\n",
       "      <td>surf</td>\n",
       "      <td>NaN</td>\n",
       "    </tr>\n",
       "  </tbody>\n",
       "</table>\n",
       "</div>"
      ],
      "text/plain": [
       "   user_id first_name  last_name  age                                   city  \\\n",
       "0     1000   Anamaria      Bauer   45  Atlanta-Sandy Springs-Roswell, GA MSA   \n",
       "1     1001     Mickey  Wilkerson   28        Seattle-Tacoma-Bellevue, WA MSA   \n",
       "2     1002     Carlee    Hoffman   36   Las Vegas-Henderson-Paradise, NV MSA   \n",
       "3     1003   Reynaldo    Jenkins   52                          Tulsa, OK MSA   \n",
       "4     1004    Leonila   Thompson   40        Seattle-Tacoma-Bellevue, WA MSA   \n",
       "\n",
       "     reg_date      plan churn_date  \n",
       "0  2018-12-24  ultimate        NaN  \n",
       "1  2018-08-13      surf        NaN  \n",
       "2  2018-10-21      surf        NaN  \n",
       "3  2018-01-28      surf        NaN  \n",
       "4  2018-05-23      surf        NaN  "
      ]
     },
     "execution_count": 12,
     "metadata": {},
     "output_type": "execute_result"
    }
   ],
   "source": [
    "df_users.head()"
   ]
  },
  {
   "cell_type": "markdown",
   "metadata": {},
   "source": [
    "### Conclusion\n"
   ]
  },
  {
   "cell_type": "markdown",
   "metadata": {},
   "source": [
    "5 data frames have been loaded (df_calls, df_internet, df_messages, df_plans, df_users)\n",
    "- The plans table has 2 rows in 8 columns and there are no missing values and no duplicate rows. The information matches the information given in the program brief.\n",
    "- Df_users date has missing values in 'churn_date' column.\n",
    "- Needs to find and fix data error.\n",
    "- In the future, it is necessary to find and eliminate errors in the data.\n"
   ]
  },
  {
   "cell_type": "markdown",
   "metadata": {},
   "source": [
    "## Data preprocessing."
   ]
  },
  {
   "cell_type": "code",
   "execution_count": 13,
   "metadata": {},
   "outputs": [],
   "source": [
    "df_calls['call_date'] = pd.to_datetime(df_calls['call_date'], format = '%Y-%m-%d')\n",
    "#For further work, we need 'call_date' and 'duration', but because our tariff is paid once a month, we are not \n",
    "#interested in the exact date, we are interested in grouping the duration of calls for each client by months."
   ]
  },
  {
   "cell_type": "code",
   "execution_count": 14,
   "metadata": {},
   "outputs": [],
   "source": [
    "df_calls['duration'] = np.ceil(df_calls['duration'])\n",
    "# round up call times up\n"
   ]
  },
  {
   "cell_type": "code",
   "execution_count": 15,
   "metadata": {},
   "outputs": [
    {
     "data": {
      "text/html": [
       "<div>\n",
       "<style scoped>\n",
       "    .dataframe tbody tr th:only-of-type {\n",
       "        vertical-align: middle;\n",
       "    }\n",
       "\n",
       "    .dataframe tbody tr th {\n",
       "        vertical-align: top;\n",
       "    }\n",
       "\n",
       "    .dataframe thead th {\n",
       "        text-align: right;\n",
       "    }\n",
       "</style>\n",
       "<table border=\"1\" class=\"dataframe\">\n",
       "  <thead>\n",
       "    <tr style=\"text-align: right;\">\n",
       "      <th></th>\n",
       "      <th>id</th>\n",
       "      <th>user_id</th>\n",
       "      <th>call_date</th>\n",
       "      <th>duration</th>\n",
       "      <th>call_date_month</th>\n",
       "    </tr>\n",
       "  </thead>\n",
       "  <tbody>\n",
       "    <tr>\n",
       "      <td>0</td>\n",
       "      <td>1000_93</td>\n",
       "      <td>1000</td>\n",
       "      <td>2018-12-27</td>\n",
       "      <td>9.0</td>\n",
       "      <td>12</td>\n",
       "    </tr>\n",
       "    <tr>\n",
       "      <td>1</td>\n",
       "      <td>1000_145</td>\n",
       "      <td>1000</td>\n",
       "      <td>2018-12-27</td>\n",
       "      <td>14.0</td>\n",
       "      <td>12</td>\n",
       "    </tr>\n",
       "    <tr>\n",
       "      <td>2</td>\n",
       "      <td>1000_247</td>\n",
       "      <td>1000</td>\n",
       "      <td>2018-12-27</td>\n",
       "      <td>15.0</td>\n",
       "      <td>12</td>\n",
       "    </tr>\n",
       "    <tr>\n",
       "      <td>3</td>\n",
       "      <td>1000_309</td>\n",
       "      <td>1000</td>\n",
       "      <td>2018-12-28</td>\n",
       "      <td>6.0</td>\n",
       "      <td>12</td>\n",
       "    </tr>\n",
       "    <tr>\n",
       "      <td>4</td>\n",
       "      <td>1000_380</td>\n",
       "      <td>1000</td>\n",
       "      <td>2018-12-30</td>\n",
       "      <td>5.0</td>\n",
       "      <td>12</td>\n",
       "    </tr>\n",
       "  </tbody>\n",
       "</table>\n",
       "</div>"
      ],
      "text/plain": [
       "         id  user_id  call_date  duration  call_date_month\n",
       "0   1000_93     1000 2018-12-27       9.0               12\n",
       "1  1000_145     1000 2018-12-27      14.0               12\n",
       "2  1000_247     1000 2018-12-27      15.0               12\n",
       "3  1000_309     1000 2018-12-28       6.0               12\n",
       "4  1000_380     1000 2018-12-30       5.0               12"
      ]
     },
     "execution_count": 15,
     "metadata": {},
     "output_type": "execute_result"
    }
   ],
   "source": [
    "df_calls['call_date_month'] = df_calls['call_date'].dt.month\n",
    "df_calls.head()"
   ]
  },
  {
   "cell_type": "code",
   "execution_count": 16,
   "metadata": {},
   "outputs": [
    {
     "data": {
      "text/plain": [
       "count    137735.000000\n",
       "mean          7.146673\n",
       "std           5.953919\n",
       "min           0.000000\n",
       "25%           2.000000\n",
       "50%           6.000000\n",
       "75%          11.000000\n",
       "max          38.000000\n",
       "Name: duration, dtype: float64"
      ]
     },
     "execution_count": 16,
     "metadata": {},
     "output_type": "execute_result"
    }
   ],
   "source": [
    "df_calls['duration'].describe()"
   ]
  },
  {
   "cell_type": "code",
   "execution_count": 17,
   "metadata": {},
   "outputs": [
    {
     "data": {
      "text/plain": [
       "duration\n",
       "0.0     26834\n",
       "1.0      5795\n",
       "2.0      6446\n",
       "3.0      6942\n",
       "4.0      7434\n",
       "5.0      7778\n",
       "6.0      7848\n",
       "7.0      7769\n",
       "8.0      7718\n",
       "9.0      7357\n",
       "10.0     6918\n",
       "11.0     6407\n",
       "12.0     5750\n",
       "13.0     5070\n",
       "14.0     4402\n",
       "15.0     3889\n",
       "16.0     3011\n",
       "17.0     2461\n",
       "18.0     1992\n",
       "19.0     1604\n",
       "20.0     1243\n",
       "21.0      910\n",
       "22.0      671\n",
       "23.0      461\n",
       "24.0      324\n",
       "25.0      235\n",
       "26.0      157\n",
       "27.0      118\n",
       "28.0       62\n",
       "29.0       58\n",
       "30.0       27\n",
       "31.0       18\n",
       "32.0       13\n",
       "33.0        6\n",
       "34.0        2\n",
       "36.0        3\n",
       "37.0        1\n",
       "38.0        1\n",
       "Name: user_id, dtype: int64"
      ]
     },
     "execution_count": 17,
     "metadata": {},
     "output_type": "execute_result"
    }
   ],
   "source": [
    "df_calls.groupby('duration')['user_id'].count()\n",
    "# There are 26834 zero in the 'duration' column, I assume this is a customer's attempt to call, but \n",
    "#the other person did not pick up the phone. Since Megaline rounds everything up, I replaced 0 with 1."
   ]
  },
  {
   "cell_type": "code",
   "execution_count": 18,
   "metadata": {},
   "outputs": [],
   "source": [
    "df_calls['duration'] = df_calls['duration'].replace(0,1)"
   ]
  },
  {
   "cell_type": "code",
   "execution_count": 19,
   "metadata": {},
   "outputs": [
    {
     "data": {
      "text/plain": [
       "count    137735.000000\n",
       "mean          7.341496\n",
       "std           5.728989\n",
       "min           1.000000\n",
       "25%           2.000000\n",
       "50%           6.000000\n",
       "75%          11.000000\n",
       "max          38.000000\n",
       "Name: duration, dtype: float64"
      ]
     },
     "execution_count": 19,
     "metadata": {},
     "output_type": "execute_result"
    }
   ],
   "source": [
    "df_calls['duration'].describe()"
   ]
  },
  {
   "cell_type": "code",
   "execution_count": 20,
   "metadata": {},
   "outputs": [
    {
     "data": {
      "text/html": [
       "<div>\n",
       "<style scoped>\n",
       "    .dataframe tbody tr th:only-of-type {\n",
       "        vertical-align: middle;\n",
       "    }\n",
       "\n",
       "    .dataframe tbody tr th {\n",
       "        vertical-align: top;\n",
       "    }\n",
       "\n",
       "    .dataframe thead th {\n",
       "        text-align: right;\n",
       "    }\n",
       "</style>\n",
       "<table border=\"1\" class=\"dataframe\">\n",
       "  <thead>\n",
       "    <tr style=\"text-align: right;\">\n",
       "      <th></th>\n",
       "      <th></th>\n",
       "      <th>count</th>\n",
       "      <th>sum</th>\n",
       "    </tr>\n",
       "    <tr>\n",
       "      <th>user_id</th>\n",
       "      <th>call_date_month</th>\n",
       "      <th></th>\n",
       "      <th></th>\n",
       "    </tr>\n",
       "  </thead>\n",
       "  <tbody>\n",
       "    <tr>\n",
       "      <td>1000</td>\n",
       "      <td>12</td>\n",
       "      <td>16</td>\n",
       "      <td>124.0</td>\n",
       "    </tr>\n",
       "    <tr>\n",
       "      <td rowspan=\"4\" valign=\"top\">1001</td>\n",
       "      <td>8</td>\n",
       "      <td>27</td>\n",
       "      <td>187.0</td>\n",
       "    </tr>\n",
       "    <tr>\n",
       "      <td>9</td>\n",
       "      <td>49</td>\n",
       "      <td>326.0</td>\n",
       "    </tr>\n",
       "    <tr>\n",
       "      <td>10</td>\n",
       "      <td>65</td>\n",
       "      <td>411.0</td>\n",
       "    </tr>\n",
       "    <tr>\n",
       "      <td>11</td>\n",
       "      <td>64</td>\n",
       "      <td>441.0</td>\n",
       "    </tr>\n",
       "  </tbody>\n",
       "</table>\n",
       "</div>"
      ],
      "text/plain": [
       "                         count    sum\n",
       "user_id call_date_month              \n",
       "1000    12                  16  124.0\n",
       "1001    8                   27  187.0\n",
       "        9                   49  326.0\n",
       "        10                  65  411.0\n",
       "        11                  64  441.0"
      ]
     },
     "execution_count": 20,
     "metadata": {},
     "output_type": "execute_result"
    }
   ],
   "source": [
    "df_calls_grouped = df_calls.groupby(by = ['user_id', 'call_date_month'])['duration'].agg(['count','sum'])\n",
    "df_calls_grouped.head()\n",
    "# Grouped table by all users and months showing how many calls were made each month and how many minutes\n",
    "#they spent in total per month"
   ]
  },
  {
   "cell_type": "code",
   "execution_count": 21,
   "metadata": {},
   "outputs": [],
   "source": [
    "df_internet['session_date'] = pd.to_datetime(df_internet['session_date'], format = '%Y-%m-%d')"
   ]
  },
  {
   "cell_type": "code",
   "execution_count": 22,
   "metadata": {},
   "outputs": [
    {
     "data": {
      "text/html": [
       "<div>\n",
       "<style scoped>\n",
       "    .dataframe tbody tr th:only-of-type {\n",
       "        vertical-align: middle;\n",
       "    }\n",
       "\n",
       "    .dataframe tbody tr th {\n",
       "        vertical-align: top;\n",
       "    }\n",
       "\n",
       "    .dataframe thead th {\n",
       "        text-align: right;\n",
       "    }\n",
       "</style>\n",
       "<table border=\"1\" class=\"dataframe\">\n",
       "  <thead>\n",
       "    <tr style=\"text-align: right;\">\n",
       "      <th></th>\n",
       "      <th>id</th>\n",
       "      <th>user_id</th>\n",
       "      <th>session_date</th>\n",
       "      <th>mb_used</th>\n",
       "      <th>session_date_month</th>\n",
       "    </tr>\n",
       "  </thead>\n",
       "  <tbody>\n",
       "    <tr>\n",
       "      <td>0</td>\n",
       "      <td>1000_13</td>\n",
       "      <td>1000</td>\n",
       "      <td>2018-12-29</td>\n",
       "      <td>89.86</td>\n",
       "      <td>12</td>\n",
       "    </tr>\n",
       "    <tr>\n",
       "      <td>1</td>\n",
       "      <td>1000_204</td>\n",
       "      <td>1000</td>\n",
       "      <td>2018-12-31</td>\n",
       "      <td>0.00</td>\n",
       "      <td>12</td>\n",
       "    </tr>\n",
       "    <tr>\n",
       "      <td>2</td>\n",
       "      <td>1000_379</td>\n",
       "      <td>1000</td>\n",
       "      <td>2018-12-28</td>\n",
       "      <td>660.40</td>\n",
       "      <td>12</td>\n",
       "    </tr>\n",
       "    <tr>\n",
       "      <td>3</td>\n",
       "      <td>1000_413</td>\n",
       "      <td>1000</td>\n",
       "      <td>2018-12-26</td>\n",
       "      <td>270.99</td>\n",
       "      <td>12</td>\n",
       "    </tr>\n",
       "    <tr>\n",
       "      <td>4</td>\n",
       "      <td>1000_442</td>\n",
       "      <td>1000</td>\n",
       "      <td>2018-12-27</td>\n",
       "      <td>880.22</td>\n",
       "      <td>12</td>\n",
       "    </tr>\n",
       "  </tbody>\n",
       "</table>\n",
       "</div>"
      ],
      "text/plain": [
       "         id  user_id session_date  mb_used  session_date_month\n",
       "0   1000_13     1000   2018-12-29    89.86                  12\n",
       "1  1000_204     1000   2018-12-31     0.00                  12\n",
       "2  1000_379     1000   2018-12-28   660.40                  12\n",
       "3  1000_413     1000   2018-12-26   270.99                  12\n",
       "4  1000_442     1000   2018-12-27   880.22                  12"
      ]
     },
     "execution_count": 22,
     "metadata": {},
     "output_type": "execute_result"
    }
   ],
   "source": [
    "df_internet['session_date_month'] = df_internet['session_date'].dt.month\n",
    "df_internet.head()"
   ]
  },
  {
   "cell_type": "code",
   "execution_count": 23,
   "metadata": {},
   "outputs": [
    {
     "data": {
      "text/html": [
       "<div>\n",
       "<style scoped>\n",
       "    .dataframe tbody tr th:only-of-type {\n",
       "        vertical-align: middle;\n",
       "    }\n",
       "\n",
       "    .dataframe tbody tr th {\n",
       "        vertical-align: top;\n",
       "    }\n",
       "\n",
       "    .dataframe thead th {\n",
       "        text-align: right;\n",
       "    }\n",
       "</style>\n",
       "<table border=\"1\" class=\"dataframe\">\n",
       "  <thead>\n",
       "    <tr style=\"text-align: right;\">\n",
       "      <th></th>\n",
       "      <th>id</th>\n",
       "      <th>user_id</th>\n",
       "      <th>session_date</th>\n",
       "      <th>mb_used</th>\n",
       "      <th>session_date_month</th>\n",
       "      <th>gb_used</th>\n",
       "    </tr>\n",
       "  </thead>\n",
       "  <tbody>\n",
       "    <tr>\n",
       "      <td>0</td>\n",
       "      <td>1000_13</td>\n",
       "      <td>1000</td>\n",
       "      <td>2018-12-29</td>\n",
       "      <td>89.86</td>\n",
       "      <td>12</td>\n",
       "      <td>0.087754</td>\n",
       "    </tr>\n",
       "    <tr>\n",
       "      <td>1</td>\n",
       "      <td>1000_204</td>\n",
       "      <td>1000</td>\n",
       "      <td>2018-12-31</td>\n",
       "      <td>0.00</td>\n",
       "      <td>12</td>\n",
       "      <td>0.000000</td>\n",
       "    </tr>\n",
       "    <tr>\n",
       "      <td>2</td>\n",
       "      <td>1000_379</td>\n",
       "      <td>1000</td>\n",
       "      <td>2018-12-28</td>\n",
       "      <td>660.40</td>\n",
       "      <td>12</td>\n",
       "      <td>0.644922</td>\n",
       "    </tr>\n",
       "    <tr>\n",
       "      <td>3</td>\n",
       "      <td>1000_413</td>\n",
       "      <td>1000</td>\n",
       "      <td>2018-12-26</td>\n",
       "      <td>270.99</td>\n",
       "      <td>12</td>\n",
       "      <td>0.264639</td>\n",
       "    </tr>\n",
       "    <tr>\n",
       "      <td>4</td>\n",
       "      <td>1000_442</td>\n",
       "      <td>1000</td>\n",
       "      <td>2018-12-27</td>\n",
       "      <td>880.22</td>\n",
       "      <td>12</td>\n",
       "      <td>0.859590</td>\n",
       "    </tr>\n",
       "  </tbody>\n",
       "</table>\n",
       "</div>"
      ],
      "text/plain": [
       "         id  user_id session_date  mb_used  session_date_month   gb_used\n",
       "0   1000_13     1000   2018-12-29    89.86                  12  0.087754\n",
       "1  1000_204     1000   2018-12-31     0.00                  12  0.000000\n",
       "2  1000_379     1000   2018-12-28   660.40                  12  0.644922\n",
       "3  1000_413     1000   2018-12-26   270.99                  12  0.264639\n",
       "4  1000_442     1000   2018-12-27   880.22                  12  0.859590"
      ]
     },
     "execution_count": 23,
     "metadata": {},
     "output_type": "execute_result"
    }
   ],
   "source": [
    "df_internet['gb_used'] = df_internet['mb_used']/1024\n",
    "df_internet.head()"
   ]
  },
  {
   "cell_type": "code",
   "execution_count": 24,
   "metadata": {},
   "outputs": [
    {
     "data": {
      "text/html": [
       "<div>\n",
       "<style scoped>\n",
       "    .dataframe tbody tr th:only-of-type {\n",
       "        vertical-align: middle;\n",
       "    }\n",
       "\n",
       "    .dataframe tbody tr th {\n",
       "        vertical-align: top;\n",
       "    }\n",
       "\n",
       "    .dataframe thead th {\n",
       "        text-align: right;\n",
       "    }\n",
       "</style>\n",
       "<table border=\"1\" class=\"dataframe\">\n",
       "  <thead>\n",
       "    <tr style=\"text-align: right;\">\n",
       "      <th></th>\n",
       "      <th>id</th>\n",
       "      <th>user_id</th>\n",
       "      <th>session_date</th>\n",
       "      <th>mb_used</th>\n",
       "      <th>session_date_month</th>\n",
       "      <th>gb_used</th>\n",
       "    </tr>\n",
       "  </thead>\n",
       "  <tbody>\n",
       "    <tr>\n",
       "      <td>0</td>\n",
       "      <td>1000_13</td>\n",
       "      <td>1000</td>\n",
       "      <td>2018-12-29</td>\n",
       "      <td>90.0</td>\n",
       "      <td>12</td>\n",
       "      <td>0.087754</td>\n",
       "    </tr>\n",
       "    <tr>\n",
       "      <td>1</td>\n",
       "      <td>1000_204</td>\n",
       "      <td>1000</td>\n",
       "      <td>2018-12-31</td>\n",
       "      <td>0.0</td>\n",
       "      <td>12</td>\n",
       "      <td>0.000000</td>\n",
       "    </tr>\n",
       "    <tr>\n",
       "      <td>2</td>\n",
       "      <td>1000_379</td>\n",
       "      <td>1000</td>\n",
       "      <td>2018-12-28</td>\n",
       "      <td>661.0</td>\n",
       "      <td>12</td>\n",
       "      <td>0.644922</td>\n",
       "    </tr>\n",
       "    <tr>\n",
       "      <td>3</td>\n",
       "      <td>1000_413</td>\n",
       "      <td>1000</td>\n",
       "      <td>2018-12-26</td>\n",
       "      <td>271.0</td>\n",
       "      <td>12</td>\n",
       "      <td>0.264639</td>\n",
       "    </tr>\n",
       "    <tr>\n",
       "      <td>4</td>\n",
       "      <td>1000_442</td>\n",
       "      <td>1000</td>\n",
       "      <td>2018-12-27</td>\n",
       "      <td>881.0</td>\n",
       "      <td>12</td>\n",
       "      <td>0.859590</td>\n",
       "    </tr>\n",
       "  </tbody>\n",
       "</table>\n",
       "</div>"
      ],
      "text/plain": [
       "         id  user_id session_date  mb_used  session_date_month   gb_used\n",
       "0   1000_13     1000   2018-12-29     90.0                  12  0.087754\n",
       "1  1000_204     1000   2018-12-31      0.0                  12  0.000000\n",
       "2  1000_379     1000   2018-12-28    661.0                  12  0.644922\n",
       "3  1000_413     1000   2018-12-26    271.0                  12  0.264639\n",
       "4  1000_442     1000   2018-12-27    881.0                  12  0.859590"
      ]
     },
     "execution_count": 24,
     "metadata": {},
     "output_type": "execute_result"
    }
   ],
   "source": [
    "df_internet['mb_used'] = np.ceil(df_internet['mb_used'])\n",
    "df_internet.head()"
   ]
  },
  {
   "cell_type": "code",
   "execution_count": 25,
   "metadata": {},
   "outputs": [
    {
     "data": {
      "text/plain": [
       "user_id  session_date_month\n",
       "1000     12                     1.856904\n",
       "1001     8                      6.756982\n",
       "         9                     13.002754\n",
       "         10                    21.807119\n",
       "         11                    18.070605\n",
       "Name: gb_used, dtype: float64"
      ]
     },
     "execution_count": 25,
     "metadata": {},
     "output_type": "execute_result"
    }
   ],
   "source": [
    "df_internet_grouped = df_internet.groupby(by = ['user_id', 'session_date_month'])['gb_used'].sum()\n",
    "df_internet_grouped.head()\n",
    "#Grouped data by user and month."
   ]
  },
  {
   "cell_type": "code",
   "execution_count": 26,
   "metadata": {},
   "outputs": [],
   "source": [
    "df_messages['message_date'] = pd.to_datetime(df_messages['message_date'], format = '%Y-%m-%d')"
   ]
  },
  {
   "cell_type": "code",
   "execution_count": 27,
   "metadata": {},
   "outputs": [
    {
     "data": {
      "text/html": [
       "<div>\n",
       "<style scoped>\n",
       "    .dataframe tbody tr th:only-of-type {\n",
       "        vertical-align: middle;\n",
       "    }\n",
       "\n",
       "    .dataframe tbody tr th {\n",
       "        vertical-align: top;\n",
       "    }\n",
       "\n",
       "    .dataframe thead th {\n",
       "        text-align: right;\n",
       "    }\n",
       "</style>\n",
       "<table border=\"1\" class=\"dataframe\">\n",
       "  <thead>\n",
       "    <tr style=\"text-align: right;\">\n",
       "      <th></th>\n",
       "      <th>id</th>\n",
       "      <th>user_id</th>\n",
       "      <th>message_date</th>\n",
       "      <th>message_date_month</th>\n",
       "    </tr>\n",
       "  </thead>\n",
       "  <tbody>\n",
       "    <tr>\n",
       "      <td>0</td>\n",
       "      <td>1000_125</td>\n",
       "      <td>1000</td>\n",
       "      <td>2018-12-27</td>\n",
       "      <td>12</td>\n",
       "    </tr>\n",
       "    <tr>\n",
       "      <td>1</td>\n",
       "      <td>1000_160</td>\n",
       "      <td>1000</td>\n",
       "      <td>2018-12-31</td>\n",
       "      <td>12</td>\n",
       "    </tr>\n",
       "    <tr>\n",
       "      <td>2</td>\n",
       "      <td>1000_223</td>\n",
       "      <td>1000</td>\n",
       "      <td>2018-12-31</td>\n",
       "      <td>12</td>\n",
       "    </tr>\n",
       "    <tr>\n",
       "      <td>3</td>\n",
       "      <td>1000_251</td>\n",
       "      <td>1000</td>\n",
       "      <td>2018-12-27</td>\n",
       "      <td>12</td>\n",
       "    </tr>\n",
       "    <tr>\n",
       "      <td>4</td>\n",
       "      <td>1000_255</td>\n",
       "      <td>1000</td>\n",
       "      <td>2018-12-26</td>\n",
       "      <td>12</td>\n",
       "    </tr>\n",
       "  </tbody>\n",
       "</table>\n",
       "</div>"
      ],
      "text/plain": [
       "         id  user_id message_date  message_date_month\n",
       "0  1000_125     1000   2018-12-27                  12\n",
       "1  1000_160     1000   2018-12-31                  12\n",
       "2  1000_223     1000   2018-12-31                  12\n",
       "3  1000_251     1000   2018-12-27                  12\n",
       "4  1000_255     1000   2018-12-26                  12"
      ]
     },
     "execution_count": 27,
     "metadata": {},
     "output_type": "execute_result"
    }
   ],
   "source": [
    "df_messages['message_date_month'] = df_messages['message_date'].dt.month\n",
    "df_messages.head()"
   ]
  },
  {
   "cell_type": "code",
   "execution_count": 28,
   "metadata": {},
   "outputs": [
    {
     "data": {
      "text/plain": [
       "user_id  message_date_month\n",
       "1000     12                    11\n",
       "1001     8                     30\n",
       "         9                     44\n",
       "         10                    53\n",
       "         11                    36\n",
       "                               ..\n",
       "1496     9                     21\n",
       "         10                    18\n",
       "         11                    13\n",
       "         12                    11\n",
       "1497     12                    50\n",
       "Name: id, Length: 1806, dtype: int64"
      ]
     },
     "execution_count": 28,
     "metadata": {},
     "output_type": "execute_result"
    }
   ],
   "source": [
    "df_messages_grouped = df_messages.groupby(by = ['user_id', 'message_date_month'])['id'].count()\n",
    "df_messages_grouped"
   ]
  },
  {
   "cell_type": "code",
   "execution_count": 29,
   "metadata": {},
   "outputs": [
    {
     "data": {
      "text/plain": [
       "count             34\n",
       "unique            29\n",
       "top       2018-12-18\n",
       "freq               3\n",
       "Name: churn_date, dtype: object"
      ]
     },
     "execution_count": 29,
     "metadata": {},
     "output_type": "execute_result"
    }
   ],
   "source": [
    "df_users['churn_date'].describe()"
   ]
  },
  {
   "cell_type": "code",
   "execution_count": 30,
   "metadata": {},
   "outputs": [
    {
     "data": {
      "text/plain": [
       "466"
      ]
     },
     "execution_count": 30,
     "metadata": {},
     "output_type": "execute_result"
    }
   ],
   "source": [
    "df_users['churn_date'].isna().sum()"
   ]
  },
  {
   "cell_type": "code",
   "execution_count": 31,
   "metadata": {},
   "outputs": [
    {
     "data": {
      "text/html": [
       "<div>\n",
       "<style scoped>\n",
       "    .dataframe tbody tr th:only-of-type {\n",
       "        vertical-align: middle;\n",
       "    }\n",
       "\n",
       "    .dataframe tbody tr th {\n",
       "        vertical-align: top;\n",
       "    }\n",
       "\n",
       "    .dataframe thead th {\n",
       "        text-align: right;\n",
       "    }\n",
       "</style>\n",
       "<table border=\"1\" class=\"dataframe\">\n",
       "  <thead>\n",
       "    <tr style=\"text-align: right;\">\n",
       "      <th></th>\n",
       "      <th>user_id</th>\n",
       "      <th>first_name</th>\n",
       "      <th>last_name</th>\n",
       "      <th>age</th>\n",
       "      <th>city</th>\n",
       "      <th>reg_date</th>\n",
       "      <th>plan</th>\n",
       "      <th>churn_date</th>\n",
       "    </tr>\n",
       "  </thead>\n",
       "  <tbody>\n",
       "    <tr>\n",
       "      <td>0</td>\n",
       "      <td>1000</td>\n",
       "      <td>Anamaria</td>\n",
       "      <td>Bauer</td>\n",
       "      <td>45</td>\n",
       "      <td>Atlanta-Sandy Springs-Roswell, GA MSA</td>\n",
       "      <td>2018-12-24</td>\n",
       "      <td>ultimate</td>\n",
       "      <td>NaN</td>\n",
       "    </tr>\n",
       "    <tr>\n",
       "      <td>1</td>\n",
       "      <td>1001</td>\n",
       "      <td>Mickey</td>\n",
       "      <td>Wilkerson</td>\n",
       "      <td>28</td>\n",
       "      <td>Seattle-Tacoma-Bellevue, WA MSA</td>\n",
       "      <td>2018-08-13</td>\n",
       "      <td>surf</td>\n",
       "      <td>NaN</td>\n",
       "    </tr>\n",
       "    <tr>\n",
       "      <td>2</td>\n",
       "      <td>1002</td>\n",
       "      <td>Carlee</td>\n",
       "      <td>Hoffman</td>\n",
       "      <td>36</td>\n",
       "      <td>Las Vegas-Henderson-Paradise, NV MSA</td>\n",
       "      <td>2018-10-21</td>\n",
       "      <td>surf</td>\n",
       "      <td>NaN</td>\n",
       "    </tr>\n",
       "    <tr>\n",
       "      <td>3</td>\n",
       "      <td>1003</td>\n",
       "      <td>Reynaldo</td>\n",
       "      <td>Jenkins</td>\n",
       "      <td>52</td>\n",
       "      <td>Tulsa, OK MSA</td>\n",
       "      <td>2018-01-28</td>\n",
       "      <td>surf</td>\n",
       "      <td>NaN</td>\n",
       "    </tr>\n",
       "    <tr>\n",
       "      <td>4</td>\n",
       "      <td>1004</td>\n",
       "      <td>Leonila</td>\n",
       "      <td>Thompson</td>\n",
       "      <td>40</td>\n",
       "      <td>Seattle-Tacoma-Bellevue, WA MSA</td>\n",
       "      <td>2018-05-23</td>\n",
       "      <td>surf</td>\n",
       "      <td>NaN</td>\n",
       "    </tr>\n",
       "  </tbody>\n",
       "</table>\n",
       "</div>"
      ],
      "text/plain": [
       "   user_id first_name  last_name  age                                   city  \\\n",
       "0     1000   Anamaria      Bauer   45  Atlanta-Sandy Springs-Roswell, GA MSA   \n",
       "1     1001     Mickey  Wilkerson   28        Seattle-Tacoma-Bellevue, WA MSA   \n",
       "2     1002     Carlee    Hoffman   36   Las Vegas-Henderson-Paradise, NV MSA   \n",
       "3     1003   Reynaldo    Jenkins   52                          Tulsa, OK MSA   \n",
       "4     1004    Leonila   Thompson   40        Seattle-Tacoma-Bellevue, WA MSA   \n",
       "\n",
       "     reg_date      plan churn_date  \n",
       "0  2018-12-24  ultimate        NaN  \n",
       "1  2018-08-13      surf        NaN  \n",
       "2  2018-10-21      surf        NaN  \n",
       "3  2018-01-28      surf        NaN  \n",
       "4  2018-05-23      surf        NaN  "
      ]
     },
     "execution_count": 31,
     "metadata": {},
     "output_type": "execute_result"
    }
   ],
   "source": [
    "df_users.head()"
   ]
  },
  {
   "cell_type": "code",
   "execution_count": 32,
   "metadata": {},
   "outputs": [],
   "source": [
    "df_users['churn_date'] = pd.to_datetime(df_users['churn_date'], format = '%Y-%m-%d')"
   ]
  },
  {
   "cell_type": "code",
   "execution_count": 33,
   "metadata": {},
   "outputs": [],
   "source": [
    "df_users['reg_date'] = pd.to_datetime(df_users['reg_date'], format = '%Y-%m-%d')"
   ]
  },
  {
   "cell_type": "code",
   "execution_count": 34,
   "metadata": {},
   "outputs": [
    {
     "name": "stdout",
     "output_type": "stream",
     "text": [
      "<class 'pandas.core.frame.DataFrame'>\n",
      "RangeIndex: 500 entries, 0 to 499\n",
      "Data columns (total 8 columns):\n",
      "user_id       500 non-null int64\n",
      "first_name    500 non-null object\n",
      "last_name     500 non-null object\n",
      "age           500 non-null int64\n",
      "city          500 non-null object\n",
      "reg_date      500 non-null datetime64[ns]\n",
      "plan          500 non-null object\n",
      "churn_date    34 non-null datetime64[ns]\n",
      "dtypes: datetime64[ns](2), int64(2), object(4)\n",
      "memory usage: 31.4+ KB\n"
     ]
    }
   ],
   "source": [
    "df_users.info()"
   ]
  },
  {
   "cell_type": "markdown",
   "metadata": {},
   "source": [
    "### Conclusion\n"
   ]
  },
  {
   "cell_type": "markdown",
   "metadata": {},
   "source": [
    "- With the date df_calls, work was done to round up minutes to whole numbers, and a separate column called call_date_month was created.\n",
    "- In the 'duration' column of 26834 zeros, 0 have been replaced with 1.\n",
    "- A table was created for all clients by how many minutes they spent talking per month.\n",
    "- With the df_internet date, work was done to round the megabytes to integers, and a separate column named session_date_month was created.\n",
    "- Grouped data by user and month.\n",
    "- The date is df_messages and a separate column named message_date_month was created and the data was grouped.\n",
    "- No changes have been made to the df_plans date.\n"
   ]
  },
  {
   "cell_type": "code",
   "execution_count": 35,
   "metadata": {},
   "outputs": [
    {
     "data": {
      "text/html": [
       "<div>\n",
       "<style scoped>\n",
       "    .dataframe tbody tr th:only-of-type {\n",
       "        vertical-align: middle;\n",
       "    }\n",
       "\n",
       "    .dataframe tbody tr th {\n",
       "        vertical-align: top;\n",
       "    }\n",
       "\n",
       "    .dataframe thead th {\n",
       "        text-align: right;\n",
       "    }\n",
       "</style>\n",
       "<table border=\"1\" class=\"dataframe\">\n",
       "  <thead>\n",
       "    <tr style=\"text-align: right;\">\n",
       "      <th></th>\n",
       "      <th>user_id</th>\n",
       "      <th>message_date_month</th>\n",
       "      <th>id</th>\n",
       "    </tr>\n",
       "  </thead>\n",
       "  <tbody>\n",
       "    <tr>\n",
       "      <td>0</td>\n",
       "      <td>1000</td>\n",
       "      <td>12</td>\n",
       "      <td>11</td>\n",
       "    </tr>\n",
       "    <tr>\n",
       "      <td>1</td>\n",
       "      <td>1001</td>\n",
       "      <td>8</td>\n",
       "      <td>30</td>\n",
       "    </tr>\n",
       "    <tr>\n",
       "      <td>2</td>\n",
       "      <td>1001</td>\n",
       "      <td>9</td>\n",
       "      <td>44</td>\n",
       "    </tr>\n",
       "    <tr>\n",
       "      <td>3</td>\n",
       "      <td>1001</td>\n",
       "      <td>10</td>\n",
       "      <td>53</td>\n",
       "    </tr>\n",
       "    <tr>\n",
       "      <td>4</td>\n",
       "      <td>1001</td>\n",
       "      <td>11</td>\n",
       "      <td>36</td>\n",
       "    </tr>\n",
       "  </tbody>\n",
       "</table>\n",
       "</div>"
      ],
      "text/plain": [
       "   user_id  message_date_month  id\n",
       "0     1000                  12  11\n",
       "1     1001                   8  30\n",
       "2     1001                   9  44\n",
       "3     1001                  10  53\n",
       "4     1001                  11  36"
      ]
     },
     "execution_count": 35,
     "metadata": {},
     "output_type": "execute_result"
    }
   ],
   "source": [
    "df_messages_grouped = df_messages_grouped.reset_index()\n",
    "df_messages_grouped.head()"
   ]
  },
  {
   "cell_type": "code",
   "execution_count": 36,
   "metadata": {},
   "outputs": [],
   "source": [
    "df_messages_grouped.columns = ['user_id', 'message_date_month', 'message_count']"
   ]
  },
  {
   "cell_type": "code",
   "execution_count": 37,
   "metadata": {},
   "outputs": [
    {
     "data": {
      "text/html": [
       "<div>\n",
       "<style scoped>\n",
       "    .dataframe tbody tr th:only-of-type {\n",
       "        vertical-align: middle;\n",
       "    }\n",
       "\n",
       "    .dataframe tbody tr th {\n",
       "        vertical-align: top;\n",
       "    }\n",
       "\n",
       "    .dataframe thead th {\n",
       "        text-align: right;\n",
       "    }\n",
       "</style>\n",
       "<table border=\"1\" class=\"dataframe\">\n",
       "  <thead>\n",
       "    <tr style=\"text-align: right;\">\n",
       "      <th></th>\n",
       "      <th>user_id</th>\n",
       "      <th>first_name</th>\n",
       "      <th>last_name</th>\n",
       "      <th>age</th>\n",
       "      <th>city</th>\n",
       "      <th>reg_date</th>\n",
       "      <th>plan</th>\n",
       "      <th>churn_date</th>\n",
       "      <th>message_date_month</th>\n",
       "      <th>message_count</th>\n",
       "    </tr>\n",
       "  </thead>\n",
       "  <tbody>\n",
       "    <tr>\n",
       "      <td>0</td>\n",
       "      <td>1000</td>\n",
       "      <td>Anamaria</td>\n",
       "      <td>Bauer</td>\n",
       "      <td>45</td>\n",
       "      <td>Atlanta-Sandy Springs-Roswell, GA MSA</td>\n",
       "      <td>2018-12-24</td>\n",
       "      <td>ultimate</td>\n",
       "      <td>NaT</td>\n",
       "      <td>12.0</td>\n",
       "      <td>11.0</td>\n",
       "    </tr>\n",
       "    <tr>\n",
       "      <td>1</td>\n",
       "      <td>1001</td>\n",
       "      <td>Mickey</td>\n",
       "      <td>Wilkerson</td>\n",
       "      <td>28</td>\n",
       "      <td>Seattle-Tacoma-Bellevue, WA MSA</td>\n",
       "      <td>2018-08-13</td>\n",
       "      <td>surf</td>\n",
       "      <td>NaT</td>\n",
       "      <td>8.0</td>\n",
       "      <td>30.0</td>\n",
       "    </tr>\n",
       "    <tr>\n",
       "      <td>2</td>\n",
       "      <td>1001</td>\n",
       "      <td>Mickey</td>\n",
       "      <td>Wilkerson</td>\n",
       "      <td>28</td>\n",
       "      <td>Seattle-Tacoma-Bellevue, WA MSA</td>\n",
       "      <td>2018-08-13</td>\n",
       "      <td>surf</td>\n",
       "      <td>NaT</td>\n",
       "      <td>9.0</td>\n",
       "      <td>44.0</td>\n",
       "    </tr>\n",
       "    <tr>\n",
       "      <td>3</td>\n",
       "      <td>1001</td>\n",
       "      <td>Mickey</td>\n",
       "      <td>Wilkerson</td>\n",
       "      <td>28</td>\n",
       "      <td>Seattle-Tacoma-Bellevue, WA MSA</td>\n",
       "      <td>2018-08-13</td>\n",
       "      <td>surf</td>\n",
       "      <td>NaT</td>\n",
       "      <td>10.0</td>\n",
       "      <td>53.0</td>\n",
       "    </tr>\n",
       "    <tr>\n",
       "      <td>4</td>\n",
       "      <td>1001</td>\n",
       "      <td>Mickey</td>\n",
       "      <td>Wilkerson</td>\n",
       "      <td>28</td>\n",
       "      <td>Seattle-Tacoma-Bellevue, WA MSA</td>\n",
       "      <td>2018-08-13</td>\n",
       "      <td>surf</td>\n",
       "      <td>NaT</td>\n",
       "      <td>11.0</td>\n",
       "      <td>36.0</td>\n",
       "    </tr>\n",
       "  </tbody>\n",
       "</table>\n",
       "</div>"
      ],
      "text/plain": [
       "   user_id first_name  last_name  age                                   city  \\\n",
       "0     1000   Anamaria      Bauer   45  Atlanta-Sandy Springs-Roswell, GA MSA   \n",
       "1     1001     Mickey  Wilkerson   28        Seattle-Tacoma-Bellevue, WA MSA   \n",
       "2     1001     Mickey  Wilkerson   28        Seattle-Tacoma-Bellevue, WA MSA   \n",
       "3     1001     Mickey  Wilkerson   28        Seattle-Tacoma-Bellevue, WA MSA   \n",
       "4     1001     Mickey  Wilkerson   28        Seattle-Tacoma-Bellevue, WA MSA   \n",
       "\n",
       "    reg_date      plan churn_date  message_date_month  message_count  \n",
       "0 2018-12-24  ultimate        NaT                12.0           11.0  \n",
       "1 2018-08-13      surf        NaT                 8.0           30.0  \n",
       "2 2018-08-13      surf        NaT                 9.0           44.0  \n",
       "3 2018-08-13      surf        NaT                10.0           53.0  \n",
       "4 2018-08-13      surf        NaT                11.0           36.0  "
      ]
     },
     "execution_count": 37,
     "metadata": {},
     "output_type": "execute_result"
    }
   ],
   "source": [
    "total_data = pd.merge(df_users, df_messages_grouped, how='outer', left_on = 'user_id', right_on = 'user_id')\n",
    "total_data.head()\n",
    "#At the beginning, users and messages were added to the table."
   ]
  },
  {
   "cell_type": "code",
   "execution_count": 38,
   "metadata": {},
   "outputs": [
    {
     "name": "stdout",
     "output_type": "stream",
     "text": [
      "<class 'pandas.core.frame.DataFrame'>\n",
      "Int64Index: 1904 entries, 0 to 1903\n",
      "Data columns (total 10 columns):\n",
      "user_id               1904 non-null int64\n",
      "first_name            1904 non-null object\n",
      "last_name             1904 non-null object\n",
      "age                   1904 non-null int64\n",
      "city                  1904 non-null object\n",
      "reg_date              1904 non-null datetime64[ns]\n",
      "plan                  1904 non-null object\n",
      "churn_date            128 non-null datetime64[ns]\n",
      "message_date_month    1806 non-null float64\n",
      "message_count         1806 non-null float64\n",
      "dtypes: datetime64[ns](2), float64(2), int64(2), object(4)\n",
      "memory usage: 163.6+ KB\n"
     ]
    }
   ],
   "source": [
    "total_data.info()"
   ]
  },
  {
   "cell_type": "code",
   "execution_count": 39,
   "metadata": {},
   "outputs": [
    {
     "data": {
      "text/html": [
       "<div>\n",
       "<style scoped>\n",
       "    .dataframe tbody tr th:only-of-type {\n",
       "        vertical-align: middle;\n",
       "    }\n",
       "\n",
       "    .dataframe tbody tr th {\n",
       "        vertical-align: top;\n",
       "    }\n",
       "\n",
       "    .dataframe thead th {\n",
       "        text-align: right;\n",
       "    }\n",
       "</style>\n",
       "<table border=\"1\" class=\"dataframe\">\n",
       "  <thead>\n",
       "    <tr style=\"text-align: right;\">\n",
       "      <th></th>\n",
       "      <th></th>\n",
       "      <th>count</th>\n",
       "      <th>sum</th>\n",
       "    </tr>\n",
       "    <tr>\n",
       "      <th>user_id</th>\n",
       "      <th>call_date_month</th>\n",
       "      <th></th>\n",
       "      <th></th>\n",
       "    </tr>\n",
       "  </thead>\n",
       "  <tbody>\n",
       "    <tr>\n",
       "      <td>1000</td>\n",
       "      <td>12</td>\n",
       "      <td>16</td>\n",
       "      <td>124.0</td>\n",
       "    </tr>\n",
       "    <tr>\n",
       "      <td rowspan=\"4\" valign=\"top\">1001</td>\n",
       "      <td>8</td>\n",
       "      <td>27</td>\n",
       "      <td>187.0</td>\n",
       "    </tr>\n",
       "    <tr>\n",
       "      <td>9</td>\n",
       "      <td>49</td>\n",
       "      <td>326.0</td>\n",
       "    </tr>\n",
       "    <tr>\n",
       "      <td>10</td>\n",
       "      <td>65</td>\n",
       "      <td>411.0</td>\n",
       "    </tr>\n",
       "    <tr>\n",
       "      <td>11</td>\n",
       "      <td>64</td>\n",
       "      <td>441.0</td>\n",
       "    </tr>\n",
       "    <tr>\n",
       "      <td>...</td>\n",
       "      <td>...</td>\n",
       "      <td>...</td>\n",
       "      <td>...</td>\n",
       "    </tr>\n",
       "    <tr>\n",
       "      <td>1498</td>\n",
       "      <td>12</td>\n",
       "      <td>39</td>\n",
       "      <td>346.0</td>\n",
       "    </tr>\n",
       "    <tr>\n",
       "      <td rowspan=\"4\" valign=\"top\">1499</td>\n",
       "      <td>9</td>\n",
       "      <td>41</td>\n",
       "      <td>352.0</td>\n",
       "    </tr>\n",
       "    <tr>\n",
       "      <td>10</td>\n",
       "      <td>53</td>\n",
       "      <td>397.0</td>\n",
       "    </tr>\n",
       "    <tr>\n",
       "      <td>11</td>\n",
       "      <td>45</td>\n",
       "      <td>314.0</td>\n",
       "    </tr>\n",
       "    <tr>\n",
       "      <td>12</td>\n",
       "      <td>65</td>\n",
       "      <td>505.0</td>\n",
       "    </tr>\n",
       "  </tbody>\n",
       "</table>\n",
       "<p>2258 rows × 2 columns</p>\n",
       "</div>"
      ],
      "text/plain": [
       "                         count    sum\n",
       "user_id call_date_month              \n",
       "1000    12                  16  124.0\n",
       "1001    8                   27  187.0\n",
       "        9                   49  326.0\n",
       "        10                  65  411.0\n",
       "        11                  64  441.0\n",
       "...                        ...    ...\n",
       "1498    12                  39  346.0\n",
       "1499    9                   41  352.0\n",
       "        10                  53  397.0\n",
       "        11                  45  314.0\n",
       "        12                  65  505.0\n",
       "\n",
       "[2258 rows x 2 columns]"
      ]
     },
     "execution_count": 39,
     "metadata": {},
     "output_type": "execute_result"
    }
   ],
   "source": [
    "df_calls_grouped"
   ]
  },
  {
   "cell_type": "code",
   "execution_count": 40,
   "metadata": {},
   "outputs": [
    {
     "data": {
      "text/html": [
       "<div>\n",
       "<style scoped>\n",
       "    .dataframe tbody tr th:only-of-type {\n",
       "        vertical-align: middle;\n",
       "    }\n",
       "\n",
       "    .dataframe tbody tr th {\n",
       "        vertical-align: top;\n",
       "    }\n",
       "\n",
       "    .dataframe thead th {\n",
       "        text-align: right;\n",
       "    }\n",
       "</style>\n",
       "<table border=\"1\" class=\"dataframe\">\n",
       "  <thead>\n",
       "    <tr style=\"text-align: right;\">\n",
       "      <th></th>\n",
       "      <th>user_id</th>\n",
       "      <th>first_name</th>\n",
       "      <th>last_name</th>\n",
       "      <th>age</th>\n",
       "      <th>city</th>\n",
       "      <th>reg_date</th>\n",
       "      <th>plan</th>\n",
       "      <th>churn_date</th>\n",
       "      <th>message_date_month</th>\n",
       "      <th>message_count</th>\n",
       "      <th>count</th>\n",
       "      <th>sum</th>\n",
       "    </tr>\n",
       "  </thead>\n",
       "  <tbody>\n",
       "    <tr>\n",
       "      <td>0</td>\n",
       "      <td>1000</td>\n",
       "      <td>Anamaria</td>\n",
       "      <td>Bauer</td>\n",
       "      <td>45.0</td>\n",
       "      <td>Atlanta-Sandy Springs-Roswell, GA MSA</td>\n",
       "      <td>2018-12-24</td>\n",
       "      <td>ultimate</td>\n",
       "      <td>NaT</td>\n",
       "      <td>12.0</td>\n",
       "      <td>11.0</td>\n",
       "      <td>16.0</td>\n",
       "      <td>124.0</td>\n",
       "    </tr>\n",
       "    <tr>\n",
       "      <td>1</td>\n",
       "      <td>1001</td>\n",
       "      <td>Mickey</td>\n",
       "      <td>Wilkerson</td>\n",
       "      <td>28.0</td>\n",
       "      <td>Seattle-Tacoma-Bellevue, WA MSA</td>\n",
       "      <td>2018-08-13</td>\n",
       "      <td>surf</td>\n",
       "      <td>NaT</td>\n",
       "      <td>8.0</td>\n",
       "      <td>30.0</td>\n",
       "      <td>27.0</td>\n",
       "      <td>187.0</td>\n",
       "    </tr>\n",
       "    <tr>\n",
       "      <td>2</td>\n",
       "      <td>1001</td>\n",
       "      <td>Mickey</td>\n",
       "      <td>Wilkerson</td>\n",
       "      <td>28.0</td>\n",
       "      <td>Seattle-Tacoma-Bellevue, WA MSA</td>\n",
       "      <td>2018-08-13</td>\n",
       "      <td>surf</td>\n",
       "      <td>NaT</td>\n",
       "      <td>9.0</td>\n",
       "      <td>44.0</td>\n",
       "      <td>49.0</td>\n",
       "      <td>326.0</td>\n",
       "    </tr>\n",
       "    <tr>\n",
       "      <td>3</td>\n",
       "      <td>1001</td>\n",
       "      <td>Mickey</td>\n",
       "      <td>Wilkerson</td>\n",
       "      <td>28.0</td>\n",
       "      <td>Seattle-Tacoma-Bellevue, WA MSA</td>\n",
       "      <td>2018-08-13</td>\n",
       "      <td>surf</td>\n",
       "      <td>NaT</td>\n",
       "      <td>10.0</td>\n",
       "      <td>53.0</td>\n",
       "      <td>65.0</td>\n",
       "      <td>411.0</td>\n",
       "    </tr>\n",
       "    <tr>\n",
       "      <td>4</td>\n",
       "      <td>1001</td>\n",
       "      <td>Mickey</td>\n",
       "      <td>Wilkerson</td>\n",
       "      <td>28.0</td>\n",
       "      <td>Seattle-Tacoma-Bellevue, WA MSA</td>\n",
       "      <td>2018-08-13</td>\n",
       "      <td>surf</td>\n",
       "      <td>NaT</td>\n",
       "      <td>11.0</td>\n",
       "      <td>36.0</td>\n",
       "      <td>64.0</td>\n",
       "      <td>441.0</td>\n",
       "    </tr>\n",
       "    <tr>\n",
       "      <td>5</td>\n",
       "      <td>1001</td>\n",
       "      <td>Mickey</td>\n",
       "      <td>Wilkerson</td>\n",
       "      <td>28.0</td>\n",
       "      <td>Seattle-Tacoma-Bellevue, WA MSA</td>\n",
       "      <td>2018-08-13</td>\n",
       "      <td>surf</td>\n",
       "      <td>NaT</td>\n",
       "      <td>12.0</td>\n",
       "      <td>44.0</td>\n",
       "      <td>56.0</td>\n",
       "      <td>422.0</td>\n",
       "    </tr>\n",
       "    <tr>\n",
       "      <td>6</td>\n",
       "      <td>1002</td>\n",
       "      <td>Carlee</td>\n",
       "      <td>Hoffman</td>\n",
       "      <td>36.0</td>\n",
       "      <td>Las Vegas-Henderson-Paradise, NV MSA</td>\n",
       "      <td>2018-10-21</td>\n",
       "      <td>surf</td>\n",
       "      <td>NaT</td>\n",
       "      <td>10.0</td>\n",
       "      <td>15.0</td>\n",
       "      <td>11.0</td>\n",
       "      <td>62.0</td>\n",
       "    </tr>\n",
       "    <tr>\n",
       "      <td>7</td>\n",
       "      <td>1002</td>\n",
       "      <td>Carlee</td>\n",
       "      <td>Hoffman</td>\n",
       "      <td>36.0</td>\n",
       "      <td>Las Vegas-Henderson-Paradise, NV MSA</td>\n",
       "      <td>2018-10-21</td>\n",
       "      <td>surf</td>\n",
       "      <td>NaT</td>\n",
       "      <td>11.0</td>\n",
       "      <td>32.0</td>\n",
       "      <td>55.0</td>\n",
       "      <td>393.0</td>\n",
       "    </tr>\n",
       "    <tr>\n",
       "      <td>8</td>\n",
       "      <td>1002</td>\n",
       "      <td>Carlee</td>\n",
       "      <td>Hoffman</td>\n",
       "      <td>36.0</td>\n",
       "      <td>Las Vegas-Henderson-Paradise, NV MSA</td>\n",
       "      <td>2018-10-21</td>\n",
       "      <td>surf</td>\n",
       "      <td>NaT</td>\n",
       "      <td>12.0</td>\n",
       "      <td>41.0</td>\n",
       "      <td>47.0</td>\n",
       "      <td>393.0</td>\n",
       "    </tr>\n",
       "    <tr>\n",
       "      <td>9</td>\n",
       "      <td>1003</td>\n",
       "      <td>Reynaldo</td>\n",
       "      <td>Jenkins</td>\n",
       "      <td>52.0</td>\n",
       "      <td>Tulsa, OK MSA</td>\n",
       "      <td>2018-01-28</td>\n",
       "      <td>surf</td>\n",
       "      <td>NaT</td>\n",
       "      <td>12.0</td>\n",
       "      <td>50.0</td>\n",
       "      <td>149.0</td>\n",
       "      <td>1135.0</td>\n",
       "    </tr>\n",
       "    <tr>\n",
       "      <td>10</td>\n",
       "      <td>1004</td>\n",
       "      <td>Leonila</td>\n",
       "      <td>Thompson</td>\n",
       "      <td>40.0</td>\n",
       "      <td>Seattle-Tacoma-Bellevue, WA MSA</td>\n",
       "      <td>2018-05-23</td>\n",
       "      <td>surf</td>\n",
       "      <td>NaT</td>\n",
       "      <td>5.0</td>\n",
       "      <td>7.0</td>\n",
       "      <td>21.0</td>\n",
       "      <td>195.0</td>\n",
       "    </tr>\n",
       "    <tr>\n",
       "      <td>11</td>\n",
       "      <td>1004</td>\n",
       "      <td>Leonila</td>\n",
       "      <td>Thompson</td>\n",
       "      <td>40.0</td>\n",
       "      <td>Seattle-Tacoma-Bellevue, WA MSA</td>\n",
       "      <td>2018-05-23</td>\n",
       "      <td>surf</td>\n",
       "      <td>NaT</td>\n",
       "      <td>6.0</td>\n",
       "      <td>18.0</td>\n",
       "      <td>44.0</td>\n",
       "      <td>286.0</td>\n",
       "    </tr>\n",
       "    <tr>\n",
       "      <td>12</td>\n",
       "      <td>1004</td>\n",
       "      <td>Leonila</td>\n",
       "      <td>Thompson</td>\n",
       "      <td>40.0</td>\n",
       "      <td>Seattle-Tacoma-Bellevue, WA MSA</td>\n",
       "      <td>2018-05-23</td>\n",
       "      <td>surf</td>\n",
       "      <td>NaT</td>\n",
       "      <td>7.0</td>\n",
       "      <td>26.0</td>\n",
       "      <td>49.0</td>\n",
       "      <td>385.0</td>\n",
       "    </tr>\n",
       "    <tr>\n",
       "      <td>13</td>\n",
       "      <td>1004</td>\n",
       "      <td>Leonila</td>\n",
       "      <td>Thompson</td>\n",
       "      <td>40.0</td>\n",
       "      <td>Seattle-Tacoma-Bellevue, WA MSA</td>\n",
       "      <td>2018-05-23</td>\n",
       "      <td>surf</td>\n",
       "      <td>NaT</td>\n",
       "      <td>8.0</td>\n",
       "      <td>25.0</td>\n",
       "      <td>49.0</td>\n",
       "      <td>361.0</td>\n",
       "    </tr>\n",
       "    <tr>\n",
       "      <td>14</td>\n",
       "      <td>1004</td>\n",
       "      <td>Leonila</td>\n",
       "      <td>Thompson</td>\n",
       "      <td>40.0</td>\n",
       "      <td>Seattle-Tacoma-Bellevue, WA MSA</td>\n",
       "      <td>2018-05-23</td>\n",
       "      <td>surf</td>\n",
       "      <td>NaT</td>\n",
       "      <td>9.0</td>\n",
       "      <td>21.0</td>\n",
       "      <td>42.0</td>\n",
       "      <td>311.0</td>\n",
       "    </tr>\n",
       "    <tr>\n",
       "      <td>15</td>\n",
       "      <td>1004</td>\n",
       "      <td>Leonila</td>\n",
       "      <td>Thompson</td>\n",
       "      <td>40.0</td>\n",
       "      <td>Seattle-Tacoma-Bellevue, WA MSA</td>\n",
       "      <td>2018-05-23</td>\n",
       "      <td>surf</td>\n",
       "      <td>NaT</td>\n",
       "      <td>10.0</td>\n",
       "      <td>24.0</td>\n",
       "      <td>61.0</td>\n",
       "      <td>379.0</td>\n",
       "    </tr>\n",
       "    <tr>\n",
       "      <td>16</td>\n",
       "      <td>1004</td>\n",
       "      <td>Leonila</td>\n",
       "      <td>Thompson</td>\n",
       "      <td>40.0</td>\n",
       "      <td>Seattle-Tacoma-Bellevue, WA MSA</td>\n",
       "      <td>2018-05-23</td>\n",
       "      <td>surf</td>\n",
       "      <td>NaT</td>\n",
       "      <td>11.0</td>\n",
       "      <td>25.0</td>\n",
       "      <td>54.0</td>\n",
       "      <td>485.0</td>\n",
       "    </tr>\n",
       "    <tr>\n",
       "      <td>17</td>\n",
       "      <td>1004</td>\n",
       "      <td>Leonila</td>\n",
       "      <td>Thompson</td>\n",
       "      <td>40.0</td>\n",
       "      <td>Seattle-Tacoma-Bellevue, WA MSA</td>\n",
       "      <td>2018-05-23</td>\n",
       "      <td>surf</td>\n",
       "      <td>NaT</td>\n",
       "      <td>12.0</td>\n",
       "      <td>31.0</td>\n",
       "      <td>50.0</td>\n",
       "      <td>434.0</td>\n",
       "    </tr>\n",
       "    <tr>\n",
       "      <td>18</td>\n",
       "      <td>1005</td>\n",
       "      <td>Livia</td>\n",
       "      <td>Shields</td>\n",
       "      <td>31.0</td>\n",
       "      <td>Dallas-Fort Worth-Arlington, TX MSA</td>\n",
       "      <td>2018-11-29</td>\n",
       "      <td>surf</td>\n",
       "      <td>NaT</td>\n",
       "      <td>12.0</td>\n",
       "      <td>11.0</td>\n",
       "      <td>59.0</td>\n",
       "      <td>505.0</td>\n",
       "    </tr>\n",
       "    <tr>\n",
       "      <td>19</td>\n",
       "      <td>1006</td>\n",
       "      <td>Jesusa</td>\n",
       "      <td>Bradford</td>\n",
       "      <td>73.0</td>\n",
       "      <td>San Francisco-Oakland-Berkeley, CA MSA</td>\n",
       "      <td>2018-11-27</td>\n",
       "      <td>ultimate</td>\n",
       "      <td>2018-12-18</td>\n",
       "      <td>11.0</td>\n",
       "      <td>15.0</td>\n",
       "      <td>2.0</td>\n",
       "      <td>10.0</td>\n",
       "    </tr>\n",
       "  </tbody>\n",
       "</table>\n",
       "</div>"
      ],
      "text/plain": [
       "    user_id first_name  last_name   age  \\\n",
       "0      1000   Anamaria      Bauer  45.0   \n",
       "1      1001     Mickey  Wilkerson  28.0   \n",
       "2      1001     Mickey  Wilkerson  28.0   \n",
       "3      1001     Mickey  Wilkerson  28.0   \n",
       "4      1001     Mickey  Wilkerson  28.0   \n",
       "5      1001     Mickey  Wilkerson  28.0   \n",
       "6      1002     Carlee    Hoffman  36.0   \n",
       "7      1002     Carlee    Hoffman  36.0   \n",
       "8      1002     Carlee    Hoffman  36.0   \n",
       "9      1003   Reynaldo    Jenkins  52.0   \n",
       "10     1004    Leonila   Thompson  40.0   \n",
       "11     1004    Leonila   Thompson  40.0   \n",
       "12     1004    Leonila   Thompson  40.0   \n",
       "13     1004    Leonila   Thompson  40.0   \n",
       "14     1004    Leonila   Thompson  40.0   \n",
       "15     1004    Leonila   Thompson  40.0   \n",
       "16     1004    Leonila   Thompson  40.0   \n",
       "17     1004    Leonila   Thompson  40.0   \n",
       "18     1005      Livia    Shields  31.0   \n",
       "19     1006     Jesusa   Bradford  73.0   \n",
       "\n",
       "                                      city   reg_date      plan churn_date  \\\n",
       "0    Atlanta-Sandy Springs-Roswell, GA MSA 2018-12-24  ultimate        NaT   \n",
       "1          Seattle-Tacoma-Bellevue, WA MSA 2018-08-13      surf        NaT   \n",
       "2          Seattle-Tacoma-Bellevue, WA MSA 2018-08-13      surf        NaT   \n",
       "3          Seattle-Tacoma-Bellevue, WA MSA 2018-08-13      surf        NaT   \n",
       "4          Seattle-Tacoma-Bellevue, WA MSA 2018-08-13      surf        NaT   \n",
       "5          Seattle-Tacoma-Bellevue, WA MSA 2018-08-13      surf        NaT   \n",
       "6     Las Vegas-Henderson-Paradise, NV MSA 2018-10-21      surf        NaT   \n",
       "7     Las Vegas-Henderson-Paradise, NV MSA 2018-10-21      surf        NaT   \n",
       "8     Las Vegas-Henderson-Paradise, NV MSA 2018-10-21      surf        NaT   \n",
       "9                            Tulsa, OK MSA 2018-01-28      surf        NaT   \n",
       "10         Seattle-Tacoma-Bellevue, WA MSA 2018-05-23      surf        NaT   \n",
       "11         Seattle-Tacoma-Bellevue, WA MSA 2018-05-23      surf        NaT   \n",
       "12         Seattle-Tacoma-Bellevue, WA MSA 2018-05-23      surf        NaT   \n",
       "13         Seattle-Tacoma-Bellevue, WA MSA 2018-05-23      surf        NaT   \n",
       "14         Seattle-Tacoma-Bellevue, WA MSA 2018-05-23      surf        NaT   \n",
       "15         Seattle-Tacoma-Bellevue, WA MSA 2018-05-23      surf        NaT   \n",
       "16         Seattle-Tacoma-Bellevue, WA MSA 2018-05-23      surf        NaT   \n",
       "17         Seattle-Tacoma-Bellevue, WA MSA 2018-05-23      surf        NaT   \n",
       "18     Dallas-Fort Worth-Arlington, TX MSA 2018-11-29      surf        NaT   \n",
       "19  San Francisco-Oakland-Berkeley, CA MSA 2018-11-27  ultimate 2018-12-18   \n",
       "\n",
       "    message_date_month  message_count  count     sum  \n",
       "0                 12.0           11.0   16.0   124.0  \n",
       "1                  8.0           30.0   27.0   187.0  \n",
       "2                  9.0           44.0   49.0   326.0  \n",
       "3                 10.0           53.0   65.0   411.0  \n",
       "4                 11.0           36.0   64.0   441.0  \n",
       "5                 12.0           44.0   56.0   422.0  \n",
       "6                 10.0           15.0   11.0    62.0  \n",
       "7                 11.0           32.0   55.0   393.0  \n",
       "8                 12.0           41.0   47.0   393.0  \n",
       "9                 12.0           50.0  149.0  1135.0  \n",
       "10                 5.0            7.0   21.0   195.0  \n",
       "11                 6.0           18.0   44.0   286.0  \n",
       "12                 7.0           26.0   49.0   385.0  \n",
       "13                 8.0           25.0   49.0   361.0  \n",
       "14                 9.0           21.0   42.0   311.0  \n",
       "15                10.0           24.0   61.0   379.0  \n",
       "16                11.0           25.0   54.0   485.0  \n",
       "17                12.0           31.0   50.0   434.0  \n",
       "18                12.0           11.0   59.0   505.0  \n",
       "19                11.0           15.0    2.0    10.0  "
      ]
     },
     "execution_count": 40,
     "metadata": {},
     "output_type": "execute_result"
    }
   ],
   "source": [
    "total_data = pd.merge(total_data, df_calls_grouped, how='outer', left_on = ['user_id', 'message_date_month'], right_on = ['user_id', 'call_date_month'])\n",
    "total_data.head(20)\n",
    "#Joined this date with df_calls_grouped."
   ]
  },
  {
   "cell_type": "code",
   "execution_count": 41,
   "metadata": {},
   "outputs": [
    {
     "name": "stdout",
     "output_type": "stream",
     "text": [
      "<class 'pandas.core.frame.DataFrame'>\n",
      "Int64Index: 2389 entries, 0 to 2388\n",
      "Data columns (total 12 columns):\n",
      "user_id               2389 non-null int64\n",
      "first_name            1904 non-null object\n",
      "last_name             1904 non-null object\n",
      "age                   1904 non-null float64\n",
      "city                  1904 non-null object\n",
      "reg_date              1904 non-null datetime64[ns]\n",
      "plan                  1904 non-null object\n",
      "churn_date            128 non-null datetime64[ns]\n",
      "message_date_month    1806 non-null float64\n",
      "message_count         1806 non-null float64\n",
      "count                 2258 non-null float64\n",
      "sum                   2258 non-null float64\n",
      "dtypes: datetime64[ns](2), float64(5), int64(1), object(4)\n",
      "memory usage: 242.6+ KB\n"
     ]
    }
   ],
   "source": [
    "total_data.info()"
   ]
  },
  {
   "cell_type": "code",
   "execution_count": 42,
   "metadata": {},
   "outputs": [
    {
     "data": {
      "text/plain": [
       "Index(['user_id', 'first_name', 'last_name', 'age', 'city', 'reg_date', 'plan',\n",
       "       'churn_date', 'message_date_month', 'message_count', 'count', 'sum'],\n",
       "      dtype='object')"
      ]
     },
     "execution_count": 42,
     "metadata": {},
     "output_type": "execute_result"
    }
   ],
   "source": [
    "total_data.columns"
   ]
  },
  {
   "cell_type": "code",
   "execution_count": 43,
   "metadata": {},
   "outputs": [],
   "source": [
    "total_data.columns = ['user_id', 'first_name', 'last_name', 'age', 'city', 'reg_date', \n",
    "                      'plan', 'churn_date','month', 'message_count','number_of_calls', 'call_duration']"
   ]
  },
  {
   "cell_type": "code",
   "execution_count": 44,
   "metadata": {},
   "outputs": [
    {
     "data": {
      "text/html": [
       "<div>\n",
       "<style scoped>\n",
       "    .dataframe tbody tr th:only-of-type {\n",
       "        vertical-align: middle;\n",
       "    }\n",
       "\n",
       "    .dataframe tbody tr th {\n",
       "        vertical-align: top;\n",
       "    }\n",
       "\n",
       "    .dataframe thead th {\n",
       "        text-align: right;\n",
       "    }\n",
       "</style>\n",
       "<table border=\"1\" class=\"dataframe\">\n",
       "  <thead>\n",
       "    <tr style=\"text-align: right;\">\n",
       "      <th></th>\n",
       "      <th>user_id</th>\n",
       "      <th>first_name</th>\n",
       "      <th>last_name</th>\n",
       "      <th>age</th>\n",
       "      <th>city</th>\n",
       "      <th>reg_date</th>\n",
       "      <th>plan</th>\n",
       "      <th>churn_date</th>\n",
       "      <th>month</th>\n",
       "      <th>message_count</th>\n",
       "      <th>number_of_calls</th>\n",
       "      <th>call_duration</th>\n",
       "    </tr>\n",
       "  </thead>\n",
       "  <tbody>\n",
       "    <tr>\n",
       "      <td>0</td>\n",
       "      <td>1000</td>\n",
       "      <td>Anamaria</td>\n",
       "      <td>Bauer</td>\n",
       "      <td>45.0</td>\n",
       "      <td>Atlanta-Sandy Springs-Roswell, GA MSA</td>\n",
       "      <td>2018-12-24</td>\n",
       "      <td>ultimate</td>\n",
       "      <td>NaT</td>\n",
       "      <td>12.0</td>\n",
       "      <td>11.0</td>\n",
       "      <td>16.0</td>\n",
       "      <td>124.0</td>\n",
       "    </tr>\n",
       "    <tr>\n",
       "      <td>1</td>\n",
       "      <td>1001</td>\n",
       "      <td>Mickey</td>\n",
       "      <td>Wilkerson</td>\n",
       "      <td>28.0</td>\n",
       "      <td>Seattle-Tacoma-Bellevue, WA MSA</td>\n",
       "      <td>2018-08-13</td>\n",
       "      <td>surf</td>\n",
       "      <td>NaT</td>\n",
       "      <td>8.0</td>\n",
       "      <td>30.0</td>\n",
       "      <td>27.0</td>\n",
       "      <td>187.0</td>\n",
       "    </tr>\n",
       "    <tr>\n",
       "      <td>2</td>\n",
       "      <td>1001</td>\n",
       "      <td>Mickey</td>\n",
       "      <td>Wilkerson</td>\n",
       "      <td>28.0</td>\n",
       "      <td>Seattle-Tacoma-Bellevue, WA MSA</td>\n",
       "      <td>2018-08-13</td>\n",
       "      <td>surf</td>\n",
       "      <td>NaT</td>\n",
       "      <td>9.0</td>\n",
       "      <td>44.0</td>\n",
       "      <td>49.0</td>\n",
       "      <td>326.0</td>\n",
       "    </tr>\n",
       "    <tr>\n",
       "      <td>3</td>\n",
       "      <td>1001</td>\n",
       "      <td>Mickey</td>\n",
       "      <td>Wilkerson</td>\n",
       "      <td>28.0</td>\n",
       "      <td>Seattle-Tacoma-Bellevue, WA MSA</td>\n",
       "      <td>2018-08-13</td>\n",
       "      <td>surf</td>\n",
       "      <td>NaT</td>\n",
       "      <td>10.0</td>\n",
       "      <td>53.0</td>\n",
       "      <td>65.0</td>\n",
       "      <td>411.0</td>\n",
       "    </tr>\n",
       "    <tr>\n",
       "      <td>4</td>\n",
       "      <td>1001</td>\n",
       "      <td>Mickey</td>\n",
       "      <td>Wilkerson</td>\n",
       "      <td>28.0</td>\n",
       "      <td>Seattle-Tacoma-Bellevue, WA MSA</td>\n",
       "      <td>2018-08-13</td>\n",
       "      <td>surf</td>\n",
       "      <td>NaT</td>\n",
       "      <td>11.0</td>\n",
       "      <td>36.0</td>\n",
       "      <td>64.0</td>\n",
       "      <td>441.0</td>\n",
       "    </tr>\n",
       "  </tbody>\n",
       "</table>\n",
       "</div>"
      ],
      "text/plain": [
       "   user_id first_name  last_name   age                                   city  \\\n",
       "0     1000   Anamaria      Bauer  45.0  Atlanta-Sandy Springs-Roswell, GA MSA   \n",
       "1     1001     Mickey  Wilkerson  28.0        Seattle-Tacoma-Bellevue, WA MSA   \n",
       "2     1001     Mickey  Wilkerson  28.0        Seattle-Tacoma-Bellevue, WA MSA   \n",
       "3     1001     Mickey  Wilkerson  28.0        Seattle-Tacoma-Bellevue, WA MSA   \n",
       "4     1001     Mickey  Wilkerson  28.0        Seattle-Tacoma-Bellevue, WA MSA   \n",
       "\n",
       "    reg_date      plan churn_date  month  message_count  number_of_calls  \\\n",
       "0 2018-12-24  ultimate        NaT   12.0           11.0             16.0   \n",
       "1 2018-08-13      surf        NaT    8.0           30.0             27.0   \n",
       "2 2018-08-13      surf        NaT    9.0           44.0             49.0   \n",
       "3 2018-08-13      surf        NaT   10.0           53.0             65.0   \n",
       "4 2018-08-13      surf        NaT   11.0           36.0             64.0   \n",
       "\n",
       "   call_duration  \n",
       "0          124.0  \n",
       "1          187.0  \n",
       "2          326.0  \n",
       "3          411.0  \n",
       "4          441.0  "
      ]
     },
     "execution_count": 44,
     "metadata": {},
     "output_type": "execute_result"
    }
   ],
   "source": [
    "total_data.head()"
   ]
  },
  {
   "cell_type": "code",
   "execution_count": 45,
   "metadata": {},
   "outputs": [
    {
     "data": {
      "text/html": [
       "<div>\n",
       "<style scoped>\n",
       "    .dataframe tbody tr th:only-of-type {\n",
       "        vertical-align: middle;\n",
       "    }\n",
       "\n",
       "    .dataframe tbody tr th {\n",
       "        vertical-align: top;\n",
       "    }\n",
       "\n",
       "    .dataframe thead th {\n",
       "        text-align: right;\n",
       "    }\n",
       "</style>\n",
       "<table border=\"1\" class=\"dataframe\">\n",
       "  <thead>\n",
       "    <tr style=\"text-align: right;\">\n",
       "      <th></th>\n",
       "      <th>user_id</th>\n",
       "      <th>session_date_month</th>\n",
       "      <th>gb_used</th>\n",
       "    </tr>\n",
       "  </thead>\n",
       "  <tbody>\n",
       "    <tr>\n",
       "      <td>0</td>\n",
       "      <td>1000</td>\n",
       "      <td>12</td>\n",
       "      <td>1.856904</td>\n",
       "    </tr>\n",
       "    <tr>\n",
       "      <td>1</td>\n",
       "      <td>1001</td>\n",
       "      <td>8</td>\n",
       "      <td>6.756982</td>\n",
       "    </tr>\n",
       "    <tr>\n",
       "      <td>2</td>\n",
       "      <td>1001</td>\n",
       "      <td>9</td>\n",
       "      <td>13.002754</td>\n",
       "    </tr>\n",
       "    <tr>\n",
       "      <td>3</td>\n",
       "      <td>1001</td>\n",
       "      <td>10</td>\n",
       "      <td>21.807119</td>\n",
       "    </tr>\n",
       "    <tr>\n",
       "      <td>4</td>\n",
       "      <td>1001</td>\n",
       "      <td>11</td>\n",
       "      <td>18.070605</td>\n",
       "    </tr>\n",
       "  </tbody>\n",
       "</table>\n",
       "</div>"
      ],
      "text/plain": [
       "   user_id  session_date_month    gb_used\n",
       "0     1000                  12   1.856904\n",
       "1     1001                   8   6.756982\n",
       "2     1001                   9  13.002754\n",
       "3     1001                  10  21.807119\n",
       "4     1001                  11  18.070605"
      ]
     },
     "execution_count": 45,
     "metadata": {},
     "output_type": "execute_result"
    }
   ],
   "source": [
    "df_internet_grouped = df_internet_grouped.reset_index()\n",
    "df_internet_grouped.head()"
   ]
  },
  {
   "cell_type": "code",
   "execution_count": 46,
   "metadata": {},
   "outputs": [
    {
     "data": {
      "text/html": [
       "<div>\n",
       "<style scoped>\n",
       "    .dataframe tbody tr th:only-of-type {\n",
       "        vertical-align: middle;\n",
       "    }\n",
       "\n",
       "    .dataframe tbody tr th {\n",
       "        vertical-align: top;\n",
       "    }\n",
       "\n",
       "    .dataframe thead th {\n",
       "        text-align: right;\n",
       "    }\n",
       "</style>\n",
       "<table border=\"1\" class=\"dataframe\">\n",
       "  <thead>\n",
       "    <tr style=\"text-align: right;\">\n",
       "      <th></th>\n",
       "      <th>user_id</th>\n",
       "      <th>first_name</th>\n",
       "      <th>last_name</th>\n",
       "      <th>age</th>\n",
       "      <th>city</th>\n",
       "      <th>reg_date</th>\n",
       "      <th>plan</th>\n",
       "      <th>churn_date</th>\n",
       "      <th>month</th>\n",
       "      <th>message_count</th>\n",
       "      <th>number_of_calls</th>\n",
       "      <th>call_duration</th>\n",
       "      <th>session_date_month</th>\n",
       "      <th>gb_used</th>\n",
       "    </tr>\n",
       "  </thead>\n",
       "  <tbody>\n",
       "    <tr>\n",
       "      <td>0</td>\n",
       "      <td>1000</td>\n",
       "      <td>Anamaria</td>\n",
       "      <td>Bauer</td>\n",
       "      <td>45.0</td>\n",
       "      <td>Atlanta-Sandy Springs-Roswell, GA MSA</td>\n",
       "      <td>2018-12-24</td>\n",
       "      <td>ultimate</td>\n",
       "      <td>NaT</td>\n",
       "      <td>12.0</td>\n",
       "      <td>11.0</td>\n",
       "      <td>16.0</td>\n",
       "      <td>124.0</td>\n",
       "      <td>12.0</td>\n",
       "      <td>1.856904</td>\n",
       "    </tr>\n",
       "    <tr>\n",
       "      <td>1</td>\n",
       "      <td>1001</td>\n",
       "      <td>Mickey</td>\n",
       "      <td>Wilkerson</td>\n",
       "      <td>28.0</td>\n",
       "      <td>Seattle-Tacoma-Bellevue, WA MSA</td>\n",
       "      <td>2018-08-13</td>\n",
       "      <td>surf</td>\n",
       "      <td>NaT</td>\n",
       "      <td>8.0</td>\n",
       "      <td>30.0</td>\n",
       "      <td>27.0</td>\n",
       "      <td>187.0</td>\n",
       "      <td>8.0</td>\n",
       "      <td>6.756982</td>\n",
       "    </tr>\n",
       "    <tr>\n",
       "      <td>2</td>\n",
       "      <td>1001</td>\n",
       "      <td>Mickey</td>\n",
       "      <td>Wilkerson</td>\n",
       "      <td>28.0</td>\n",
       "      <td>Seattle-Tacoma-Bellevue, WA MSA</td>\n",
       "      <td>2018-08-13</td>\n",
       "      <td>surf</td>\n",
       "      <td>NaT</td>\n",
       "      <td>9.0</td>\n",
       "      <td>44.0</td>\n",
       "      <td>49.0</td>\n",
       "      <td>326.0</td>\n",
       "      <td>9.0</td>\n",
       "      <td>13.002754</td>\n",
       "    </tr>\n",
       "    <tr>\n",
       "      <td>3</td>\n",
       "      <td>1001</td>\n",
       "      <td>Mickey</td>\n",
       "      <td>Wilkerson</td>\n",
       "      <td>28.0</td>\n",
       "      <td>Seattle-Tacoma-Bellevue, WA MSA</td>\n",
       "      <td>2018-08-13</td>\n",
       "      <td>surf</td>\n",
       "      <td>NaT</td>\n",
       "      <td>10.0</td>\n",
       "      <td>53.0</td>\n",
       "      <td>65.0</td>\n",
       "      <td>411.0</td>\n",
       "      <td>10.0</td>\n",
       "      <td>21.807119</td>\n",
       "    </tr>\n",
       "    <tr>\n",
       "      <td>4</td>\n",
       "      <td>1001</td>\n",
       "      <td>Mickey</td>\n",
       "      <td>Wilkerson</td>\n",
       "      <td>28.0</td>\n",
       "      <td>Seattle-Tacoma-Bellevue, WA MSA</td>\n",
       "      <td>2018-08-13</td>\n",
       "      <td>surf</td>\n",
       "      <td>NaT</td>\n",
       "      <td>11.0</td>\n",
       "      <td>36.0</td>\n",
       "      <td>64.0</td>\n",
       "      <td>441.0</td>\n",
       "      <td>11.0</td>\n",
       "      <td>18.070605</td>\n",
       "    </tr>\n",
       "  </tbody>\n",
       "</table>\n",
       "</div>"
      ],
      "text/plain": [
       "   user_id first_name  last_name   age                                   city  \\\n",
       "0     1000   Anamaria      Bauer  45.0  Atlanta-Sandy Springs-Roswell, GA MSA   \n",
       "1     1001     Mickey  Wilkerson  28.0        Seattle-Tacoma-Bellevue, WA MSA   \n",
       "2     1001     Mickey  Wilkerson  28.0        Seattle-Tacoma-Bellevue, WA MSA   \n",
       "3     1001     Mickey  Wilkerson  28.0        Seattle-Tacoma-Bellevue, WA MSA   \n",
       "4     1001     Mickey  Wilkerson  28.0        Seattle-Tacoma-Bellevue, WA MSA   \n",
       "\n",
       "    reg_date      plan churn_date  month  message_count  number_of_calls  \\\n",
       "0 2018-12-24  ultimate        NaT   12.0           11.0             16.0   \n",
       "1 2018-08-13      surf        NaT    8.0           30.0             27.0   \n",
       "2 2018-08-13      surf        NaT    9.0           44.0             49.0   \n",
       "3 2018-08-13      surf        NaT   10.0           53.0             65.0   \n",
       "4 2018-08-13      surf        NaT   11.0           36.0             64.0   \n",
       "\n",
       "   call_duration  session_date_month    gb_used  \n",
       "0          124.0                12.0   1.856904  \n",
       "1          187.0                 8.0   6.756982  \n",
       "2          326.0                 9.0  13.002754  \n",
       "3          411.0                10.0  21.807119  \n",
       "4          441.0                11.0  18.070605  "
      ]
     },
     "execution_count": 46,
     "metadata": {},
     "output_type": "execute_result"
    }
   ],
   "source": [
    "total_data = pd.merge(total_data, df_internet_grouped, how='outer', left_on = ['user_id', 'month'], right_on = ['user_id', 'session_date_month'])\n",
    "total_data.head()"
   ]
  },
  {
   "cell_type": "code",
   "execution_count": 47,
   "metadata": {},
   "outputs": [
    {
     "data": {
      "text/html": [
       "<div>\n",
       "<style scoped>\n",
       "    .dataframe tbody tr th:only-of-type {\n",
       "        vertical-align: middle;\n",
       "    }\n",
       "\n",
       "    .dataframe tbody tr th {\n",
       "        vertical-align: top;\n",
       "    }\n",
       "\n",
       "    .dataframe thead th {\n",
       "        text-align: right;\n",
       "    }\n",
       "</style>\n",
       "<table border=\"1\" class=\"dataframe\">\n",
       "  <thead>\n",
       "    <tr style=\"text-align: right;\">\n",
       "      <th></th>\n",
       "      <th>user_id</th>\n",
       "      <th>first_name</th>\n",
       "      <th>last_name</th>\n",
       "      <th>age</th>\n",
       "      <th>city</th>\n",
       "      <th>reg_date</th>\n",
       "      <th>plan</th>\n",
       "      <th>churn_date</th>\n",
       "      <th>month</th>\n",
       "      <th>message_count</th>\n",
       "      <th>number_of_calls</th>\n",
       "      <th>call_duration</th>\n",
       "      <th>gb_used</th>\n",
       "    </tr>\n",
       "  </thead>\n",
       "  <tbody>\n",
       "    <tr>\n",
       "      <td>0</td>\n",
       "      <td>1000</td>\n",
       "      <td>Anamaria</td>\n",
       "      <td>Bauer</td>\n",
       "      <td>45.0</td>\n",
       "      <td>Atlanta-Sandy Springs-Roswell, GA MSA</td>\n",
       "      <td>2018-12-24</td>\n",
       "      <td>ultimate</td>\n",
       "      <td>NaT</td>\n",
       "      <td>12.0</td>\n",
       "      <td>11.0</td>\n",
       "      <td>16.0</td>\n",
       "      <td>124.0</td>\n",
       "      <td>1.856904</td>\n",
       "    </tr>\n",
       "    <tr>\n",
       "      <td>1</td>\n",
       "      <td>1001</td>\n",
       "      <td>Mickey</td>\n",
       "      <td>Wilkerson</td>\n",
       "      <td>28.0</td>\n",
       "      <td>Seattle-Tacoma-Bellevue, WA MSA</td>\n",
       "      <td>2018-08-13</td>\n",
       "      <td>surf</td>\n",
       "      <td>NaT</td>\n",
       "      <td>8.0</td>\n",
       "      <td>30.0</td>\n",
       "      <td>27.0</td>\n",
       "      <td>187.0</td>\n",
       "      <td>6.756982</td>\n",
       "    </tr>\n",
       "    <tr>\n",
       "      <td>2</td>\n",
       "      <td>1001</td>\n",
       "      <td>Mickey</td>\n",
       "      <td>Wilkerson</td>\n",
       "      <td>28.0</td>\n",
       "      <td>Seattle-Tacoma-Bellevue, WA MSA</td>\n",
       "      <td>2018-08-13</td>\n",
       "      <td>surf</td>\n",
       "      <td>NaT</td>\n",
       "      <td>9.0</td>\n",
       "      <td>44.0</td>\n",
       "      <td>49.0</td>\n",
       "      <td>326.0</td>\n",
       "      <td>13.002754</td>\n",
       "    </tr>\n",
       "    <tr>\n",
       "      <td>3</td>\n",
       "      <td>1001</td>\n",
       "      <td>Mickey</td>\n",
       "      <td>Wilkerson</td>\n",
       "      <td>28.0</td>\n",
       "      <td>Seattle-Tacoma-Bellevue, WA MSA</td>\n",
       "      <td>2018-08-13</td>\n",
       "      <td>surf</td>\n",
       "      <td>NaT</td>\n",
       "      <td>10.0</td>\n",
       "      <td>53.0</td>\n",
       "      <td>65.0</td>\n",
       "      <td>411.0</td>\n",
       "      <td>21.807119</td>\n",
       "    </tr>\n",
       "    <tr>\n",
       "      <td>4</td>\n",
       "      <td>1001</td>\n",
       "      <td>Mickey</td>\n",
       "      <td>Wilkerson</td>\n",
       "      <td>28.0</td>\n",
       "      <td>Seattle-Tacoma-Bellevue, WA MSA</td>\n",
       "      <td>2018-08-13</td>\n",
       "      <td>surf</td>\n",
       "      <td>NaT</td>\n",
       "      <td>11.0</td>\n",
       "      <td>36.0</td>\n",
       "      <td>64.0</td>\n",
       "      <td>441.0</td>\n",
       "      <td>18.070605</td>\n",
       "    </tr>\n",
       "  </tbody>\n",
       "</table>\n",
       "</div>"
      ],
      "text/plain": [
       "   user_id first_name  last_name   age                                   city  \\\n",
       "0     1000   Anamaria      Bauer  45.0  Atlanta-Sandy Springs-Roswell, GA MSA   \n",
       "1     1001     Mickey  Wilkerson  28.0        Seattle-Tacoma-Bellevue, WA MSA   \n",
       "2     1001     Mickey  Wilkerson  28.0        Seattle-Tacoma-Bellevue, WA MSA   \n",
       "3     1001     Mickey  Wilkerson  28.0        Seattle-Tacoma-Bellevue, WA MSA   \n",
       "4     1001     Mickey  Wilkerson  28.0        Seattle-Tacoma-Bellevue, WA MSA   \n",
       "\n",
       "    reg_date      plan churn_date  month  message_count  number_of_calls  \\\n",
       "0 2018-12-24  ultimate        NaT   12.0           11.0             16.0   \n",
       "1 2018-08-13      surf        NaT    8.0           30.0             27.0   \n",
       "2 2018-08-13      surf        NaT    9.0           44.0             49.0   \n",
       "3 2018-08-13      surf        NaT   10.0           53.0             65.0   \n",
       "4 2018-08-13      surf        NaT   11.0           36.0             64.0   \n",
       "\n",
       "   call_duration    gb_used  \n",
       "0          124.0   1.856904  \n",
       "1          187.0   6.756982  \n",
       "2          326.0  13.002754  \n",
       "3          411.0  21.807119  \n",
       "4          441.0  18.070605  "
      ]
     },
     "execution_count": 47,
     "metadata": {},
     "output_type": "execute_result"
    }
   ],
   "source": [
    "total_data.drop(['session_date_month'], axis='columns', inplace=True)\n",
    "total_data.head()\n",
    "#The 'session_date_month' and 'month' columns are identical. 'Session_date_monthу' has been removed."
   ]
  },
  {
   "cell_type": "code",
   "execution_count": 48,
   "metadata": {},
   "outputs": [
    {
     "data": {
      "text/html": [
       "<div>\n",
       "<style scoped>\n",
       "    .dataframe tbody tr th:only-of-type {\n",
       "        vertical-align: middle;\n",
       "    }\n",
       "\n",
       "    .dataframe tbody tr th {\n",
       "        vertical-align: top;\n",
       "    }\n",
       "\n",
       "    .dataframe thead th {\n",
       "        text-align: right;\n",
       "    }\n",
       "</style>\n",
       "<table border=\"1\" class=\"dataframe\">\n",
       "  <thead>\n",
       "    <tr style=\"text-align: right;\">\n",
       "      <th></th>\n",
       "      <th>user_id</th>\n",
       "      <th>first_name</th>\n",
       "      <th>last_name</th>\n",
       "      <th>age</th>\n",
       "      <th>city</th>\n",
       "      <th>reg_date</th>\n",
       "      <th>plan</th>\n",
       "      <th>churn_date</th>\n",
       "      <th>month</th>\n",
       "      <th>message_count</th>\n",
       "      <th>...</th>\n",
       "      <th>call_duration</th>\n",
       "      <th>gb_used</th>\n",
       "      <th>messages_included</th>\n",
       "      <th>mb_per_month_included</th>\n",
       "      <th>minutes_included</th>\n",
       "      <th>usd_monthly_pay</th>\n",
       "      <th>usd_per_gb</th>\n",
       "      <th>usd_per_message</th>\n",
       "      <th>usd_per_minute</th>\n",
       "      <th>plan_name</th>\n",
       "    </tr>\n",
       "  </thead>\n",
       "  <tbody>\n",
       "    <tr>\n",
       "      <td>0</td>\n",
       "      <td>1000</td>\n",
       "      <td>Anamaria</td>\n",
       "      <td>Bauer</td>\n",
       "      <td>45.0</td>\n",
       "      <td>Atlanta-Sandy Springs-Roswell, GA MSA</td>\n",
       "      <td>2018-12-24</td>\n",
       "      <td>ultimate</td>\n",
       "      <td>NaT</td>\n",
       "      <td>12.0</td>\n",
       "      <td>11.0</td>\n",
       "      <td>...</td>\n",
       "      <td>124.0</td>\n",
       "      <td>1.856904</td>\n",
       "      <td>1000.0</td>\n",
       "      <td>30720.0</td>\n",
       "      <td>3000.0</td>\n",
       "      <td>70.0</td>\n",
       "      <td>7.0</td>\n",
       "      <td>0.01</td>\n",
       "      <td>0.01</td>\n",
       "      <td>ultimate</td>\n",
       "    </tr>\n",
       "    <tr>\n",
       "      <td>1</td>\n",
       "      <td>1001</td>\n",
       "      <td>Mickey</td>\n",
       "      <td>Wilkerson</td>\n",
       "      <td>28.0</td>\n",
       "      <td>Seattle-Tacoma-Bellevue, WA MSA</td>\n",
       "      <td>2018-08-13</td>\n",
       "      <td>surf</td>\n",
       "      <td>NaT</td>\n",
       "      <td>8.0</td>\n",
       "      <td>30.0</td>\n",
       "      <td>...</td>\n",
       "      <td>187.0</td>\n",
       "      <td>6.756982</td>\n",
       "      <td>50.0</td>\n",
       "      <td>15360.0</td>\n",
       "      <td>500.0</td>\n",
       "      <td>20.0</td>\n",
       "      <td>10.0</td>\n",
       "      <td>0.03</td>\n",
       "      <td>0.03</td>\n",
       "      <td>surf</td>\n",
       "    </tr>\n",
       "    <tr>\n",
       "      <td>2</td>\n",
       "      <td>1001</td>\n",
       "      <td>Mickey</td>\n",
       "      <td>Wilkerson</td>\n",
       "      <td>28.0</td>\n",
       "      <td>Seattle-Tacoma-Bellevue, WA MSA</td>\n",
       "      <td>2018-08-13</td>\n",
       "      <td>surf</td>\n",
       "      <td>NaT</td>\n",
       "      <td>9.0</td>\n",
       "      <td>44.0</td>\n",
       "      <td>...</td>\n",
       "      <td>326.0</td>\n",
       "      <td>13.002754</td>\n",
       "      <td>50.0</td>\n",
       "      <td>15360.0</td>\n",
       "      <td>500.0</td>\n",
       "      <td>20.0</td>\n",
       "      <td>10.0</td>\n",
       "      <td>0.03</td>\n",
       "      <td>0.03</td>\n",
       "      <td>surf</td>\n",
       "    </tr>\n",
       "    <tr>\n",
       "      <td>3</td>\n",
       "      <td>1001</td>\n",
       "      <td>Mickey</td>\n",
       "      <td>Wilkerson</td>\n",
       "      <td>28.0</td>\n",
       "      <td>Seattle-Tacoma-Bellevue, WA MSA</td>\n",
       "      <td>2018-08-13</td>\n",
       "      <td>surf</td>\n",
       "      <td>NaT</td>\n",
       "      <td>10.0</td>\n",
       "      <td>53.0</td>\n",
       "      <td>...</td>\n",
       "      <td>411.0</td>\n",
       "      <td>21.807119</td>\n",
       "      <td>50.0</td>\n",
       "      <td>15360.0</td>\n",
       "      <td>500.0</td>\n",
       "      <td>20.0</td>\n",
       "      <td>10.0</td>\n",
       "      <td>0.03</td>\n",
       "      <td>0.03</td>\n",
       "      <td>surf</td>\n",
       "    </tr>\n",
       "    <tr>\n",
       "      <td>4</td>\n",
       "      <td>1001</td>\n",
       "      <td>Mickey</td>\n",
       "      <td>Wilkerson</td>\n",
       "      <td>28.0</td>\n",
       "      <td>Seattle-Tacoma-Bellevue, WA MSA</td>\n",
       "      <td>2018-08-13</td>\n",
       "      <td>surf</td>\n",
       "      <td>NaT</td>\n",
       "      <td>11.0</td>\n",
       "      <td>36.0</td>\n",
       "      <td>...</td>\n",
       "      <td>441.0</td>\n",
       "      <td>18.070605</td>\n",
       "      <td>50.0</td>\n",
       "      <td>15360.0</td>\n",
       "      <td>500.0</td>\n",
       "      <td>20.0</td>\n",
       "      <td>10.0</td>\n",
       "      <td>0.03</td>\n",
       "      <td>0.03</td>\n",
       "      <td>surf</td>\n",
       "    </tr>\n",
       "  </tbody>\n",
       "</table>\n",
       "<p>5 rows × 21 columns</p>\n",
       "</div>"
      ],
      "text/plain": [
       "   user_id first_name  last_name   age                                   city  \\\n",
       "0     1000   Anamaria      Bauer  45.0  Atlanta-Sandy Springs-Roswell, GA MSA   \n",
       "1     1001     Mickey  Wilkerson  28.0        Seattle-Tacoma-Bellevue, WA MSA   \n",
       "2     1001     Mickey  Wilkerson  28.0        Seattle-Tacoma-Bellevue, WA MSA   \n",
       "3     1001     Mickey  Wilkerson  28.0        Seattle-Tacoma-Bellevue, WA MSA   \n",
       "4     1001     Mickey  Wilkerson  28.0        Seattle-Tacoma-Bellevue, WA MSA   \n",
       "\n",
       "    reg_date      plan churn_date  month  message_count  ...  call_duration  \\\n",
       "0 2018-12-24  ultimate        NaT   12.0           11.0  ...          124.0   \n",
       "1 2018-08-13      surf        NaT    8.0           30.0  ...          187.0   \n",
       "2 2018-08-13      surf        NaT    9.0           44.0  ...          326.0   \n",
       "3 2018-08-13      surf        NaT   10.0           53.0  ...          411.0   \n",
       "4 2018-08-13      surf        NaT   11.0           36.0  ...          441.0   \n",
       "\n",
       "     gb_used  messages_included  mb_per_month_included  minutes_included  \\\n",
       "0   1.856904             1000.0                30720.0            3000.0   \n",
       "1   6.756982               50.0                15360.0             500.0   \n",
       "2  13.002754               50.0                15360.0             500.0   \n",
       "3  21.807119               50.0                15360.0             500.0   \n",
       "4  18.070605               50.0                15360.0             500.0   \n",
       "\n",
       "   usd_monthly_pay  usd_per_gb  usd_per_message  usd_per_minute  plan_name  \n",
       "0             70.0         7.0             0.01            0.01   ultimate  \n",
       "1             20.0        10.0             0.03            0.03       surf  \n",
       "2             20.0        10.0             0.03            0.03       surf  \n",
       "3             20.0        10.0             0.03            0.03       surf  \n",
       "4             20.0        10.0             0.03            0.03       surf  \n",
       "\n",
       "[5 rows x 21 columns]"
      ]
     },
     "execution_count": 48,
     "metadata": {},
     "output_type": "execute_result"
    }
   ],
   "source": [
    "total_data = pd.merge(total_data, df_plans, how='left', left_on = 'plan', right_on = 'plan_name')\n",
    "total_data.head()"
   ]
  },
  {
   "cell_type": "code",
   "execution_count": 49,
   "metadata": {},
   "outputs": [
    {
     "name": "stdout",
     "output_type": "stream",
     "text": [
      "<class 'pandas.core.frame.DataFrame'>\n",
      "Int64Index: 2875 entries, 0 to 2874\n",
      "Data columns (total 21 columns):\n",
      "user_id                  2875 non-null int64\n",
      "first_name               1904 non-null object\n",
      "last_name                1904 non-null object\n",
      "age                      1904 non-null float64\n",
      "city                     1904 non-null object\n",
      "reg_date                 1904 non-null datetime64[ns]\n",
      "plan                     1904 non-null object\n",
      "churn_date               128 non-null datetime64[ns]\n",
      "month                    1806 non-null float64\n",
      "message_count            1806 non-null float64\n",
      "number_of_calls          2258 non-null float64\n",
      "call_duration            2258 non-null float64\n",
      "gb_used                  2277 non-null float64\n",
      "messages_included        1904 non-null float64\n",
      "mb_per_month_included    1904 non-null float64\n",
      "minutes_included         1904 non-null float64\n",
      "usd_monthly_pay          1904 non-null float64\n",
      "usd_per_gb               1904 non-null float64\n",
      "usd_per_message          1904 non-null float64\n",
      "usd_per_minute           1904 non-null float64\n",
      "plan_name                1904 non-null object\n",
      "dtypes: datetime64[ns](2), float64(13), int64(1), object(5)\n",
      "memory usage: 494.1+ KB\n"
     ]
    }
   ],
   "source": [
    "total_data.info()"
   ]
  },
  {
   "cell_type": "markdown",
   "metadata": {},
   "source": [
    "### Conclusion\n"
   ]
  },
  {
   "cell_type": "markdown",
   "metadata": {},
   "source": [
    "The total_data was created and we will combine all the data necessary for analysis in it.\n",
    "- Calculated the number of calls made and spent minutes of conversation by months;\n",
    "- The number of sent messages by month has been counted;\n",
    "- Calculated the amount of consumed Internet traffic by months.\n"
   ]
  },
  {
   "cell_type": "code",
   "execution_count": 50,
   "metadata": {},
   "outputs": [
    {
     "data": {
      "text/html": [
       "<div>\n",
       "<style scoped>\n",
       "    .dataframe tbody tr th:only-of-type {\n",
       "        vertical-align: middle;\n",
       "    }\n",
       "\n",
       "    .dataframe tbody tr th {\n",
       "        vertical-align: top;\n",
       "    }\n",
       "\n",
       "    .dataframe thead th {\n",
       "        text-align: right;\n",
       "    }\n",
       "</style>\n",
       "<table border=\"1\" class=\"dataframe\">\n",
       "  <thead>\n",
       "    <tr style=\"text-align: right;\">\n",
       "      <th></th>\n",
       "      <th>user_id</th>\n",
       "      <th>first_name</th>\n",
       "      <th>last_name</th>\n",
       "      <th>age</th>\n",
       "      <th>city</th>\n",
       "      <th>reg_date</th>\n",
       "      <th>plan</th>\n",
       "      <th>churn_date</th>\n",
       "      <th>month</th>\n",
       "      <th>message_count</th>\n",
       "      <th>number_of_calls</th>\n",
       "      <th>call_duration</th>\n",
       "      <th>gb_used</th>\n",
       "      <th>messages_included</th>\n",
       "      <th>mb_per_month_included</th>\n",
       "      <th>minutes_included</th>\n",
       "      <th>usd_monthly_pay</th>\n",
       "      <th>usd_per_gb</th>\n",
       "      <th>usd_per_message</th>\n",
       "      <th>usd_per_minute</th>\n",
       "      <th>plan_name</th>\n",
       "      <th>calls_over_plan</th>\n",
       "      <th>messages_over_plan</th>\n",
       "      <th>internet_gb_over_plan</th>\n",
       "    </tr>\n",
       "  </thead>\n",
       "  <tbody>\n",
       "    <tr>\n",
       "      <td>0</td>\n",
       "      <td>1000</td>\n",
       "      <td>Anamaria</td>\n",
       "      <td>Bauer</td>\n",
       "      <td>45.0</td>\n",
       "      <td>Atlanta-Sandy Springs-Roswell, GA MSA</td>\n",
       "      <td>2018-12-24</td>\n",
       "      <td>ultimate</td>\n",
       "      <td>NaT</td>\n",
       "      <td>12.0</td>\n",
       "      <td>11.0</td>\n",
       "      <td>16.0</td>\n",
       "      <td>124.0</td>\n",
       "      <td>1.856904</td>\n",
       "      <td>1000.0</td>\n",
       "      <td>30720.0</td>\n",
       "      <td>3000.0</td>\n",
       "      <td>70.0</td>\n",
       "      <td>7.0</td>\n",
       "      <td>0.01</td>\n",
       "      <td>0.01</td>\n",
       "      <td>ultimate</td>\n",
       "      <td>-2876.0</td>\n",
       "      <td>-989.0</td>\n",
       "      <td>-28.143096</td>\n",
       "    </tr>\n",
       "    <tr>\n",
       "      <td>1</td>\n",
       "      <td>1001</td>\n",
       "      <td>Mickey</td>\n",
       "      <td>Wilkerson</td>\n",
       "      <td>28.0</td>\n",
       "      <td>Seattle-Tacoma-Bellevue, WA MSA</td>\n",
       "      <td>2018-08-13</td>\n",
       "      <td>surf</td>\n",
       "      <td>NaT</td>\n",
       "      <td>8.0</td>\n",
       "      <td>30.0</td>\n",
       "      <td>27.0</td>\n",
       "      <td>187.0</td>\n",
       "      <td>6.756982</td>\n",
       "      <td>50.0</td>\n",
       "      <td>15360.0</td>\n",
       "      <td>500.0</td>\n",
       "      <td>20.0</td>\n",
       "      <td>10.0</td>\n",
       "      <td>0.03</td>\n",
       "      <td>0.03</td>\n",
       "      <td>surf</td>\n",
       "      <td>-313.0</td>\n",
       "      <td>-20.0</td>\n",
       "      <td>-8.243018</td>\n",
       "    </tr>\n",
       "    <tr>\n",
       "      <td>2</td>\n",
       "      <td>1001</td>\n",
       "      <td>Mickey</td>\n",
       "      <td>Wilkerson</td>\n",
       "      <td>28.0</td>\n",
       "      <td>Seattle-Tacoma-Bellevue, WA MSA</td>\n",
       "      <td>2018-08-13</td>\n",
       "      <td>surf</td>\n",
       "      <td>NaT</td>\n",
       "      <td>9.0</td>\n",
       "      <td>44.0</td>\n",
       "      <td>49.0</td>\n",
       "      <td>326.0</td>\n",
       "      <td>13.002754</td>\n",
       "      <td>50.0</td>\n",
       "      <td>15360.0</td>\n",
       "      <td>500.0</td>\n",
       "      <td>20.0</td>\n",
       "      <td>10.0</td>\n",
       "      <td>0.03</td>\n",
       "      <td>0.03</td>\n",
       "      <td>surf</td>\n",
       "      <td>-174.0</td>\n",
       "      <td>-6.0</td>\n",
       "      <td>-1.997246</td>\n",
       "    </tr>\n",
       "    <tr>\n",
       "      <td>3</td>\n",
       "      <td>1001</td>\n",
       "      <td>Mickey</td>\n",
       "      <td>Wilkerson</td>\n",
       "      <td>28.0</td>\n",
       "      <td>Seattle-Tacoma-Bellevue, WA MSA</td>\n",
       "      <td>2018-08-13</td>\n",
       "      <td>surf</td>\n",
       "      <td>NaT</td>\n",
       "      <td>10.0</td>\n",
       "      <td>53.0</td>\n",
       "      <td>65.0</td>\n",
       "      <td>411.0</td>\n",
       "      <td>21.807119</td>\n",
       "      <td>50.0</td>\n",
       "      <td>15360.0</td>\n",
       "      <td>500.0</td>\n",
       "      <td>20.0</td>\n",
       "      <td>10.0</td>\n",
       "      <td>0.03</td>\n",
       "      <td>0.03</td>\n",
       "      <td>surf</td>\n",
       "      <td>-89.0</td>\n",
       "      <td>3.0</td>\n",
       "      <td>6.807119</td>\n",
       "    </tr>\n",
       "    <tr>\n",
       "      <td>4</td>\n",
       "      <td>1001</td>\n",
       "      <td>Mickey</td>\n",
       "      <td>Wilkerson</td>\n",
       "      <td>28.0</td>\n",
       "      <td>Seattle-Tacoma-Bellevue, WA MSA</td>\n",
       "      <td>2018-08-13</td>\n",
       "      <td>surf</td>\n",
       "      <td>NaT</td>\n",
       "      <td>11.0</td>\n",
       "      <td>36.0</td>\n",
       "      <td>64.0</td>\n",
       "      <td>441.0</td>\n",
       "      <td>18.070605</td>\n",
       "      <td>50.0</td>\n",
       "      <td>15360.0</td>\n",
       "      <td>500.0</td>\n",
       "      <td>20.0</td>\n",
       "      <td>10.0</td>\n",
       "      <td>0.03</td>\n",
       "      <td>0.03</td>\n",
       "      <td>surf</td>\n",
       "      <td>-59.0</td>\n",
       "      <td>-14.0</td>\n",
       "      <td>3.070605</td>\n",
       "    </tr>\n",
       "  </tbody>\n",
       "</table>\n",
       "</div>"
      ],
      "text/plain": [
       "   user_id first_name  last_name   age                                   city  \\\n",
       "0     1000   Anamaria      Bauer  45.0  Atlanta-Sandy Springs-Roswell, GA MSA   \n",
       "1     1001     Mickey  Wilkerson  28.0        Seattle-Tacoma-Bellevue, WA MSA   \n",
       "2     1001     Mickey  Wilkerson  28.0        Seattle-Tacoma-Bellevue, WA MSA   \n",
       "3     1001     Mickey  Wilkerson  28.0        Seattle-Tacoma-Bellevue, WA MSA   \n",
       "4     1001     Mickey  Wilkerson  28.0        Seattle-Tacoma-Bellevue, WA MSA   \n",
       "\n",
       "    reg_date      plan churn_date  month  message_count  number_of_calls  \\\n",
       "0 2018-12-24  ultimate        NaT   12.0           11.0             16.0   \n",
       "1 2018-08-13      surf        NaT    8.0           30.0             27.0   \n",
       "2 2018-08-13      surf        NaT    9.0           44.0             49.0   \n",
       "3 2018-08-13      surf        NaT   10.0           53.0             65.0   \n",
       "4 2018-08-13      surf        NaT   11.0           36.0             64.0   \n",
       "\n",
       "   call_duration    gb_used  messages_included  mb_per_month_included  \\\n",
       "0          124.0   1.856904             1000.0                30720.0   \n",
       "1          187.0   6.756982               50.0                15360.0   \n",
       "2          326.0  13.002754               50.0                15360.0   \n",
       "3          411.0  21.807119               50.0                15360.0   \n",
       "4          441.0  18.070605               50.0                15360.0   \n",
       "\n",
       "   minutes_included  usd_monthly_pay  usd_per_gb  usd_per_message  \\\n",
       "0            3000.0             70.0         7.0             0.01   \n",
       "1             500.0             20.0        10.0             0.03   \n",
       "2             500.0             20.0        10.0             0.03   \n",
       "3             500.0             20.0        10.0             0.03   \n",
       "4             500.0             20.0        10.0             0.03   \n",
       "\n",
       "   usd_per_minute plan_name  calls_over_plan  messages_over_plan  \\\n",
       "0            0.01  ultimate          -2876.0              -989.0   \n",
       "1            0.03      surf           -313.0               -20.0   \n",
       "2            0.03      surf           -174.0                -6.0   \n",
       "3            0.03      surf            -89.0                 3.0   \n",
       "4            0.03      surf            -59.0               -14.0   \n",
       "\n",
       "   internet_gb_over_plan  \n",
       "0             -28.143096  \n",
       "1              -8.243018  \n",
       "2              -1.997246  \n",
       "3               6.807119  \n",
       "4               3.070605  "
      ]
     },
     "execution_count": 50,
     "metadata": {},
     "output_type": "execute_result"
    }
   ],
   "source": [
    "total_data['calls_over_plan'] = total_data['call_duration'] - total_data['minutes_included']\n",
    "total_data['messages_over_plan'] = total_data['message_count'] - total_data['messages_included']\n",
    "total_data['internet_gb_over_plan'] = total_data['gb_used'] - (total_data['mb_per_month_included']/1024)\n",
    "\n",
    "pd.set_option('display.max_columns', None)\n",
    "total_data.head()\n",
    "# Calculation of monthly revenue from each user."
   ]
  },
  {
   "cell_type": "code",
   "execution_count": 51,
   "metadata": {},
   "outputs": [
    {
     "name": "stdout",
     "output_type": "stream",
     "text": [
      "<class 'pandas.core.frame.DataFrame'>\n",
      "Int64Index: 2875 entries, 0 to 2874\n",
      "Data columns (total 24 columns):\n",
      "user_id                  2875 non-null int64\n",
      "first_name               1904 non-null object\n",
      "last_name                1904 non-null object\n",
      "age                      1904 non-null float64\n",
      "city                     1904 non-null object\n",
      "reg_date                 1904 non-null datetime64[ns]\n",
      "plan                     1904 non-null object\n",
      "churn_date               128 non-null datetime64[ns]\n",
      "month                    1806 non-null float64\n",
      "message_count            1806 non-null float64\n",
      "number_of_calls          2258 non-null float64\n",
      "call_duration            2258 non-null float64\n",
      "gb_used                  2277 non-null float64\n",
      "messages_included        1904 non-null float64\n",
      "mb_per_month_included    1904 non-null float64\n",
      "minutes_included         1904 non-null float64\n",
      "usd_monthly_pay          1904 non-null float64\n",
      "usd_per_gb               1904 non-null float64\n",
      "usd_per_message          1904 non-null float64\n",
      "usd_per_minute           1904 non-null float64\n",
      "plan_name                1904 non-null object\n",
      "calls_over_plan          1773 non-null float64\n",
      "messages_over_plan       1806 non-null float64\n",
      "internet_gb_over_plan    1791 non-null float64\n",
      "dtypes: datetime64[ns](2), float64(16), int64(1), object(5)\n",
      "memory usage: 561.5+ KB\n"
     ]
    }
   ],
   "source": [
    "total_data.info()"
   ]
  },
  {
   "cell_type": "code",
   "execution_count": 52,
   "metadata": {},
   "outputs": [
    {
     "data": {
      "text/html": [
       "<div>\n",
       "<style scoped>\n",
       "    .dataframe tbody tr th:only-of-type {\n",
       "        vertical-align: middle;\n",
       "    }\n",
       "\n",
       "    .dataframe tbody tr th {\n",
       "        vertical-align: top;\n",
       "    }\n",
       "\n",
       "    .dataframe thead th {\n",
       "        text-align: right;\n",
       "    }\n",
       "</style>\n",
       "<table border=\"1\" class=\"dataframe\">\n",
       "  <thead>\n",
       "    <tr style=\"text-align: right;\">\n",
       "      <th></th>\n",
       "      <th>user_id</th>\n",
       "      <th>first_name</th>\n",
       "      <th>last_name</th>\n",
       "      <th>age</th>\n",
       "      <th>city</th>\n",
       "      <th>reg_date</th>\n",
       "      <th>plan</th>\n",
       "      <th>churn_date</th>\n",
       "      <th>month</th>\n",
       "      <th>message_count</th>\n",
       "      <th>number_of_calls</th>\n",
       "      <th>call_duration</th>\n",
       "      <th>gb_used</th>\n",
       "      <th>messages_included</th>\n",
       "      <th>mb_per_month_included</th>\n",
       "      <th>minutes_included</th>\n",
       "      <th>usd_monthly_pay</th>\n",
       "      <th>usd_per_gb</th>\n",
       "      <th>usd_per_message</th>\n",
       "      <th>usd_per_minute</th>\n",
       "      <th>plan_name</th>\n",
       "      <th>calls_over_plan</th>\n",
       "      <th>messages_over_plan</th>\n",
       "      <th>internet_gb_over_plan</th>\n",
       "      <th>revenue</th>\n",
       "    </tr>\n",
       "  </thead>\n",
       "  <tbody>\n",
       "    <tr>\n",
       "      <td>0</td>\n",
       "      <td>1000</td>\n",
       "      <td>Anamaria</td>\n",
       "      <td>Bauer</td>\n",
       "      <td>45.0</td>\n",
       "      <td>Atlanta-Sandy Springs-Roswell, GA MSA</td>\n",
       "      <td>2018-12-24</td>\n",
       "      <td>ultimate</td>\n",
       "      <td>NaT</td>\n",
       "      <td>12.0</td>\n",
       "      <td>11.0</td>\n",
       "      <td>16.0</td>\n",
       "      <td>124.0</td>\n",
       "      <td>1.856904</td>\n",
       "      <td>1000.0</td>\n",
       "      <td>30720.0</td>\n",
       "      <td>3000.0</td>\n",
       "      <td>70.0</td>\n",
       "      <td>7.0</td>\n",
       "      <td>0.01</td>\n",
       "      <td>0.01</td>\n",
       "      <td>ultimate</td>\n",
       "      <td>-2876.0</td>\n",
       "      <td>-989.0</td>\n",
       "      <td>-28.143096</td>\n",
       "      <td>70.000000</td>\n",
       "    </tr>\n",
       "    <tr>\n",
       "      <td>1</td>\n",
       "      <td>1001</td>\n",
       "      <td>Mickey</td>\n",
       "      <td>Wilkerson</td>\n",
       "      <td>28.0</td>\n",
       "      <td>Seattle-Tacoma-Bellevue, WA MSA</td>\n",
       "      <td>2018-08-13</td>\n",
       "      <td>surf</td>\n",
       "      <td>NaT</td>\n",
       "      <td>8.0</td>\n",
       "      <td>30.0</td>\n",
       "      <td>27.0</td>\n",
       "      <td>187.0</td>\n",
       "      <td>6.756982</td>\n",
       "      <td>50.0</td>\n",
       "      <td>15360.0</td>\n",
       "      <td>500.0</td>\n",
       "      <td>20.0</td>\n",
       "      <td>10.0</td>\n",
       "      <td>0.03</td>\n",
       "      <td>0.03</td>\n",
       "      <td>surf</td>\n",
       "      <td>-313.0</td>\n",
       "      <td>-20.0</td>\n",
       "      <td>-8.243018</td>\n",
       "      <td>20.000000</td>\n",
       "    </tr>\n",
       "    <tr>\n",
       "      <td>2</td>\n",
       "      <td>1001</td>\n",
       "      <td>Mickey</td>\n",
       "      <td>Wilkerson</td>\n",
       "      <td>28.0</td>\n",
       "      <td>Seattle-Tacoma-Bellevue, WA MSA</td>\n",
       "      <td>2018-08-13</td>\n",
       "      <td>surf</td>\n",
       "      <td>NaT</td>\n",
       "      <td>9.0</td>\n",
       "      <td>44.0</td>\n",
       "      <td>49.0</td>\n",
       "      <td>326.0</td>\n",
       "      <td>13.002754</td>\n",
       "      <td>50.0</td>\n",
       "      <td>15360.0</td>\n",
       "      <td>500.0</td>\n",
       "      <td>20.0</td>\n",
       "      <td>10.0</td>\n",
       "      <td>0.03</td>\n",
       "      <td>0.03</td>\n",
       "      <td>surf</td>\n",
       "      <td>-174.0</td>\n",
       "      <td>-6.0</td>\n",
       "      <td>-1.997246</td>\n",
       "      <td>20.000000</td>\n",
       "    </tr>\n",
       "    <tr>\n",
       "      <td>3</td>\n",
       "      <td>1001</td>\n",
       "      <td>Mickey</td>\n",
       "      <td>Wilkerson</td>\n",
       "      <td>28.0</td>\n",
       "      <td>Seattle-Tacoma-Bellevue, WA MSA</td>\n",
       "      <td>2018-08-13</td>\n",
       "      <td>surf</td>\n",
       "      <td>NaT</td>\n",
       "      <td>10.0</td>\n",
       "      <td>53.0</td>\n",
       "      <td>65.0</td>\n",
       "      <td>411.0</td>\n",
       "      <td>21.807119</td>\n",
       "      <td>50.0</td>\n",
       "      <td>15360.0</td>\n",
       "      <td>500.0</td>\n",
       "      <td>20.0</td>\n",
       "      <td>10.0</td>\n",
       "      <td>0.03</td>\n",
       "      <td>0.03</td>\n",
       "      <td>surf</td>\n",
       "      <td>-89.0</td>\n",
       "      <td>3.0</td>\n",
       "      <td>6.807119</td>\n",
       "      <td>88.161191</td>\n",
       "    </tr>\n",
       "    <tr>\n",
       "      <td>4</td>\n",
       "      <td>1001</td>\n",
       "      <td>Mickey</td>\n",
       "      <td>Wilkerson</td>\n",
       "      <td>28.0</td>\n",
       "      <td>Seattle-Tacoma-Bellevue, WA MSA</td>\n",
       "      <td>2018-08-13</td>\n",
       "      <td>surf</td>\n",
       "      <td>NaT</td>\n",
       "      <td>11.0</td>\n",
       "      <td>36.0</td>\n",
       "      <td>64.0</td>\n",
       "      <td>441.0</td>\n",
       "      <td>18.070605</td>\n",
       "      <td>50.0</td>\n",
       "      <td>15360.0</td>\n",
       "      <td>500.0</td>\n",
       "      <td>20.0</td>\n",
       "      <td>10.0</td>\n",
       "      <td>0.03</td>\n",
       "      <td>0.03</td>\n",
       "      <td>surf</td>\n",
       "      <td>-59.0</td>\n",
       "      <td>-14.0</td>\n",
       "      <td>3.070605</td>\n",
       "      <td>50.706055</td>\n",
       "    </tr>\n",
       "  </tbody>\n",
       "</table>\n",
       "</div>"
      ],
      "text/plain": [
       "   user_id first_name  last_name   age                                   city  \\\n",
       "0     1000   Anamaria      Bauer  45.0  Atlanta-Sandy Springs-Roswell, GA MSA   \n",
       "1     1001     Mickey  Wilkerson  28.0        Seattle-Tacoma-Bellevue, WA MSA   \n",
       "2     1001     Mickey  Wilkerson  28.0        Seattle-Tacoma-Bellevue, WA MSA   \n",
       "3     1001     Mickey  Wilkerson  28.0        Seattle-Tacoma-Bellevue, WA MSA   \n",
       "4     1001     Mickey  Wilkerson  28.0        Seattle-Tacoma-Bellevue, WA MSA   \n",
       "\n",
       "    reg_date      plan churn_date  month  message_count  number_of_calls  \\\n",
       "0 2018-12-24  ultimate        NaT   12.0           11.0             16.0   \n",
       "1 2018-08-13      surf        NaT    8.0           30.0             27.0   \n",
       "2 2018-08-13      surf        NaT    9.0           44.0             49.0   \n",
       "3 2018-08-13      surf        NaT   10.0           53.0             65.0   \n",
       "4 2018-08-13      surf        NaT   11.0           36.0             64.0   \n",
       "\n",
       "   call_duration    gb_used  messages_included  mb_per_month_included  \\\n",
       "0          124.0   1.856904             1000.0                30720.0   \n",
       "1          187.0   6.756982               50.0                15360.0   \n",
       "2          326.0  13.002754               50.0                15360.0   \n",
       "3          411.0  21.807119               50.0                15360.0   \n",
       "4          441.0  18.070605               50.0                15360.0   \n",
       "\n",
       "   minutes_included  usd_monthly_pay  usd_per_gb  usd_per_message  \\\n",
       "0            3000.0             70.0         7.0             0.01   \n",
       "1             500.0             20.0        10.0             0.03   \n",
       "2             500.0             20.0        10.0             0.03   \n",
       "3             500.0             20.0        10.0             0.03   \n",
       "4             500.0             20.0        10.0             0.03   \n",
       "\n",
       "   usd_per_minute plan_name  calls_over_plan  messages_over_plan  \\\n",
       "0            0.01  ultimate          -2876.0              -989.0   \n",
       "1            0.03      surf           -313.0               -20.0   \n",
       "2            0.03      surf           -174.0                -6.0   \n",
       "3            0.03      surf            -89.0                 3.0   \n",
       "4            0.03      surf            -59.0               -14.0   \n",
       "\n",
       "   internet_gb_over_plan    revenue  \n",
       "0             -28.143096  70.000000  \n",
       "1              -8.243018  20.000000  \n",
       "2              -1.997246  20.000000  \n",
       "3               6.807119  88.161191  \n",
       "4               3.070605  50.706055  "
      ]
     },
     "execution_count": 52,
     "metadata": {},
     "output_type": "execute_result"
    }
   ],
   "source": [
    "def monthly_revenue(row):\n",
    "    revenue = 0\n",
    "    if row['calls_over_plan']>0:\n",
    "        revenue = (abs(row['calls_over_plan']))*row['usd_per_minute']\n",
    "    if row['messages_over_plan']>0:\n",
    "        revenue += (abs(row['messages_over_plan']))*row['usd_per_message'] \n",
    "    if row['internet_gb_over_plan']>0:\n",
    "        revenue += (abs(row['internet_gb_over_plan']))*row['usd_per_gb']\n",
    "    return revenue + row['usd_monthly_pay']\n",
    "\n",
    "total_data['revenue'] = total_data.apply(monthly_revenue, axis = 1)\n",
    "total_data.head()"
   ]
  },
  {
   "cell_type": "code",
   "execution_count": 53,
   "metadata": {},
   "outputs": [
    {
     "data": {
      "text/plain": [
       "Index(['user_id', 'first_name', 'last_name', 'age', 'city', 'reg_date', 'plan',\n",
       "       'churn_date', 'month', 'message_count', 'number_of_calls',\n",
       "       'call_duration', 'gb_used', 'messages_included',\n",
       "       'mb_per_month_included', 'minutes_included', 'usd_monthly_pay',\n",
       "       'usd_per_gb', 'usd_per_message', 'usd_per_minute', 'plan_name',\n",
       "       'calls_over_plan', 'messages_over_plan', 'internet_gb_over_plan',\n",
       "       'revenue'],\n",
       "      dtype='object')"
      ]
     },
     "execution_count": 53,
     "metadata": {},
     "output_type": "execute_result"
    }
   ],
   "source": [
    "total_data.columns"
   ]
  },
  {
   "cell_type": "markdown",
   "metadata": {},
   "source": [
    "### Conclusion\n"
   ]
  },
  {
   "cell_type": "markdown",
   "metadata": {},
   "source": [
    "The monthly revenue from each user was calculated.\n",
    "All data is stored in total_data for further analysis."
   ]
  },
  {
   "cell_type": "markdown",
   "metadata": {},
   "source": [
    "## Analyze the data."
   ]
  },
  {
   "cell_type": "markdown",
   "metadata": {},
   "source": [
    "*Describe the customers' behavior. Find the minutes, texts, and volume of data the users of each plan require per month. Calculate the mean, dispersion, and standard deviation. Plot histograms. Describe the distributions.*"
   ]
  },
  {
   "cell_type": "code",
   "execution_count": 54,
   "metadata": {},
   "outputs": [
    {
     "data": {
      "text/html": [
       "<div>\n",
       "<style scoped>\n",
       "    .dataframe tbody tr th:only-of-type {\n",
       "        vertical-align: middle;\n",
       "    }\n",
       "\n",
       "    .dataframe tbody tr th {\n",
       "        vertical-align: top;\n",
       "    }\n",
       "\n",
       "    .dataframe thead tr th {\n",
       "        text-align: left;\n",
       "    }\n",
       "\n",
       "    .dataframe thead tr:last-of-type th {\n",
       "        text-align: right;\n",
       "    }\n",
       "</style>\n",
       "<table border=\"1\" class=\"dataframe\">\n",
       "  <thead>\n",
       "    <tr>\n",
       "      <th></th>\n",
       "      <th colspan=\"3\" halign=\"left\">message_count</th>\n",
       "      <th colspan=\"3\" halign=\"left\">call_duration</th>\n",
       "      <th colspan=\"3\" halign=\"left\">gb_used</th>\n",
       "    </tr>\n",
       "    <tr>\n",
       "      <th></th>\n",
       "      <th>mean</th>\n",
       "      <th>std</th>\n",
       "      <th>var</th>\n",
       "      <th>mean</th>\n",
       "      <th>std</th>\n",
       "      <th>var</th>\n",
       "      <th>mean</th>\n",
       "      <th>std</th>\n",
       "      <th>var</th>\n",
       "    </tr>\n",
       "    <tr>\n",
       "      <th>plan</th>\n",
       "      <th></th>\n",
       "      <th></th>\n",
       "      <th></th>\n",
       "      <th></th>\n",
       "      <th></th>\n",
       "      <th></th>\n",
       "      <th></th>\n",
       "      <th></th>\n",
       "      <th></th>\n",
       "    </tr>\n",
       "  </thead>\n",
       "  <tbody>\n",
       "    <tr>\n",
       "      <td>surf</td>\n",
       "      <td>40.109656</td>\n",
       "      <td>33.035500</td>\n",
       "      <td>1091.344231</td>\n",
       "      <td>456.520101</td>\n",
       "      <td>241.375275</td>\n",
       "      <td>58262.023485</td>\n",
       "      <td>16.303317</td>\n",
       "      <td>7.749013</td>\n",
       "      <td>60.047199</td>\n",
       "    </tr>\n",
       "    <tr>\n",
       "      <td>ultimate</td>\n",
       "      <td>46.296233</td>\n",
       "      <td>32.942118</td>\n",
       "      <td>1085.183108</td>\n",
       "      <td>454.810017</td>\n",
       "      <td>256.041982</td>\n",
       "      <td>65557.496716</td>\n",
       "      <td>16.854433</td>\n",
       "      <td>7.548833</td>\n",
       "      <td>56.984878</td>\n",
       "    </tr>\n",
       "  </tbody>\n",
       "</table>\n",
       "</div>"
      ],
      "text/plain": [
       "         message_count                         call_duration              \\\n",
       "                  mean        std          var          mean         std   \n",
       "plan                                                                       \n",
       "surf         40.109656  33.035500  1091.344231    456.520101  241.375275   \n",
       "ultimate     46.296233  32.942118  1085.183108    454.810017  256.041982   \n",
       "\n",
       "                          gb_used                       \n",
       "                   var       mean       std        var  \n",
       "plan                                                    \n",
       "surf      58262.023485  16.303317  7.749013  60.047199  \n",
       "ultimate  65557.496716  16.854433  7.548833  56.984878  "
      ]
     },
     "execution_count": 54,
     "metadata": {},
     "output_type": "execute_result"
    }
   ],
   "source": [
    "total_data.groupby(by = 'plan')[('message_count','call_duration','gb_used')].agg(['mean','std','var'])"
   ]
  },
  {
   "cell_type": "code",
   "execution_count": 55,
   "metadata": {},
   "outputs": [
    {
     "name": "stdout",
     "output_type": "stream",
     "text": [
      "Surf on average per month:\n",
      "Minutes: 456.52\n",
      "Texts: 40.11\n",
      "Volume of data : 16.30\n",
      "\n",
      "Dispersion of minutes: 58262.02\n",
      "Dispersion of texts: 1091.34\n",
      "Dispersion of volume of data : 60.05\n",
      "\n",
      "Standard deviation of minutes: 241.38\n",
      "Standard deviation of texts: 33.04\n",
      "Standard deviation of volume of data : 7.75\n"
     ]
    }
   ],
   "source": [
    "print('Surf on average per month:')\n",
    "print('Minutes: {:.2f}'.format((total_data.loc[total_data['plan']=='surf', 'call_duration']).mean()))\n",
    "print('Texts: {:.2f}'.format((total_data.loc[total_data['plan']=='surf', 'message_count']).mean()))\n",
    "print('Volume of data : {:.2f}'.format((total_data.loc[total_data['plan']=='surf', 'gb_used']).mean()))\n",
    "print()\n",
    "print('Dispersion of minutes: {:.2f}'.format((total_data.loc[total_data['plan']=='surf', 'call_duration']).std()**2))\n",
    "print('Dispersion of texts: {:.2f}'.format((total_data.loc[total_data['plan']=='surf', 'message_count']).std()**2))\n",
    "print('Dispersion of volume of data : {:.2f}'.format((total_data.loc[total_data['plan']=='surf', 'gb_used']).std()**2))\n",
    "print()\n",
    "print('Standard deviation of minutes: {:.2f}'.format((total_data.loc[total_data['plan']=='surf', 'call_duration']).std()))\n",
    "print('Standard deviation of texts: {:.2f}'.format((total_data.loc[total_data['plan']=='surf', 'message_count']).std()))\n",
    "print('Standard deviation of volume of data : {:.2f}'.format((total_data.loc[total_data['plan']=='surf', 'gb_used']).std()))"
   ]
  },
  {
   "cell_type": "code",
   "execution_count": 56,
   "metadata": {},
   "outputs": [
    {
     "name": "stdout",
     "output_type": "stream",
     "text": [
      "Ultimate on average per month:\n",
      "Minutes: 454.81\n",
      "Texts: 46.30\n",
      "Volume of data: 16.85\n",
      "\n",
      "Dispersion of minutes: 65557.50\n",
      "Dispersion of texts: 1085.18\n",
      "Dispersion of volume of data: 56.98\n",
      "\n",
      "Standard deviation of minutes: 256.04\n",
      "Standard deviation of texts: 32.94\n",
      "Standard deviation of volume of data: 7.55\n"
     ]
    }
   ],
   "source": [
    "print('Ultimate on average per month:')\n",
    "print('Minutes: {:.2f}'.format((total_data.loc[total_data['plan']=='ultimate', 'call_duration']).mean()))\n",
    "print('Texts: {:.2f}'.format((total_data.loc[total_data['plan']=='ultimate', 'message_count']).mean()))\n",
    "print('Volume of data: {:.2f}'.format((total_data.loc[total_data['plan']=='ultimate', 'gb_used']).mean()))\n",
    "print()\n",
    "print('Dispersion of minutes: {:.2f}'.format((total_data.loc[total_data['plan']=='ultimate', 'call_duration']).std()**2))\n",
    "print('Dispersion of texts: {:.2f}'.format((total_data.loc[total_data['plan']=='ultimate', 'message_count']).std()**2))\n",
    "print('Dispersion of volume of data: {:.2f}'.format((total_data.loc[total_data['plan']=='ultimate', 'gb_used']).std()**2))\n",
    "print()\n",
    "print('Standard deviation of minutes: {:.2f}'.format((total_data.loc[total_data['plan']=='ultimate', 'call_duration']).std()))\n",
    "print('Standard deviation of texts: {:.2f}'.format((total_data.loc[total_data['plan']=='ultimate', 'message_count']).std()))\n",
    "print('Standard deviation of volume of data: {:.2f}'.format((total_data.loc[total_data['plan']=='ultimate', 'gb_used']).std()))"
   ]
  },
  {
   "cell_type": "code",
   "execution_count": 57,
   "metadata": {},
   "outputs": [
    {
     "data": {
      "image/png": "[encoded data removed]",
      "text/plain": [
       "<Figure size 432x288 with 1 Axes>"
      ]
     },
     "metadata": {
      "needs_background": "light"
     },
     "output_type": "display_data"
    }
   ],
   "source": [
    "for plan, d in total_data.groupby(by = 'plan'):\n",
    "    d['call_duration'].hist(bins=20,alpha = 0.5, label=plan)\n",
    "plt.xlabel('Call duration, min')\n",
    "plt.ylabel('Number of people')\n",
    "plt.title('Histogram of call duration distribution in Surf and Ultimate plans')\n",
    "plt.legend()\n",
    "plt.show ()\n",
    "#The distribution is similar to normal, slightly skewed in the positive direction \n",
    "#(that is, its right \"tail\" is longer than the left)."
   ]
  },
  {
   "cell_type": "code",
   "execution_count": 58,
   "metadata": {},
   "outputs": [
    {
     "data": {
      "image/png": "[encoded data removed]",
      "text/plain": [
       "<Figure size 432x288 with 1 Axes>"
      ]
     },
     "metadata": {
      "needs_background": "light"
     },
     "output_type": "display_data"
    }
   ],
   "source": [
    "for plan, d in total_data.groupby(by = 'plan'):\n",
    "    d['message_count'].hist(bins=20,alpha = 0.5, label=plan)\n",
    "plt.xlabel('Message count')\n",
    "plt.ylabel('Number of people')\n",
    "plt.title('Histogram of the distribution of the number of sent messages in Surf and Ultimate plans')\n",
    "plt.legend()\n",
    "plt.show ()\n",
    "#Both distributions are positively skewed, that is the right \"tail\" of the distributions is much longer than the left."
   ]
  },
  {
   "cell_type": "code",
   "execution_count": 59,
   "metadata": {},
   "outputs": [
    {
     "data": {
      "image/png": "[encoded data removed]",
      "text/plain": [
       "<Figure size 432x288 with 1 Axes>"
      ]
     },
     "metadata": {
      "needs_background": "light"
     },
     "output_type": "display_data"
    }
   ],
   "source": [
    "for plan, d in total_data.groupby(by = 'plan'):\n",
    "    d['gb_used'].hist(bins=20,alpha = 0.5, label=plan)\n",
    "plt.xlabel('Gb count')\n",
    "plt.ylabel('Number of people')\n",
    "plt.title('Histogram of the distribution of the volume of data in Surf and Ultimate plans')\n",
    "plt.legend()\n",
    "plt.show()\n",
    "#The distribution is similar to normal, slightly skewed in the positive direction \n",
    "#(that is, its right \"tail\" is longer than the left)."
   ]
  },
  {
   "cell_type": "code",
   "execution_count": 60,
   "metadata": {},
   "outputs": [
    {
     "name": "stdout",
     "output_type": "stream",
     "text": [
      "Percentage of Surf plan users who use more call minutes than provided in the plan: 37.10%\n",
      "Percentage of Ultimate plan users who use more call minutes than provided in the plan: 0.00%\n"
     ]
    }
   ],
   "source": [
    "print('Percentage of Surf plan users who use more call minutes than provided in the plan: {:.2%}'.format((total_data.loc[total_data['plan']=='surf', 'call_duration']>500).mean()))\n",
    "print('Percentage of Ultimate plan users who use more call minutes than provided in the plan: {:.2%}'.format((total_data.loc[total_data['plan']=='ultimate', 'call_duration']>3000).mean()))\n"
   ]
  },
  {
   "cell_type": "code",
   "execution_count": 61,
   "metadata": {},
   "outputs": [
    {
     "name": "stdout",
     "output_type": "stream",
     "text": [
      "Percentage of Surf plan users who use more texts than provided in the plan: 26.34%\n",
      "Percentage of Ultimate plan users who use more texts than provided in the plan: 0.00%\n"
     ]
    }
   ],
   "source": [
    "print('Percentage of Surf plan users who use more texts than provided in the plan: {:.2%}'.format((total_data.loc[total_data['plan']=='surf', 'message_count']>50).mean()))\n",
    "print('Percentage of Ultimate plan users who use more texts than provided in the plan: {:.2%}'.format((total_data.loc[total_data['plan']=='ultimate', 'message_count']>1000).mean()))\n"
   ]
  },
  {
   "cell_type": "code",
   "execution_count": 62,
   "metadata": {},
   "outputs": [
    {
     "name": "stdout",
     "output_type": "stream",
     "text": [
      "Percentage of Surf plan users who use more GB than provided in the plan: 55.07%\n",
      "Percentage of Ultimate plan users who use more GB than provided in the plan: 5.55%\n"
     ]
    }
   ],
   "source": [
    "print('Percentage of Surf plan users who use more GB than provided in the plan: {:.2%}'.format((total_data.loc[total_data['plan']=='surf', 'gb_used']>15).mean()))\n",
    "print('Percentage of Ultimate plan users who use more GB than provided in the plan: {:.2%}'.format((total_data.loc[total_data['plan']=='ultimate', 'gb_used']>30).mean()))\n"
   ]
  },
  {
   "cell_type": "markdown",
   "metadata": {},
   "source": [
    "### Conclusion\n"
   ]
  },
  {
   "cell_type": "markdown",
   "metadata": {},
   "source": [
    "- The percentage of Surf plan users who are not satisfied with 500 minutes per month is 37.10%. Ultimate customers have 3,000 minutes per month and do not exceed this threshold.\n",
    "- The percentage of Surf plan users who don't get enough of 50 messages a month is 26.34%, which is just over a quarter of all users. Ultimate customers only need 1000 messages per month and do not exceed this threshold.\n",
    "- The percentage of Surf plan users who do not have enough 15 GB per month is 55.07%, which is more than half of the users. The percentage of Ultimate plan customers who do not have enough 30 GB is 5.55%.\n",
    "\n",
    "From these data, it can be seen that a large number of Surf tariff customers lack services in their tariffs and they exceed the number of minutes, messages and GB. Thus, on Surf clients, the Megaline operator earns a lot for additional services.\n",
    "Ultimate customers are mostly satisfied with their data plan, only 5.55% use more than 30 GB per month.\n"
   ]
  },
  {
   "cell_type": "markdown",
   "metadata": {},
   "source": [
    "## Test the hypotheses."
   ]
  },
  {
   "cell_type": "markdown",
   "metadata": {},
   "source": [
    "**The average revenue from users of Ultimate and Surf calling plans differs.**"
   ]
  },
  {
   "cell_type": "markdown",
   "metadata": {},
   "source": [
    "**Null Hypothesis:** \n",
    "The average revenue from users of Ultimate and Surf plans are equal."
   ]
  },
  {
   "cell_type": "markdown",
   "metadata": {},
   "source": [
    "**Alternative hypothesis:**\n",
    "The average revenue from users of Ultimate and Surf plans are **not** equal."
   ]
  },
  {
   "cell_type": "code",
   "execution_count": 63,
   "metadata": {},
   "outputs": [
    {
     "name": "stdout",
     "output_type": "stream",
     "text": [
      "p-value: 8.549161757997579e-25\n",
      "We reject the null hypothesis\n"
     ]
    }
   ],
   "source": [
    "data1 = total_data.loc[total_data['plan']=='surf', 'revenue']\n",
    "data2 = total_data.loc[total_data['plan']=='ultimate', 'revenue']\n",
    "alpha = 0.05\n",
    "\n",
    "results = st.ttest_ind(\n",
    "    data1,\n",
    "    data2,\n",
    "    equal_var = False)\n",
    "\n",
    "print('p-value:', results.pvalue)\n",
    "\n",
    "if (results.pvalue < alpha):\n",
    "    print('We reject the null hypothesis')\n",
    "else:\n",
    "    print(\"We can't reject the null hypothesis\")"
   ]
  },
  {
   "cell_type": "markdown",
   "metadata": {},
   "source": [
    "### Conclusion\n"
   ]
  },
  {
   "cell_type": "markdown",
   "metadata": {},
   "source": [
    "The null hypothesis states that there is no difference between the average income from users of the Ultimate and Surf Call plans. The significance level is 0.05. Since the p-value is less than 0.05, this means that the groups are different, so the null hypothesis is rejected.\n",
    "The analysis shows that the average revenue from users of Ultimate and Surf plans is different."
   ]
  },
  {
   "cell_type": "markdown",
   "metadata": {},
   "source": [
    "**The average revenue from users in NY-NJ area is different from that of the users from other regions.**"
   ]
  },
  {
   "cell_type": "markdown",
   "metadata": {},
   "source": [
    "**Null Hypothesis:** \n",
    "The average revenue from users in NY-NJ area is same from that of the users from other regions."
   ]
  },
  {
   "cell_type": "markdown",
   "metadata": {},
   "source": [
    "**Alternative hypothesis:**\n",
    "The average revenue from users in NY-NJ area is different from that of the users from other regions."
   ]
  },
  {
   "cell_type": "code",
   "execution_count": 64,
   "metadata": {},
   "outputs": [
    {
     "name": "stdout",
     "output_type": "stream",
     "text": [
      "p-value: nan\n",
      "We can't reject the null hypothesis\n"
     ]
    }
   ],
   "source": [
    "data3 = total_data.loc[total_data['city'] == 'New York-Newark-Jersey City, NY-NJ-PA MSA', 'revenue']\n",
    "data4 = total_data.loc[total_data['city'] != 'New York-Newark-Jersey City, NY-NJ-PA MSA', 'revenue']\n",
    "alpha = 0.05\n",
    "\n",
    "results = st.ttest_ind(\n",
    "    data3,\n",
    "    data4,\n",
    "    equal_var = False)\n",
    "\n",
    "print('p-value:', results.pvalue)\n",
    "\n",
    "if (results.pvalue < alpha):\n",
    "    print('We reject the null hypothesis')\n",
    "else:\n",
    "    print(\"We can't reject the null hypothesis\")"
   ]
  },
  {
   "cell_type": "code",
   "execution_count": 65,
   "metadata": {},
   "outputs": [
    {
     "name": "stdout",
     "output_type": "stream",
     "text": [
      "The average revenue of users in NY-NJ  area is $55.67\n",
      "The average revenue of users from other regions is $62.03\n"
     ]
    }
   ],
   "source": [
    "ny_nj = total_data.query('city == \"New York-Newark-Jersey City, NY-NJ-PA MSA\"')['revenue'] \n",
    "# revenue of users in NY-NJ\n",
    "not_ny_nj = total_data.query('city != \"New York-Newark-Jersey City, NY-NJ-PA MSA\"')['revenue']\n",
    "# revenue of users not in NY-NJ\n",
    "print('The average revenue of users in NY-NJ  area is ${:.2f}'.format(ny_nj.mean()))\n",
    "print('The average revenue of users from other regions is ${:.2f}'.format(not_ny_nj.mean()))"
   ]
  },
  {
   "cell_type": "markdown",
   "metadata": {},
   "source": [
    "### Conclusion\n"
   ]
  },
  {
   "cell_type": "markdown",
   "metadata": {},
   "source": [
    "The null hypothesis states that there is no difference between the average income from users in the New York-New Jersey area and users from other regions. Significance level 0.05. Since the p-value is less than 0.05, this means that the groups are different, so the null hypothesis is rejected.\n",
    "Calculations show that the average revenue of users in New York-New Jersey area is 55.78 dollars and the average revenue of users from other regions is 62.13 dollars."
   ]
  },
  {
   "cell_type": "markdown",
   "metadata": {},
   "source": [
    "## Write an overall conclusion."
   ]
  },
  {
   "cell_type": "markdown",
   "metadata": {},
   "source": [
    "### Conclusion\n"
   ]
  },
  {
   "cell_type": "markdown",
   "metadata": {
    "pycharm": {
     "name": "#%% md\n"
    }
   },
   "source": [
    "In this work, two plans of the Megaline operator were considered: \"Surf\" and \"Ultimate\".\n",
    "The goal was to understand which plan brings more money to the operator in order to adjust the advertising budget based on this. The analysis was carried out using data from 500 Megaline users for 2018.\n",
    "In the first and second paragraphs, general information about the data was studied, errors were processed, all data were combined into one date.\n",
    "Monthly is calculated for each user:\n",
    "- the number of calls,\n",
    "- the number of minutes,\n",
    "- the number of sent,\n",
    "- volume of data,\n",
    "- revenue from each user.\n",
    "\n",
    "Further, the analysis of the data was carried out and a conclusion was made. A large number of Surf plan customers are over the plan limits. Clients of the Ultimate plan only exceed the plan in volume of data. That is, according to the Surf plan, the operator earns quite a lot on additional services (in excess of the plan), and for users of the Ultimate tariff, the main income is the cost of the tariff itself.\n",
    "\n",
    "In the fourth paragraph, two hypotheses were tested:\n",
    "- The average revenue from users of Ultimate and Surf calling plans differs.\n",
    "- The average revenue from users in NY-NJ area is different from that of the users from other regions.\n",
    "\n",
    "Finally, can conclude from this analysis that:\n",
    "- Users on the Ultimate plan has more call duration per month, send more text messages, require more data volume, and brings in more average revenue than users on the Surf plan.\n",
    "- Surf users often do not have enough call duration, text messages and volume of data, and they use additional services.\n",
    "- The average revenue from users in other regions is greater than revenue from users in the New York-New Jersey area.\n",
    "- The Ultimate plan is more profitable than the Surf plan, even though the Surf plan has many users exceeding the plan limits.\n"
   ]
  }
 ],
 "metadata": {
  "ExecuteTimeLog": [
   {
    "duration": 4,
    "start_time": "2021-11-08T10:43:17.158Z"
   },
   {
    "duration": 3,
    "start_time": "2021-11-08T10:43:19.598Z"
   },
   {
    "duration": 4,
    "start_time": "2021-11-08T10:43:33.520Z"
   },
   {
    "duration": 130,
    "start_time": "2021-11-08T10:43:51.080Z"
   },
   {
    "duration": 889,
    "start_time": "2021-11-08T11:35:38.555Z"
   },
   {
    "duration": 410,
    "start_time": "2021-11-08T11:37:58.627Z"
   },
   {
    "duration": 12,
    "start_time": "2021-11-08T11:38:38.942Z"
   },
   {
    "duration": 23,
    "start_time": "2021-11-08T11:41:27.009Z"
   },
   {
    "duration": 18,
    "start_time": "2021-11-08T11:42:02.356Z"
   },
   {
    "duration": 15,
    "start_time": "2021-11-08T11:42:15.727Z"
   },
   {
    "duration": 10,
    "start_time": "2021-11-08T11:42:39.771Z"
   },
   {
    "duration": 9,
    "start_time": "2021-11-08T11:43:09.376Z"
   },
   {
    "duration": 536,
    "start_time": "2021-11-08T11:45:28.985Z"
   },
   {
    "duration": 418,
    "start_time": "2021-11-08T11:45:30.433Z"
   },
   {
    "duration": 22,
    "start_time": "2021-11-08T11:45:31.233Z"
   },
   {
    "duration": 3,
    "start_time": "2021-11-08T13:23:11.324Z"
   },
   {
    "duration": 403,
    "start_time": "2021-11-08T13:23:12.519Z"
   },
   {
    "duration": 22,
    "start_time": "2021-11-08T13:23:13.858Z"
   },
   {
    "duration": 19,
    "start_time": "2021-11-08T13:23:15.035Z"
   },
   {
    "duration": 21,
    "start_time": "2021-11-08T13:23:16.226Z"
   },
   {
    "duration": 9,
    "start_time": "2021-11-08T13:23:17.084Z"
   },
   {
    "duration": 10,
    "start_time": "2021-11-08T13:23:17.739Z"
   },
   {
    "duration": 15,
    "start_time": "2021-11-08T13:38:46.671Z"
   },
   {
    "duration": 16,
    "start_time": "2021-11-08T13:38:54.293Z"
   },
   {
    "duration": 16,
    "start_time": "2021-11-08T13:39:07.274Z"
   },
   {
    "duration": 12,
    "start_time": "2021-11-08T13:39:22.096Z"
   },
   {
    "duration": 12,
    "start_time": "2021-11-08T13:39:36.218Z"
   },
   {
    "duration": 16,
    "start_time": "2021-11-08T13:39:56.376Z"
   },
   {
    "duration": 16,
    "start_time": "2021-11-08T13:40:07.765Z"
   },
   {
    "duration": 14,
    "start_time": "2021-11-08T13:40:24.307Z"
   },
   {
    "duration": 11,
    "start_time": "2021-11-08T18:24:21.748Z"
   },
   {
    "duration": 18,
    "start_time": "2021-11-08T18:24:25.822Z"
   },
   {
    "duration": 11,
    "start_time": "2021-11-08T18:24:33.885Z"
   },
   {
    "duration": 17,
    "start_time": "2021-11-08T18:24:36.601Z"
   },
   {
    "duration": 13,
    "start_time": "2021-11-08T18:24:44.670Z"
   },
   {
    "duration": 11,
    "start_time": "2021-11-08T18:24:49.259Z"
   },
   {
    "duration": 17,
    "start_time": "2021-11-08T18:25:01.241Z"
   },
   {
    "duration": 11,
    "start_time": "2021-11-08T18:25:04.576Z"
   },
   {
    "duration": 14,
    "start_time": "2021-11-08T18:25:13.892Z"
   },
   {
    "duration": 30,
    "start_time": "2021-11-08T18:39:22.164Z"
   },
   {
    "duration": 35,
    "start_time": "2021-11-08T18:39:37.277Z"
   },
   {
    "duration": 11,
    "start_time": "2021-11-08T18:45:23.696Z"
   },
   {
    "duration": 540,
    "start_time": "2021-11-08T18:46:49.673Z"
   },
   {
    "duration": 4,
    "start_time": "2021-11-08T18:47:27.452Z"
   },
   {
    "duration": 400,
    "start_time": "2021-11-08T18:47:28.200Z"
   },
   {
    "duration": 21,
    "start_time": "2021-11-08T18:47:28.854Z"
   },
   {
    "duration": 11,
    "start_time": "2021-11-08T18:47:29.714Z"
   },
   {
    "duration": 18,
    "start_time": "2021-11-08T18:47:30.174Z"
   },
   {
    "duration": 12,
    "start_time": "2021-11-08T18:47:30.595Z"
   },
   {
    "duration": 15,
    "start_time": "2021-11-08T18:47:30.876Z"
   },
   {
    "duration": 10,
    "start_time": "2021-11-08T18:47:31.153Z"
   },
   {
    "duration": 10,
    "start_time": "2021-11-08T18:47:31.349Z"
   },
   {
    "duration": 13,
    "start_time": "2021-11-08T18:47:31.564Z"
   },
   {
    "duration": 10,
    "start_time": "2021-11-08T18:47:31.757Z"
   },
   {
    "duration": 15,
    "start_time": "2021-11-08T18:47:31.950Z"
   },
   {
    "duration": 30,
    "start_time": "2021-11-08T18:47:34.862Z"
   },
   {
    "duration": 373,
    "start_time": "2021-11-08T18:47:36.137Z"
   },
   {
    "duration": 5,
    "start_time": "2021-11-08T18:47:59.256Z"
   },
   {
    "duration": 411,
    "start_time": "2021-11-08T18:47:59.867Z"
   },
   {
    "duration": 23,
    "start_time": "2021-11-08T18:48:00.507Z"
   },
   {
    "duration": 11,
    "start_time": "2021-11-08T18:48:01.016Z"
   },
   {
    "duration": 19,
    "start_time": "2021-11-08T18:48:01.387Z"
   },
   {
    "duration": 12,
    "start_time": "2021-11-08T18:48:01.872Z"
   },
   {
    "duration": 18,
    "start_time": "2021-11-08T18:48:02.320Z"
   },
   {
    "duration": 11,
    "start_time": "2021-11-08T18:48:02.782Z"
   },
   {
    "duration": 9,
    "start_time": "2021-11-08T18:48:05.385Z"
   },
   {
    "duration": 15,
    "start_time": "2021-11-08T18:48:05.397Z"
   },
   {
    "duration": 9,
    "start_time": "2021-11-08T18:48:05.415Z"
   },
   {
    "duration": 16,
    "start_time": "2021-11-08T18:48:05.426Z"
   },
   {
    "duration": 28,
    "start_time": "2021-11-08T18:48:06.645Z"
   },
   {
    "duration": 103,
    "start_time": "2021-11-08T18:48:07.082Z"
   },
   {
    "duration": 33,
    "start_time": "2021-11-08T18:48:08.093Z"
   },
   {
    "duration": 90,
    "start_time": "2021-11-08T18:49:41.403Z"
   },
   {
    "duration": 362,
    "start_time": "2021-11-08T18:53:12.074Z"
   },
   {
    "duration": 6,
    "start_time": "2021-11-08T18:56:08.737Z"
   },
   {
    "duration": 6,
    "start_time": "2021-11-08T18:56:36.742Z"
   },
   {
    "duration": 4,
    "start_time": "2021-11-08T18:56:42.603Z"
   },
   {
    "duration": 395,
    "start_time": "2021-11-08T18:56:43.103Z"
   },
   {
    "duration": 22,
    "start_time": "2021-11-08T18:56:43.604Z"
   },
   {
    "duration": 12,
    "start_time": "2021-11-08T18:56:44.099Z"
   },
   {
    "duration": 19,
    "start_time": "2021-11-08T18:56:44.712Z"
   },
   {
    "duration": 12,
    "start_time": "2021-11-08T18:56:45.606Z"
   },
   {
    "duration": 15,
    "start_time": "2021-11-08T18:56:46.352Z"
   },
   {
    "duration": 11,
    "start_time": "2021-11-08T18:56:47.177Z"
   },
   {
    "duration": 10,
    "start_time": "2021-11-08T18:56:48.582Z"
   },
   {
    "duration": 12,
    "start_time": "2021-11-08T18:56:49.258Z"
   },
   {
    "duration": 10415,
    "start_time": "2021-11-08T18:56:50.540Z"
   },
   {
    "duration": 13,
    "start_time": "2021-11-08T18:57:08.125Z"
   },
   {
    "duration": 12,
    "start_time": "2021-11-08T18:57:24.358Z"
   },
   {
    "duration": 9,
    "start_time": "2021-11-08T18:57:39.201Z"
   },
   {
    "duration": 15,
    "start_time": "2021-11-08T18:57:39.984Z"
   },
   {
    "duration": 28,
    "start_time": "2021-11-08T18:57:42.520Z"
   },
   {
    "duration": 98,
    "start_time": "2021-11-08T18:57:42.953Z"
   },
   {
    "duration": 33,
    "start_time": "2021-11-08T18:57:43.688Z"
   },
   {
    "duration": 7,
    "start_time": "2021-11-08T18:57:52.082Z"
   },
   {
    "duration": 15,
    "start_time": "2021-11-08T20:06:42.052Z"
   },
   {
    "duration": 16,
    "start_time": "2021-11-08T20:07:46.508Z"
   },
   {
    "duration": 374,
    "start_time": "2021-11-08T20:10:21.081Z"
   },
   {
    "duration": 42,
    "start_time": "2021-11-08T20:10:30.681Z"
   },
   {
    "duration": 429,
    "start_time": "2021-11-08T20:10:53.538Z"
   },
   {
    "duration": 10,
    "start_time": "2021-11-08T20:10:57.842Z"
   },
   {
    "duration": 33,
    "start_time": "2021-11-08T20:17:40.792Z"
   },
   {
    "duration": 36,
    "start_time": "2021-11-08T20:17:49.449Z"
   },
   {
    "duration": 38,
    "start_time": "2021-11-08T20:18:02.208Z"
   },
   {
    "duration": 37,
    "start_time": "2021-11-08T20:18:13.078Z"
   },
   {
    "duration": 32,
    "start_time": "2021-11-08T20:18:21.725Z"
   },
   {
    "duration": 6,
    "start_time": "2021-11-08T20:18:49.799Z"
   },
   {
    "duration": 15,
    "start_time": "2021-11-08T20:18:59.478Z"
   },
   {
    "duration": 9,
    "start_time": "2021-11-08T20:30:33.109Z"
   },
   {
    "duration": 83,
    "start_time": "2021-11-08T20:30:33.632Z"
   },
   {
    "duration": 31,
    "start_time": "2021-11-08T20:30:34.163Z"
   },
   {
    "duration": 15,
    "start_time": "2021-11-08T20:30:36.720Z"
   },
   {
    "duration": 11,
    "start_time": "2021-11-08T20:30:37.728Z"
   },
   {
    "duration": 6,
    "start_time": "2021-11-08T20:30:40.196Z"
   },
   {
    "duration": 5,
    "start_time": "2021-11-08T20:30:49.354Z"
   },
   {
    "duration": 396,
    "start_time": "2021-11-08T20:30:49.720Z"
   },
   {
    "duration": 22,
    "start_time": "2021-11-08T20:30:50.118Z"
   },
   {
    "duration": 12,
    "start_time": "2021-11-08T20:30:50.363Z"
   },
   {
    "duration": 19,
    "start_time": "2021-11-08T20:30:50.719Z"
   },
   {
    "duration": 14,
    "start_time": "2021-11-08T20:30:51.028Z"
   },
   {
    "duration": 17,
    "start_time": "2021-11-08T20:30:51.302Z"
   },
   {
    "duration": 10,
    "start_time": "2021-11-08T20:30:51.544Z"
   },
   {
    "duration": 10,
    "start_time": "2021-11-08T20:30:52.131Z"
   },
   {
    "duration": 14,
    "start_time": "2021-11-08T20:30:52.143Z"
   },
   {
    "duration": 9,
    "start_time": "2021-11-08T20:30:52.250Z"
   },
   {
    "duration": 14,
    "start_time": "2021-11-08T20:30:52.492Z"
   },
   {
    "duration": 33,
    "start_time": "2021-11-08T20:30:53.852Z"
   },
   {
    "duration": 99,
    "start_time": "2021-11-08T20:30:54.194Z"
   },
   {
    "duration": 32,
    "start_time": "2021-11-08T20:30:54.578Z"
   },
   {
    "duration": 16,
    "start_time": "2021-11-08T20:30:55.224Z"
   },
   {
    "duration": 16,
    "start_time": "2021-11-08T20:30:55.939Z"
   },
   {
    "duration": 6,
    "start_time": "2021-11-08T20:30:57.301Z"
   },
   {
    "duration": 14,
    "start_time": "2021-11-08T20:30:58.202Z"
   },
   {
    "duration": 30,
    "start_time": "2021-11-08T20:32:38.281Z"
   },
   {
    "duration": 27,
    "start_time": "2021-11-08T20:46:03.082Z"
   },
   {
    "duration": 5037,
    "start_time": "2021-11-08T20:47:24.532Z"
   },
   {
    "duration": 5714,
    "start_time": "2021-11-08T20:48:00.811Z"
   },
   {
    "duration": 5128,
    "start_time": "2021-11-08T20:49:26.161Z"
   },
   {
    "duration": 5406,
    "start_time": "2021-11-08T20:49:49.810Z"
   },
   {
    "duration": 5,
    "start_time": "2021-11-08T20:50:02.355Z"
   },
   {
    "duration": 395,
    "start_time": "2021-11-08T20:50:04.445Z"
   },
   {
    "duration": 24,
    "start_time": "2021-11-08T20:50:09.551Z"
   },
   {
    "duration": 12,
    "start_time": "2021-11-08T20:50:10.478Z"
   },
   {
    "duration": 19,
    "start_time": "2021-11-08T20:50:10.693Z"
   },
   {
    "duration": 11,
    "start_time": "2021-11-08T20:50:10.909Z"
   },
   {
    "duration": 16,
    "start_time": "2021-11-08T20:50:11.099Z"
   },
   {
    "duration": 11,
    "start_time": "2021-11-08T20:50:11.297Z"
   },
   {
    "duration": 9,
    "start_time": "2021-11-08T20:50:11.842Z"
   },
   {
    "duration": 13,
    "start_time": "2021-11-08T20:50:12.270Z"
   },
   {
    "duration": 10,
    "start_time": "2021-11-08T20:50:12.663Z"
   },
   {
    "duration": 15,
    "start_time": "2021-11-08T20:50:13.007Z"
   },
   {
    "duration": 31,
    "start_time": "2021-11-08T20:50:14.275Z"
   },
   {
    "duration": 108,
    "start_time": "2021-11-08T20:50:14.517Z"
   },
   {
    "duration": 33,
    "start_time": "2021-11-08T20:50:14.964Z"
   },
   {
    "duration": 17,
    "start_time": "2021-11-08T20:50:15.305Z"
   },
   {
    "duration": 17,
    "start_time": "2021-11-08T20:50:15.653Z"
   },
   {
    "duration": 6,
    "start_time": "2021-11-08T20:50:16.234Z"
   },
   {
    "duration": 15,
    "start_time": "2021-11-08T20:50:16.683Z"
   },
   {
    "duration": 28,
    "start_time": "2021-11-08T20:50:17.191Z"
   },
   {
    "duration": 21,
    "start_time": "2021-11-08T20:50:17.570Z"
   },
   {
    "duration": 5014,
    "start_time": "2021-11-08T20:50:17.975Z"
   },
   {
    "duration": 4972,
    "start_time": "2021-11-08T20:50:48.460Z"
   },
   {
    "duration": -52,
    "start_time": "2021-11-08T20:50:53.487Z"
   },
   {
    "duration": 5445,
    "start_time": "2021-11-08T20:51:04.343Z"
   },
   {
    "duration": 7,
    "start_time": "2021-11-08T20:52:11.088Z"
   },
   {
    "duration": 1400,
    "start_time": "2021-11-08T20:52:42.767Z"
   },
   {
    "duration": 510,
    "start_time": "2021-11-08T20:52:44.170Z"
   },
   {
    "duration": 22,
    "start_time": "2021-11-08T20:52:44.684Z"
   },
   {
    "duration": 16,
    "start_time": "2021-11-08T20:52:44.709Z"
   },
   {
    "duration": 18,
    "start_time": "2021-11-08T20:52:44.727Z"
   },
   {
    "duration": 11,
    "start_time": "2021-11-08T20:52:44.747Z"
   },
   {
    "duration": 50,
    "start_time": "2021-11-08T20:52:44.760Z"
   },
   {
    "duration": 10,
    "start_time": "2021-11-08T20:52:44.814Z"
   },
   {
    "duration": 10,
    "start_time": "2021-11-08T20:52:44.827Z"
   },
   {
    "duration": 16,
    "start_time": "2021-11-08T20:52:44.839Z"
   },
   {
    "duration": 44,
    "start_time": "2021-11-08T20:52:44.857Z"
   },
   {
    "duration": 15,
    "start_time": "2021-11-08T20:52:44.904Z"
   },
   {
    "duration": 29,
    "start_time": "2021-11-08T20:52:44.922Z"
   },
   {
    "duration": 1936,
    "start_time": "2021-11-08T20:52:44.954Z"
   },
   {
    "duration": -62,
    "start_time": "2021-11-08T20:52:46.955Z"
   },
   {
    "duration": -69,
    "start_time": "2021-11-08T20:52:46.963Z"
   },
   {
    "duration": -69,
    "start_time": "2021-11-08T20:52:46.965Z"
   },
   {
    "duration": -69,
    "start_time": "2021-11-08T20:52:46.966Z"
   },
   {
    "duration": -68,
    "start_time": "2021-11-08T20:52:46.967Z"
   },
   {
    "duration": -69,
    "start_time": "2021-11-08T20:52:46.969Z"
   },
   {
    "duration": -68,
    "start_time": "2021-11-08T20:52:46.970Z"
   },
   {
    "duration": 4,
    "start_time": "2021-11-08T20:53:09.399Z"
   },
   {
    "duration": 406,
    "start_time": "2021-11-08T20:53:10.172Z"
   },
   {
    "duration": 21,
    "start_time": "2021-11-08T20:53:10.737Z"
   },
   {
    "duration": 11,
    "start_time": "2021-11-08T20:53:11.797Z"
   },
   {
    "duration": 19,
    "start_time": "2021-11-08T20:53:12.584Z"
   },
   {
    "duration": 12,
    "start_time": "2021-11-08T20:53:13.308Z"
   },
   {
    "duration": 16,
    "start_time": "2021-11-08T20:53:13.990Z"
   },
   {
    "duration": 10,
    "start_time": "2021-11-08T20:53:14.672Z"
   },
   {
    "duration": 9,
    "start_time": "2021-11-08T20:53:15.288Z"
   },
   {
    "duration": 14,
    "start_time": "2021-11-08T20:53:15.746Z"
   },
   {
    "duration": 9,
    "start_time": "2021-11-08T20:53:16.378Z"
   },
   {
    "duration": 15,
    "start_time": "2021-11-08T20:53:16.851Z"
   },
   {
    "duration": 31,
    "start_time": "2021-11-08T20:53:19.121Z"
   },
   {
    "duration": 2809,
    "start_time": "2021-11-08T20:53:19.869Z"
   },
   {
    "duration": 34,
    "start_time": "2021-11-08T20:53:52.288Z"
   },
   {
    "duration": 6,
    "start_time": "2021-11-08T20:54:31.687Z"
   },
   {
    "duration": 32,
    "start_time": "2021-11-08T20:54:33.653Z"
   },
   {
    "duration": 18,
    "start_time": "2021-11-08T20:54:35.499Z"
   },
   {
    "duration": 18,
    "start_time": "2021-11-08T20:54:40.216Z"
   },
   {
    "duration": 7,
    "start_time": "2021-11-08T20:54:41.236Z"
   },
   {
    "duration": 16,
    "start_time": "2021-11-08T20:54:42.253Z"
   },
   {
    "duration": 31,
    "start_time": "2021-11-08T20:54:43.136Z"
   },
   {
    "duration": 12,
    "start_time": "2021-11-08T20:54:47.465Z"
   },
   {
    "duration": 23,
    "start_time": "2021-11-08T20:55:10.087Z"
   },
   {
    "duration": 27,
    "start_time": "2021-11-08T20:55:23.766Z"
   },
   {
    "duration": 15,
    "start_time": "2021-11-08T20:56:41.352Z"
   },
   {
    "duration": 13,
    "start_time": "2021-11-08T20:57:11.258Z"
   },
   {
    "duration": 13,
    "start_time": "2021-11-08T20:57:27.311Z"
   },
   {
    "duration": 397,
    "start_time": "2021-11-08T20:57:51.808Z"
   },
   {
    "duration": 398,
    "start_time": "2021-11-08T20:57:57.263Z"
   },
   {
    "duration": 14,
    "start_time": "2021-11-08T20:58:02.153Z"
   },
   {
    "duration": 13,
    "start_time": "2021-11-08T20:58:25.794Z"
   },
   {
    "duration": 393,
    "start_time": "2021-11-08T20:58:39.200Z"
   },
   {
    "duration": 16,
    "start_time": "2021-11-08T20:58:56.164Z"
   },
   {
    "duration": 15,
    "start_time": "2021-11-08T21:00:15.867Z"
   },
   {
    "duration": 22,
    "start_time": "2021-11-08T21:06:46.003Z"
   },
   {
    "duration": 134,
    "start_time": "2021-11-08T21:07:29.718Z"
   },
   {
    "duration": 396,
    "start_time": "2021-11-08T21:17:58.635Z"
   },
   {
    "duration": 4534,
    "start_time": "2021-11-08T21:18:09.457Z"
   },
   {
    "duration": 16,
    "start_time": "2021-11-08T21:18:21.795Z"
   },
   {
    "duration": 135,
    "start_time": "2021-11-08T21:24:20.899Z"
   },
   {
    "duration": 7,
    "start_time": "2021-11-08T21:25:50.533Z"
   },
   {
    "duration": 14,
    "start_time": "2021-11-08T21:25:56.936Z"
   },
   {
    "duration": 140,
    "start_time": "2021-11-08T21:26:50.467Z"
   },
   {
    "duration": 399,
    "start_time": "2021-11-08T21:26:56.685Z"
   },
   {
    "duration": 444,
    "start_time": "2021-11-08T21:27:05.093Z"
   },
   {
    "duration": 657,
    "start_time": "2021-11-08T21:28:25.494Z"
   },
   {
    "duration": 381,
    "start_time": "2021-11-08T21:29:27.934Z"
   },
   {
    "duration": 479,
    "start_time": "2021-11-08T21:30:01.680Z"
   },
   {
    "duration": 6,
    "start_time": "2021-11-08T21:30:16.776Z"
   },
   {
    "duration": 16,
    "start_time": "2021-11-08T21:30:18.143Z"
   },
   {
    "duration": 439,
    "start_time": "2021-11-08T21:30:56.942Z"
   },
   {
    "duration": 15,
    "start_time": "2021-11-08T21:31:01.418Z"
   },
   {
    "duration": 16,
    "start_time": "2021-11-08T21:31:09.998Z"
   },
   {
    "duration": 5,
    "start_time": "2021-11-08T21:31:14.187Z"
   },
   {
    "duration": 15,
    "start_time": "2021-11-08T21:31:15.062Z"
   },
   {
    "duration": 4,
    "start_time": "2021-11-08T21:31:22.223Z"
   },
   {
    "duration": 382,
    "start_time": "2021-11-08T21:31:22.463Z"
   },
   {
    "duration": 24,
    "start_time": "2021-11-08T21:31:22.974Z"
   },
   {
    "duration": 12,
    "start_time": "2021-11-08T21:31:23.267Z"
   },
   {
    "duration": 18,
    "start_time": "2021-11-08T21:31:23.489Z"
   },
   {
    "duration": 11,
    "start_time": "2021-11-08T21:31:23.711Z"
   },
   {
    "duration": 16,
    "start_time": "2021-11-08T21:31:23.911Z"
   },
   {
    "duration": 11,
    "start_time": "2021-11-08T21:31:24.325Z"
   },
   {
    "duration": 9,
    "start_time": "2021-11-08T21:31:24.520Z"
   },
   {
    "duration": 13,
    "start_time": "2021-11-08T21:31:24.737Z"
   },
   {
    "duration": 10,
    "start_time": "2021-11-08T21:31:24.951Z"
   },
   {
    "duration": 16,
    "start_time": "2021-11-08T21:31:25.184Z"
   },
   {
    "duration": 29,
    "start_time": "2021-11-08T21:31:26.523Z"
   },
   {
    "duration": 6,
    "start_time": "2021-11-08T21:31:27.215Z"
   },
   {
    "duration": 42,
    "start_time": "2021-11-08T21:31:27.223Z"
   },
   {
    "duration": 18,
    "start_time": "2021-11-08T21:31:27.772Z"
   },
   {
    "duration": 18,
    "start_time": "2021-11-08T21:31:28.310Z"
   },
   {
    "duration": 6,
    "start_time": "2021-11-08T21:31:29.079Z"
   },
   {
    "duration": 19,
    "start_time": "2021-11-08T21:31:29.753Z"
   },
   {
    "duration": 29,
    "start_time": "2021-11-08T21:31:30.455Z"
   },
   {
    "duration": 23,
    "start_time": "2021-11-08T21:31:31.069Z"
   },
   {
    "duration": 28,
    "start_time": "2021-11-08T21:31:31.809Z"
   },
   {
    "duration": 14,
    "start_time": "2021-11-08T21:31:32.535Z"
   },
   {
    "duration": 16,
    "start_time": "2021-11-08T21:31:33.314Z"
   },
   {
    "duration": 7,
    "start_time": "2021-11-08T21:31:34.077Z"
   },
   {
    "duration": 15,
    "start_time": "2021-11-08T21:31:35.137Z"
   },
   {
    "duration": 411,
    "start_time": "2021-11-08T21:31:36.049Z"
   },
   {
    "duration": 16,
    "start_time": "2021-11-08T21:31:56.741Z"
   },
   {
    "duration": 10,
    "start_time": "2021-11-08T21:32:21.507Z"
   },
   {
    "duration": 15,
    "start_time": "2021-11-08T21:32:23.071Z"
   },
   {
    "duration": 419,
    "start_time": "2021-11-08T21:32:29.275Z"
   },
   {
    "duration": 456,
    "start_time": "2021-11-08T21:32:42.418Z"
   },
   {
    "duration": 8,
    "start_time": "2021-11-08T21:34:07.621Z"
   },
   {
    "duration": 14,
    "start_time": "2021-11-08T21:34:09.229Z"
   },
   {
    "duration": 1475,
    "start_time": "2021-11-08T21:34:17.388Z"
   },
   {
    "duration": 401,
    "start_time": "2021-11-08T21:34:18.866Z"
   },
   {
    "duration": 22,
    "start_time": "2021-11-08T21:34:19.270Z"
   },
   {
    "duration": 15,
    "start_time": "2021-11-08T21:34:19.295Z"
   },
   {
    "duration": 19,
    "start_time": "2021-11-08T21:34:19.313Z"
   },
   {
    "duration": 11,
    "start_time": "2021-11-08T21:34:19.335Z"
   },
   {
    "duration": 18,
    "start_time": "2021-11-08T21:34:19.348Z"
   },
   {
    "duration": 11,
    "start_time": "2021-11-08T21:34:19.401Z"
   },
   {
    "duration": 11,
    "start_time": "2021-11-08T21:34:19.415Z"
   },
   {
    "duration": 14,
    "start_time": "2021-11-08T21:34:19.429Z"
   },
   {
    "duration": 12,
    "start_time": "2021-11-08T21:34:19.445Z"
   },
   {
    "duration": 51,
    "start_time": "2021-11-08T21:34:19.459Z"
   },
   {
    "duration": 33,
    "start_time": "2021-11-08T21:34:19.513Z"
   },
   {
    "duration": 6,
    "start_time": "2021-11-08T21:34:19.549Z"
   },
   {
    "duration": 63,
    "start_time": "2021-11-08T21:34:19.558Z"
   },
   {
    "duration": 19,
    "start_time": "2021-11-08T21:34:19.624Z"
   },
   {
    "duration": 57,
    "start_time": "2021-11-08T21:34:19.645Z"
   },
   {
    "duration": 6,
    "start_time": "2021-11-08T21:34:19.705Z"
   },
   {
    "duration": 18,
    "start_time": "2021-11-08T21:34:19.714Z"
   },
   {
    "duration": 67,
    "start_time": "2021-11-08T21:34:19.735Z"
   },
   {
    "duration": 26,
    "start_time": "2021-11-08T21:34:19.805Z"
   },
   {
    "duration": 30,
    "start_time": "2021-11-08T21:34:19.834Z"
   },
   {
    "duration": 46,
    "start_time": "2021-11-08T21:34:19.867Z"
   },
   {
    "duration": 22,
    "start_time": "2021-11-08T21:34:19.916Z"
   },
   {
    "duration": 17,
    "start_time": "2021-11-08T21:34:19.941Z"
   },
   {
    "duration": 53,
    "start_time": "2021-11-08T21:34:19.961Z"
   },
   {
    "duration": 13,
    "start_time": "2021-11-08T21:34:20.020Z"
   },
   {
    "duration": 517,
    "start_time": "2021-11-08T21:34:39.100Z"
   },
   {
    "duration": 1270,
    "start_time": "2021-11-08T21:34:55.955Z"
   },
   {
    "duration": 276,
    "start_time": "2021-11-08T21:35:03.501Z"
   },
   {
    "duration": 496,
    "start_time": "2021-11-08T21:35:33.756Z"
   },
   {
    "duration": 7,
    "start_time": "2021-11-08T21:35:39.559Z"
   },
   {
    "duration": 14,
    "start_time": "2021-11-08T21:35:41.603Z"
   },
   {
    "duration": 1026,
    "start_time": "2021-11-09T09:05:45.803Z"
   },
   {
    "duration": 304,
    "start_time": "2021-11-09T09:05:46.831Z"
   },
   {
    "duration": 19,
    "start_time": "2021-11-09T09:05:47.138Z"
   },
   {
    "duration": 21,
    "start_time": "2021-11-09T09:05:47.159Z"
   },
   {
    "duration": 32,
    "start_time": "2021-11-09T09:05:47.181Z"
   },
   {
    "duration": 15,
    "start_time": "2021-11-09T09:05:47.215Z"
   },
   {
    "duration": 12,
    "start_time": "2021-11-09T09:05:47.309Z"
   },
   {
    "duration": 7,
    "start_time": "2021-11-09T09:05:47.455Z"
   },
   {
    "duration": 7,
    "start_time": "2021-11-09T09:05:47.769Z"
   },
   {
    "duration": 9,
    "start_time": "2021-11-09T09:05:47.940Z"
   },
   {
    "duration": 7,
    "start_time": "2021-11-09T09:05:48.106Z"
   },
   {
    "duration": 10,
    "start_time": "2021-11-09T09:05:48.277Z"
   },
   {
    "duration": 20,
    "start_time": "2021-11-09T09:05:49.012Z"
   },
   {
    "duration": 4,
    "start_time": "2021-11-09T09:05:49.201Z"
   },
   {
    "duration": 24,
    "start_time": "2021-11-09T09:05:49.382Z"
   },
   {
    "duration": 15,
    "start_time": "2021-11-09T09:05:49.568Z"
   },
   {
    "duration": 14,
    "start_time": "2021-11-09T09:05:49.741Z"
   },
   {
    "duration": 5,
    "start_time": "2021-11-09T09:05:49.950Z"
   },
   {
    "duration": 14,
    "start_time": "2021-11-09T09:05:50.131Z"
   },
   {
    "duration": 23,
    "start_time": "2021-11-09T09:05:50.313Z"
   },
   {
    "duration": 18,
    "start_time": "2021-11-09T09:05:50.499Z"
   },
   {
    "duration": 20,
    "start_time": "2021-11-09T09:05:50.681Z"
   },
   {
    "duration": 12,
    "start_time": "2021-11-09T09:05:50.877Z"
   },
   {
    "duration": 15,
    "start_time": "2021-11-09T09:05:51.072Z"
   },
   {
    "duration": 17,
    "start_time": "2021-11-09T09:05:51.275Z"
   },
   {
    "duration": 11,
    "start_time": "2021-11-09T09:05:51.452Z"
   },
   {
    "duration": 646,
    "start_time": "2021-11-09T09:05:51.644Z"
   },
   {
    "duration": 1191,
    "start_time": "2021-11-09T09:05:59.711Z"
   },
   {
    "duration": 13,
    "start_time": "2021-11-09T09:06:06.427Z"
   },
   {
    "duration": 11,
    "start_time": "2021-11-09T09:06:14.194Z"
   },
   {
    "duration": 2,
    "start_time": "2021-11-09T09:06:14.835Z"
   },
   {
    "duration": 10,
    "start_time": "2021-11-09T09:06:16.070Z"
   },
   {
    "duration": 9,
    "start_time": "2021-11-09T09:06:20.191Z"
   },
   {
    "duration": 9,
    "start_time": "2021-11-09T09:06:21.289Z"
   },
   {
    "duration": 1030,
    "start_time": "2021-11-09T09:06:35.695Z"
   },
   {
    "duration": 308,
    "start_time": "2021-11-09T09:06:36.727Z"
   },
   {
    "duration": 17,
    "start_time": "2021-11-09T09:06:37.038Z"
   },
   {
    "duration": 21,
    "start_time": "2021-11-09T09:06:37.057Z"
   },
   {
    "duration": 14,
    "start_time": "2021-11-09T09:06:37.080Z"
   },
   {
    "duration": 16,
    "start_time": "2021-11-09T09:06:37.096Z"
   },
   {
    "duration": 13,
    "start_time": "2021-11-09T09:06:37.114Z"
   },
   {
    "duration": 18,
    "start_time": "2021-11-09T09:06:37.129Z"
   },
   {
    "duration": 8,
    "start_time": "2021-11-09T09:06:37.149Z"
   },
   {
    "duration": 12,
    "start_time": "2021-11-09T09:06:37.159Z"
   },
   {
    "duration": 7,
    "start_time": "2021-11-09T09:06:37.173Z"
   },
   {
    "duration": 14,
    "start_time": "2021-11-09T09:06:37.181Z"
   },
   {
    "duration": 28,
    "start_time": "2021-11-09T09:06:37.197Z"
   },
   {
    "duration": 21,
    "start_time": "2021-11-09T09:06:37.227Z"
   },
   {
    "duration": 25,
    "start_time": "2021-11-09T09:06:37.250Z"
   },
   {
    "duration": 13,
    "start_time": "2021-11-09T09:06:37.277Z"
   },
   {
    "duration": 15,
    "start_time": "2021-11-09T09:06:37.291Z"
   },
   {
    "duration": 5,
    "start_time": "2021-11-09T09:06:37.307Z"
   },
   {
    "duration": 41,
    "start_time": "2021-11-09T09:06:37.313Z"
   },
   {
    "duration": 23,
    "start_time": "2021-11-09T09:06:37.356Z"
   },
   {
    "duration": 17,
    "start_time": "2021-11-09T09:06:37.380Z"
   },
   {
    "duration": 20,
    "start_time": "2021-11-09T09:06:37.399Z"
   },
   {
    "duration": 10,
    "start_time": "2021-11-09T09:06:37.446Z"
   },
   {
    "duration": 15,
    "start_time": "2021-11-09T09:06:37.458Z"
   },
   {
    "duration": 2,
    "start_time": "2021-11-09T09:06:37.475Z"
   },
   {
    "duration": 15,
    "start_time": "2021-11-09T09:06:37.479Z"
   },
   {
    "duration": 18,
    "start_time": "2021-11-09T09:06:37.495Z"
   },
   {
    "duration": 12,
    "start_time": "2021-11-09T09:07:11.555Z"
   },
   {
    "duration": 10,
    "start_time": "2021-11-09T09:07:13.887Z"
   },
   {
    "duration": 1230,
    "start_time": "2021-11-09T09:07:16.981Z"
   },
   {
    "duration": 1079,
    "start_time": "2021-11-09T09:15:34.535Z"
   },
   {
    "duration": 4,
    "start_time": "2021-11-09T09:15:56.147Z"
   },
   {
    "duration": 407,
    "start_time": "2021-11-09T09:15:56.519Z"
   },
   {
    "duration": 19,
    "start_time": "2021-11-09T09:15:56.928Z"
   },
   {
    "duration": 10,
    "start_time": "2021-11-09T09:15:57.183Z"
   },
   {
    "duration": 14,
    "start_time": "2021-11-09T09:15:57.505Z"
   },
   {
    "duration": 8,
    "start_time": "2021-11-09T09:15:57.824Z"
   },
   {
    "duration": 13,
    "start_time": "2021-11-09T09:15:58.134Z"
   },
   {
    "duration": 7,
    "start_time": "2021-11-09T09:15:58.534Z"
   },
   {
    "duration": 7,
    "start_time": "2021-11-09T09:15:58.931Z"
   },
   {
    "duration": 12,
    "start_time": "2021-11-09T09:15:59.362Z"
   },
   {
    "duration": 8,
    "start_time": "2021-11-09T09:15:59.873Z"
   },
   {
    "duration": 10,
    "start_time": "2021-11-09T09:16:00.404Z"
   },
   {
    "duration": 28,
    "start_time": "2021-11-09T09:16:02.869Z"
   },
   {
    "duration": 5,
    "start_time": "2021-11-09T09:16:03.390Z"
   },
   {
    "duration": 25,
    "start_time": "2021-11-09T09:16:04.032Z"
   },
   {
    "duration": 15,
    "start_time": "2021-11-09T09:16:04.850Z"
   },
   {
    "duration": 13,
    "start_time": "2021-11-09T09:16:05.569Z"
   },
   {
    "duration": 5,
    "start_time": "2021-11-09T09:16:06.260Z"
   },
   {
    "duration": 13,
    "start_time": "2021-11-09T09:16:07.153Z"
   },
   {
    "duration": 21,
    "start_time": "2021-11-09T09:16:07.685Z"
   },
   {
    "duration": 15,
    "start_time": "2021-11-09T09:16:08.442Z"
   },
   {
    "duration": 21,
    "start_time": "2021-11-09T09:16:09.038Z"
   },
   {
    "duration": 11,
    "start_time": "2021-11-09T09:16:09.493Z"
   },
   {
    "duration": 11,
    "start_time": "2021-11-09T09:16:10.395Z"
   },
   {
    "duration": 4,
    "start_time": "2021-11-09T09:16:11.595Z"
   },
   {
    "duration": 11,
    "start_time": "2021-11-09T09:16:21.590Z"
   },
   {
    "duration": 5,
    "start_time": "2021-11-09T09:17:04.595Z"
   },
   {
    "duration": 10,
    "start_time": "2021-11-09T09:17:05.399Z"
   },
   {
    "duration": 307,
    "start_time": "2021-11-09T09:17:29.213Z"
   },
   {
    "duration": 88,
    "start_time": "2021-11-09T09:17:33.969Z"
   },
   {
    "duration": 362,
    "start_time": "2021-11-09T09:18:03.776Z"
   },
   {
    "duration": 11,
    "start_time": "2021-11-09T09:19:24.195Z"
   },
   {
    "duration": 11,
    "start_time": "2021-11-09T09:19:27.672Z"
   },
   {
    "duration": 6,
    "start_time": "2021-11-09T09:19:31.823Z"
   },
   {
    "duration": 10,
    "start_time": "2021-11-09T09:19:32.685Z"
   },
   {
    "duration": 6,
    "start_time": "2021-11-09T09:19:35.503Z"
   },
   {
    "duration": 11,
    "start_time": "2021-11-09T09:19:36.344Z"
   },
   {
    "duration": 3,
    "start_time": "2021-11-09T09:19:42.639Z"
   },
   {
    "duration": 295,
    "start_time": "2021-11-09T09:19:42.919Z"
   },
   {
    "duration": 17,
    "start_time": "2021-11-09T09:19:43.216Z"
   },
   {
    "duration": 8,
    "start_time": "2021-11-09T09:19:43.235Z"
   },
   {
    "duration": 14,
    "start_time": "2021-11-09T09:19:43.386Z"
   },
   {
    "duration": 11,
    "start_time": "2021-11-09T09:19:43.530Z"
   },
   {
    "duration": 19,
    "start_time": "2021-11-09T09:19:43.688Z"
   },
   {
    "duration": 8,
    "start_time": "2021-11-09T09:19:43.848Z"
   },
   {
    "duration": 7,
    "start_time": "2021-11-09T09:19:44.514Z"
   },
   {
    "duration": 9,
    "start_time": "2021-11-09T09:19:44.679Z"
   },
   {
    "duration": 6,
    "start_time": "2021-11-09T09:19:44.835Z"
   },
   {
    "duration": 11,
    "start_time": "2021-11-09T09:19:44.990Z"
   },
   {
    "duration": 23,
    "start_time": "2021-11-09T09:19:46.801Z"
   },
   {
    "duration": 5,
    "start_time": "2021-11-09T09:19:47.188Z"
   },
   {
    "duration": 24,
    "start_time": "2021-11-09T09:19:47.610Z"
   },
   {
    "duration": 14,
    "start_time": "2021-11-09T09:19:47.804Z"
   },
   {
    "duration": 13,
    "start_time": "2021-11-09T09:19:47.972Z"
   },
   {
    "duration": 4,
    "start_time": "2021-11-09T09:19:48.148Z"
   },
   {
    "duration": 13,
    "start_time": "2021-11-09T09:19:48.856Z"
   },
   {
    "duration": 20,
    "start_time": "2021-11-09T09:19:49.386Z"
   },
   {
    "duration": 15,
    "start_time": "2021-11-09T09:19:49.729Z"
   },
   {
    "duration": 21,
    "start_time": "2021-11-09T09:19:49.930Z"
   },
   {
    "duration": 12,
    "start_time": "2021-11-09T09:19:50.553Z"
   },
   {
    "duration": 12,
    "start_time": "2021-11-09T09:19:51.229Z"
   },
   {
    "duration": 12,
    "start_time": "2021-11-09T09:19:51.979Z"
   },
   {
    "duration": 10,
    "start_time": "2021-11-09T09:19:53.276Z"
   },
   {
    "duration": 102,
    "start_time": "2021-11-09T09:20:08.272Z"
   },
   {
    "duration": 269,
    "start_time": "2021-11-09T09:20:11.543Z"
   },
   {
    "duration": 291,
    "start_time": "2021-11-09T09:20:36.370Z"
   },
   {
    "duration": 262,
    "start_time": "2021-11-09T09:22:43.807Z"
   },
   {
    "duration": 272,
    "start_time": "2021-11-09T09:23:00.666Z"
   },
   {
    "duration": 409,
    "start_time": "2021-11-09T09:23:10.089Z"
   },
   {
    "duration": 2,
    "start_time": "2021-11-09T09:35:32.967Z"
   },
   {
    "duration": 9,
    "start_time": "2021-11-09T09:35:36.287Z"
   },
   {
    "duration": 3,
    "start_time": "2021-11-09T09:35:54.326Z"
   },
   {
    "duration": 287,
    "start_time": "2021-11-09T09:35:55.052Z"
   },
   {
    "duration": 17,
    "start_time": "2021-11-09T09:35:55.721Z"
   },
   {
    "duration": 7,
    "start_time": "2021-11-09T09:35:56.503Z"
   },
   {
    "duration": 15,
    "start_time": "2021-11-09T09:35:57.177Z"
   },
   {
    "duration": 8,
    "start_time": "2021-11-09T09:35:57.880Z"
   },
   {
    "duration": 12,
    "start_time": "2021-11-09T09:35:58.549Z"
   },
   {
    "duration": 8,
    "start_time": "2021-11-09T09:35:59.307Z"
   },
   {
    "duration": 6,
    "start_time": "2021-11-09T09:35:59.868Z"
   },
   {
    "duration": 9,
    "start_time": "2021-11-09T09:36:00.505Z"
   },
   {
    "duration": 7,
    "start_time": "2021-11-09T09:36:01.070Z"
   },
   {
    "duration": 11,
    "start_time": "2021-11-09T09:36:02.195Z"
   },
   {
    "duration": 20,
    "start_time": "2021-11-09T09:36:08.276Z"
   },
   {
    "duration": 4,
    "start_time": "2021-11-09T09:36:09.363Z"
   },
   {
    "duration": 23,
    "start_time": "2021-11-09T09:36:10.010Z"
   },
   {
    "duration": 14,
    "start_time": "2021-11-09T09:36:10.828Z"
   },
   {
    "duration": 12,
    "start_time": "2021-11-09T09:36:11.663Z"
   },
   {
    "duration": 5,
    "start_time": "2021-11-09T09:36:12.397Z"
   },
   {
    "duration": 17,
    "start_time": "2021-11-09T09:36:13.280Z"
   },
   {
    "duration": 29,
    "start_time": "2021-11-09T09:36:14.051Z"
   },
   {
    "duration": 15,
    "start_time": "2021-11-09T09:36:16.477Z"
   },
   {
    "duration": 25,
    "start_time": "2021-11-09T09:36:17.173Z"
   },
   {
    "duration": 9,
    "start_time": "2021-11-09T09:36:17.999Z"
   },
   {
    "duration": 11,
    "start_time": "2021-11-09T09:36:20.301Z"
   },
   {
    "duration": 2,
    "start_time": "2021-11-09T09:36:21.485Z"
   },
   {
    "duration": 3,
    "start_time": "2021-11-09T09:36:22.361Z"
   },
   {
    "duration": 13,
    "start_time": "2021-11-09T09:36:23.372Z"
   },
   {
    "duration": 13,
    "start_time": "2021-11-09T09:40:05.123Z"
   },
   {
    "duration": 13,
    "start_time": "2021-11-09T09:42:37.325Z"
   },
   {
    "duration": 17,
    "start_time": "2021-11-09T09:42:48.455Z"
   },
   {
    "duration": 16,
    "start_time": "2021-11-09T09:44:20.117Z"
   },
   {
    "duration": 5,
    "start_time": "2021-11-09T09:53:33.565Z"
   },
   {
    "duration": 10,
    "start_time": "2021-11-09T09:54:03.472Z"
   },
   {
    "duration": 2,
    "start_time": "2021-11-09T09:54:57.034Z"
   },
   {
    "duration": 287,
    "start_time": "2021-11-09T09:54:57.567Z"
   },
   {
    "duration": 17,
    "start_time": "2021-11-09T09:54:58.305Z"
   },
   {
    "duration": 7,
    "start_time": "2021-11-09T09:54:58.567Z"
   },
   {
    "duration": 14,
    "start_time": "2021-11-09T09:54:58.749Z"
   },
   {
    "duration": 8,
    "start_time": "2021-11-09T09:54:58.931Z"
   },
   {
    "duration": 12,
    "start_time": "2021-11-09T09:54:59.099Z"
   },
   {
    "duration": 8,
    "start_time": "2021-11-09T09:54:59.257Z"
   },
   {
    "duration": 7,
    "start_time": "2021-11-09T09:54:59.410Z"
   },
   {
    "duration": 10,
    "start_time": "2021-11-09T09:54:59.583Z"
   },
   {
    "duration": 6,
    "start_time": "2021-11-09T09:54:59.744Z"
   },
   {
    "duration": 11,
    "start_time": "2021-11-09T09:54:59.913Z"
   },
   {
    "duration": 19,
    "start_time": "2021-11-09T09:55:00.558Z"
   },
   {
    "duration": 4,
    "start_time": "2021-11-09T09:55:00.710Z"
   },
   {
    "duration": 22,
    "start_time": "2021-11-09T09:55:00.884Z"
   },
   {
    "duration": 14,
    "start_time": "2021-11-09T09:55:01.051Z"
   },
   {
    "duration": 12,
    "start_time": "2021-11-09T09:55:01.231Z"
   },
   {
    "duration": 6,
    "start_time": "2021-11-09T09:55:01.413Z"
   },
   {
    "duration": 12,
    "start_time": "2021-11-09T09:55:01.889Z"
   },
   {
    "duration": 48,
    "start_time": "2021-11-09T09:55:01.903Z"
   },
   {
    "duration": 14,
    "start_time": "2021-11-09T09:55:02.293Z"
   },
   {
    "duration": 19,
    "start_time": "2021-11-09T09:55:02.709Z"
   },
   {
    "duration": 10,
    "start_time": "2021-11-09T09:55:03.088Z"
   },
   {
    "duration": 12,
    "start_time": "2021-11-09T09:55:03.342Z"
   },
   {
    "duration": 2,
    "start_time": "2021-11-09T09:55:03.524Z"
   },
   {
    "duration": 2,
    "start_time": "2021-11-09T09:55:03.742Z"
   },
   {
    "duration": 14,
    "start_time": "2021-11-09T09:55:03.971Z"
   },
   {
    "duration": 13,
    "start_time": "2021-11-09T09:55:04.269Z"
   },
   {
    "duration": 12,
    "start_time": "2021-11-09T09:55:04.514Z"
   },
   {
    "duration": 16,
    "start_time": "2021-11-09T09:55:04.836Z"
   },
   {
    "duration": 15,
    "start_time": "2021-11-09T09:55:05.241Z"
   },
   {
    "duration": 9,
    "start_time": "2021-11-09T09:55:05.948Z"
   },
   {
    "duration": 7,
    "start_time": "2021-11-09T09:55:59.574Z"
   },
   {
    "duration": 4,
    "start_time": "2021-11-09T09:57:19.689Z"
   },
   {
    "duration": 4,
    "start_time": "2021-11-09T09:57:42.329Z"
   },
   {
    "duration": 5,
    "start_time": "2021-11-09T09:57:48.759Z"
   },
   {
    "duration": 9,
    "start_time": "2021-11-09T09:58:01.761Z"
   },
   {
    "duration": 9,
    "start_time": "2021-11-09T09:58:08.486Z"
   },
   {
    "duration": 13,
    "start_time": "2021-11-09T09:58:13.742Z"
   },
   {
    "duration": 280,
    "start_time": "2021-11-09T09:58:37.489Z"
   },
   {
    "duration": 274,
    "start_time": "2021-11-09T09:58:44.435Z"
   },
   {
    "duration": 277,
    "start_time": "2021-11-09T09:58:49.275Z"
   },
   {
    "duration": 290,
    "start_time": "2021-11-09T09:58:59.798Z"
   },
   {
    "duration": 5,
    "start_time": "2021-11-09T09:59:17.015Z"
   },
   {
    "duration": 7257,
    "start_time": "2021-11-09T09:59:42.710Z"
   },
   {
    "duration": 300,
    "start_time": "2021-11-09T10:00:59.407Z"
   },
   {
    "duration": 487,
    "start_time": "2021-11-09T10:01:07.340Z"
   },
   {
    "duration": 5,
    "start_time": "2021-11-09T10:03:00.308Z"
   },
   {
    "duration": 5,
    "start_time": "2021-11-09T10:03:59.224Z"
   },
   {
    "duration": 1058,
    "start_time": "2021-11-09T10:04:10.077Z"
   },
   {
    "duration": 315,
    "start_time": "2021-11-09T10:04:11.137Z"
   },
   {
    "duration": 18,
    "start_time": "2021-11-09T10:04:11.454Z"
   },
   {
    "duration": 26,
    "start_time": "2021-11-09T10:04:11.474Z"
   },
   {
    "duration": 31,
    "start_time": "2021-11-09T10:04:11.502Z"
   },
   {
    "duration": 16,
    "start_time": "2021-11-09T10:04:11.535Z"
   },
   {
    "duration": 18,
    "start_time": "2021-11-09T10:04:11.552Z"
   },
   {
    "duration": 12,
    "start_time": "2021-11-09T10:04:11.573Z"
   },
   {
    "duration": 18,
    "start_time": "2021-11-09T10:04:11.587Z"
   },
   {
    "duration": 27,
    "start_time": "2021-11-09T10:04:11.607Z"
   },
   {
    "duration": 24,
    "start_time": "2021-11-09T10:04:11.636Z"
   },
   {
    "duration": 23,
    "start_time": "2021-11-09T10:04:11.662Z"
   },
   {
    "duration": 37,
    "start_time": "2021-11-09T10:04:11.687Z"
   },
   {
    "duration": 4,
    "start_time": "2021-11-09T10:04:11.726Z"
   },
   {
    "duration": 24,
    "start_time": "2021-11-09T10:04:11.732Z"
   },
   {
    "duration": 14,
    "start_time": "2021-11-09T10:04:11.758Z"
   },
   {
    "duration": 15,
    "start_time": "2021-11-09T10:04:11.773Z"
   },
   {
    "duration": 4,
    "start_time": "2021-11-09T10:04:11.790Z"
   },
   {
    "duration": 15,
    "start_time": "2021-11-09T10:04:11.796Z"
   },
   {
    "duration": 41,
    "start_time": "2021-11-09T10:04:11.813Z"
   },
   {
    "duration": 16,
    "start_time": "2021-11-09T10:04:11.856Z"
   },
   {
    "duration": 20,
    "start_time": "2021-11-09T10:04:11.874Z"
   },
   {
    "duration": 9,
    "start_time": "2021-11-09T10:04:11.897Z"
   },
   {
    "duration": 44,
    "start_time": "2021-11-09T10:04:11.908Z"
   },
   {
    "duration": 2,
    "start_time": "2021-11-09T10:04:11.954Z"
   },
   {
    "duration": 9,
    "start_time": "2021-11-09T10:04:11.957Z"
   },
   {
    "duration": 24,
    "start_time": "2021-11-09T10:04:11.968Z"
   },
   {
    "duration": 12,
    "start_time": "2021-11-09T10:04:11.994Z"
   },
   {
    "duration": 12,
    "start_time": "2021-11-09T10:04:12.008Z"
   },
   {
    "duration": 40,
    "start_time": "2021-11-09T10:04:12.022Z"
   },
   {
    "duration": 16,
    "start_time": "2021-11-09T10:04:12.063Z"
   },
   {
    "duration": 7,
    "start_time": "2021-11-09T10:04:12.081Z"
   },
   {
    "duration": 11,
    "start_time": "2021-11-09T10:04:12.089Z"
   },
   {
    "duration": 381,
    "start_time": "2021-11-09T10:04:32.008Z"
   },
   {
    "duration": 284,
    "start_time": "2021-11-09T10:04:38.206Z"
   },
   {
    "duration": 7,
    "start_time": "2021-11-09T10:04:42.480Z"
   },
   {
    "duration": 9,
    "start_time": "2021-11-09T10:07:39.123Z"
   },
   {
    "duration": 1121,
    "start_time": "2021-11-09T19:12:31.406Z"
   },
   {
    "duration": 309,
    "start_time": "2021-11-09T19:12:32.529Z"
   },
   {
    "duration": 16,
    "start_time": "2021-11-09T19:12:32.840Z"
   },
   {
    "duration": 18,
    "start_time": "2021-11-09T19:12:32.858Z"
   },
   {
    "duration": 30,
    "start_time": "2021-11-09T19:12:32.878Z"
   },
   {
    "duration": 11,
    "start_time": "2021-11-09T19:12:32.910Z"
   },
   {
    "duration": 33,
    "start_time": "2021-11-09T19:12:32.923Z"
   },
   {
    "duration": 9,
    "start_time": "2021-11-09T19:12:32.970Z"
   },
   {
    "duration": 29,
    "start_time": "2021-11-09T19:12:32.982Z"
   },
   {
    "duration": 24,
    "start_time": "2021-11-09T19:12:33.014Z"
   },
   {
    "duration": 18,
    "start_time": "2021-11-09T19:12:33.041Z"
   },
   {
    "duration": 24,
    "start_time": "2021-11-09T19:12:33.061Z"
   },
   {
    "duration": 42,
    "start_time": "2021-11-09T19:12:33.087Z"
   },
   {
    "duration": 5,
    "start_time": "2021-11-09T19:12:33.132Z"
   },
   {
    "duration": 48,
    "start_time": "2021-11-09T19:12:33.139Z"
   },
   {
    "duration": 23,
    "start_time": "2021-11-09T19:12:33.189Z"
   },
   {
    "duration": 17,
    "start_time": "2021-11-09T19:12:33.214Z"
   },
   {
    "duration": 11,
    "start_time": "2021-11-09T19:12:33.233Z"
   },
   {
    "duration": 17,
    "start_time": "2021-11-09T19:12:33.246Z"
   },
   {
    "duration": 31,
    "start_time": "2021-11-09T19:12:33.265Z"
   },
   {
    "duration": 16,
    "start_time": "2021-11-09T19:12:33.297Z"
   },
   {
    "duration": 39,
    "start_time": "2021-11-09T19:12:33.314Z"
   },
   {
    "duration": 9,
    "start_time": "2021-11-09T19:12:33.354Z"
   },
   {
    "duration": 22,
    "start_time": "2021-11-09T19:12:33.365Z"
   },
   {
    "duration": 17,
    "start_time": "2021-11-09T19:12:33.389Z"
   },
   {
    "duration": 40,
    "start_time": "2021-11-09T19:12:33.407Z"
   },
   {
    "duration": 15,
    "start_time": "2021-11-09T19:12:33.450Z"
   },
   {
    "duration": 15,
    "start_time": "2021-11-09T19:12:33.466Z"
   },
   {
    "duration": 6,
    "start_time": "2021-11-09T19:12:33.482Z"
   },
   {
    "duration": 16,
    "start_time": "2021-11-09T19:12:33.490Z"
   },
   {
    "duration": 40,
    "start_time": "2021-11-09T19:12:33.508Z"
   },
   {
    "duration": 7,
    "start_time": "2021-11-09T19:14:05.761Z"
   },
   {
    "duration": 6,
    "start_time": "2021-11-09T19:14:23.172Z"
   },
   {
    "duration": 6,
    "start_time": "2021-11-09T19:14:37.718Z"
   },
   {
    "duration": 10,
    "start_time": "2021-11-09T19:45:53.288Z"
   },
   {
    "duration": 3,
    "start_time": "2021-11-09T19:46:14.571Z"
   },
   {
    "duration": 7,
    "start_time": "2021-11-09T19:46:34.338Z"
   },
   {
    "duration": 20,
    "start_time": "2021-11-09T19:47:29.535Z"
   },
   {
    "duration": 17,
    "start_time": "2021-11-09T19:54:29.726Z"
   },
   {
    "duration": 3,
    "start_time": "2021-11-09T19:56:17.886Z"
   },
   {
    "duration": 3,
    "start_time": "2021-11-09T20:01:20.807Z"
   },
   {
    "duration": 14,
    "start_time": "2021-11-09T20:01:26.934Z"
   },
   {
    "duration": 10,
    "start_time": "2021-11-09T20:03:14.823Z"
   },
   {
    "duration": 20,
    "start_time": "2021-11-09T20:04:02.859Z"
   },
   {
    "duration": 16,
    "start_time": "2021-11-09T20:05:00.942Z"
   },
   {
    "duration": 361,
    "start_time": "2021-11-09T20:07:33.406Z"
   },
   {
    "duration": 6,
    "start_time": "2021-11-09T20:09:29.359Z"
   },
   {
    "duration": 275,
    "start_time": "2021-11-09T20:09:47.962Z"
   },
   {
    "duration": 3,
    "start_time": "2021-11-09T20:10:18.454Z"
   },
   {
    "duration": 285,
    "start_time": "2021-11-09T20:10:18.634Z"
   },
   {
    "duration": 16,
    "start_time": "2021-11-09T20:10:18.921Z"
   },
   {
    "duration": 8,
    "start_time": "2021-11-09T20:10:19.040Z"
   },
   {
    "duration": 15,
    "start_time": "2021-11-09T20:10:19.234Z"
   },
   {
    "duration": 8,
    "start_time": "2021-11-09T20:10:19.432Z"
   },
   {
    "duration": 11,
    "start_time": "2021-11-09T20:10:19.620Z"
   },
   {
    "duration": 8,
    "start_time": "2021-11-09T20:10:19.819Z"
   },
   {
    "duration": 7,
    "start_time": "2021-11-09T20:10:20.005Z"
   },
   {
    "duration": 9,
    "start_time": "2021-11-09T20:10:20.191Z"
   },
   {
    "duration": 6,
    "start_time": "2021-11-09T20:10:20.379Z"
   },
   {
    "duration": 13,
    "start_time": "2021-11-09T20:10:21.289Z"
   },
   {
    "duration": 18,
    "start_time": "2021-11-09T20:10:22.865Z"
   },
   {
    "duration": 4,
    "start_time": "2021-11-09T20:10:23.159Z"
   },
   {
    "duration": 22,
    "start_time": "2021-11-09T20:10:23.411Z"
   },
   {
    "duration": 12,
    "start_time": "2021-11-09T20:10:23.786Z"
   },
   {
    "duration": 11,
    "start_time": "2021-11-09T20:10:24.118Z"
   },
   {
    "duration": 4,
    "start_time": "2021-11-09T20:10:24.615Z"
   },
   {
    "duration": 13,
    "start_time": "2021-11-09T20:10:24.975Z"
   },
   {
    "duration": 19,
    "start_time": "2021-11-09T20:10:25.239Z"
   },
   {
    "duration": 15,
    "start_time": "2021-11-09T20:10:25.446Z"
   },
   {
    "duration": 22,
    "start_time": "2021-11-09T20:10:25.692Z"
   },
   {
    "duration": 10,
    "start_time": "2021-11-09T20:10:25.977Z"
   },
   {
    "duration": 12,
    "start_time": "2021-11-09T20:10:26.488Z"
   },
   {
    "duration": 17,
    "start_time": "2021-11-09T20:10:27.002Z"
   },
   {
    "duration": 13,
    "start_time": "2021-11-09T20:10:27.355Z"
   },
   {
    "duration": 16,
    "start_time": "2021-11-09T20:10:27.798Z"
   },
   {
    "duration": 16,
    "start_time": "2021-11-09T20:10:28.200Z"
   },
   {
    "duration": 7,
    "start_time": "2021-11-09T20:10:28.592Z"
   },
   {
    "duration": 5,
    "start_time": "2021-11-09T20:10:29.131Z"
   },
   {
    "duration": 13,
    "start_time": "2021-11-09T20:10:29.524Z"
   },
   {
    "duration": 7,
    "start_time": "2021-11-09T20:10:30.274Z"
   },
   {
    "duration": 4,
    "start_time": "2021-11-09T20:10:30.933Z"
   },
   {
    "duration": 7,
    "start_time": "2021-11-09T20:10:31.455Z"
   },
   {
    "duration": 9,
    "start_time": "2021-11-09T20:10:34.122Z"
   },
   {
    "duration": 2,
    "start_time": "2021-11-09T20:10:34.607Z"
   },
   {
    "duration": 7,
    "start_time": "2021-11-09T20:10:35.331Z"
   },
   {
    "duration": 18,
    "start_time": "2021-11-09T20:10:35.951Z"
   },
   {
    "duration": 21,
    "start_time": "2021-11-09T20:10:36.514Z"
   },
   {
    "duration": 4,
    "start_time": "2021-11-09T20:10:37.404Z"
   },
   {
    "duration": 3,
    "start_time": "2021-11-09T20:10:38.400Z"
   },
   {
    "duration": 15,
    "start_time": "2021-11-09T20:10:39.532Z"
   },
   {
    "duration": 10,
    "start_time": "2021-11-09T20:10:40.195Z"
   },
   {
    "duration": 22,
    "start_time": "2021-11-09T20:10:41.259Z"
   },
   {
    "duration": 16,
    "start_time": "2021-11-09T20:10:41.984Z"
   },
   {
    "duration": 26,
    "start_time": "2021-11-09T20:10:46.453Z"
   },
   {
    "duration": 9,
    "start_time": "2021-11-09T20:11:16.832Z"
   },
   {
    "duration": 25,
    "start_time": "2021-11-09T20:16:48.852Z"
   },
   {
    "duration": 7474,
    "start_time": "2021-11-09T20:29:20.630Z"
   },
   {
    "duration": 10,
    "start_time": "2021-11-09T20:31:20.408Z"
   },
   {
    "duration": 26,
    "start_time": "2021-11-09T20:41:35.559Z"
   },
   {
    "duration": 9,
    "start_time": "2021-11-09T20:41:40.590Z"
   },
   {
    "duration": 7818,
    "start_time": "2021-11-09T20:46:44.554Z"
   },
   {
    "duration": 8643,
    "start_time": "2021-11-09T20:48:11.052Z"
   },
   {
    "duration": 7984,
    "start_time": "2021-11-09T20:50:11.914Z"
   },
   {
    "duration": 3,
    "start_time": "2021-11-09T20:50:39.175Z"
   },
   {
    "duration": 305,
    "start_time": "2021-11-09T20:50:39.629Z"
   },
   {
    "duration": 17,
    "start_time": "2021-11-09T20:50:40.005Z"
   },
   {
    "duration": 8,
    "start_time": "2021-11-09T20:50:40.339Z"
   },
   {
    "duration": 14,
    "start_time": "2021-11-09T20:50:40.694Z"
   },
   {
    "duration": 8,
    "start_time": "2021-11-09T20:50:40.972Z"
   },
   {
    "duration": 12,
    "start_time": "2021-11-09T20:50:41.206Z"
   },
   {
    "duration": 8,
    "start_time": "2021-11-09T20:50:41.434Z"
   },
   {
    "duration": 6,
    "start_time": "2021-11-09T20:50:41.657Z"
   },
   {
    "duration": 8,
    "start_time": "2021-11-09T20:50:41.876Z"
   },
   {
    "duration": 7,
    "start_time": "2021-11-09T20:50:42.074Z"
   },
   {
    "duration": 10,
    "start_time": "2021-11-09T20:50:42.277Z"
   },
   {
    "duration": 19,
    "start_time": "2021-11-09T20:50:43.139Z"
   },
   {
    "duration": 4,
    "start_time": "2021-11-09T20:50:43.548Z"
   },
   {
    "duration": 23,
    "start_time": "2021-11-09T20:50:43.788Z"
   },
   {
    "duration": 14,
    "start_time": "2021-11-09T20:50:44.246Z"
   },
   {
    "duration": 12,
    "start_time": "2021-11-09T20:50:44.495Z"
   },
   {
    "duration": 5,
    "start_time": "2021-11-09T20:50:44.713Z"
   },
   {
    "duration": 14,
    "start_time": "2021-11-09T20:50:44.955Z"
   },
   {
    "duration": 21,
    "start_time": "2021-11-09T20:50:45.190Z"
   },
   {
    "duration": 16,
    "start_time": "2021-11-09T20:50:45.426Z"
   },
   {
    "duration": 19,
    "start_time": "2021-11-09T20:50:45.690Z"
   },
   {
    "duration": 11,
    "start_time": "2021-11-09T20:50:45.917Z"
   },
   {
    "duration": 12,
    "start_time": "2021-11-09T20:50:46.188Z"
   },
   {
    "duration": 16,
    "start_time": "2021-11-09T20:50:46.443Z"
   },
   {
    "duration": 14,
    "start_time": "2021-11-09T20:50:46.697Z"
   },
   {
    "duration": 17,
    "start_time": "2021-11-09T20:50:46.990Z"
   },
   {
    "duration": 18,
    "start_time": "2021-11-09T20:50:47.237Z"
   },
   {
    "duration": 7,
    "start_time": "2021-11-09T20:50:47.518Z"
   },
   {
    "duration": 6,
    "start_time": "2021-11-09T20:50:47.776Z"
   },
   {
    "duration": 11,
    "start_time": "2021-11-09T20:50:48.047Z"
   },
   {
    "duration": 6,
    "start_time": "2021-11-09T20:50:48.759Z"
   },
   {
    "duration": 4,
    "start_time": "2021-11-09T20:50:49.277Z"
   },
   {
    "duration": 9,
    "start_time": "2021-11-09T20:50:49.504Z"
   },
   {
    "duration": 10,
    "start_time": "2021-11-09T20:50:50.149Z"
   },
   {
    "duration": 3,
    "start_time": "2021-11-09T20:50:50.333Z"
   },
   {
    "duration": 7,
    "start_time": "2021-11-09T20:50:50.549Z"
   },
   {
    "duration": 18,
    "start_time": "2021-11-09T20:50:50.780Z"
   },
   {
    "duration": 19,
    "start_time": "2021-11-09T20:50:50.986Z"
   },
   {
    "duration": 5,
    "start_time": "2021-11-09T20:50:51.195Z"
   },
   {
    "duration": 3,
    "start_time": "2021-11-09T20:50:51.416Z"
   },
   {
    "duration": 21,
    "start_time": "2021-11-09T20:50:51.642Z"
   },
   {
    "duration": 9,
    "start_time": "2021-11-09T20:50:51.870Z"
   },
   {
    "duration": 23,
    "start_time": "2021-11-09T20:50:52.086Z"
   },
   {
    "duration": 17,
    "start_time": "2021-11-09T20:50:52.307Z"
   },
   {
    "duration": 28,
    "start_time": "2021-11-09T20:50:52.569Z"
   },
   {
    "duration": 9,
    "start_time": "2021-11-09T20:50:52.804Z"
   },
   {
    "duration": 27,
    "start_time": "2021-11-09T20:50:54.200Z"
   },
   {
    "duration": 9,
    "start_time": "2021-11-09T20:50:54.686Z"
   },
   {
    "duration": 8438,
    "start_time": "2021-11-09T20:50:55.242Z"
   },
   {
    "duration": 1567,
    "start_time": "2021-11-10T11:44:17.029Z"
   },
   {
    "duration": 541,
    "start_time": "2021-11-10T11:44:18.600Z"
   },
   {
    "duration": 26,
    "start_time": "2021-11-10T11:44:19.851Z"
   },
   {
    "duration": 16,
    "start_time": "2021-11-10T11:44:20.276Z"
   },
   {
    "duration": 18,
    "start_time": "2021-11-10T11:44:21.004Z"
   },
   {
    "duration": 15,
    "start_time": "2021-11-10T11:44:21.625Z"
   },
   {
    "duration": 20,
    "start_time": "2021-11-10T11:44:22.159Z"
   },
   {
    "duration": 11,
    "start_time": "2021-11-10T11:44:22.431Z"
   },
   {
    "duration": 9,
    "start_time": "2021-11-10T11:44:22.927Z"
   },
   {
    "duration": 13,
    "start_time": "2021-11-10T11:44:23.675Z"
   },
   {
    "duration": 9,
    "start_time": "2021-11-10T11:44:24.275Z"
   },
   {
    "duration": 15,
    "start_time": "2021-11-10T11:44:24.833Z"
   },
   {
    "duration": 32,
    "start_time": "2021-11-10T11:44:36.268Z"
   },
   {
    "duration": 5,
    "start_time": "2021-11-10T11:44:37.168Z"
   },
   {
    "duration": 33,
    "start_time": "2021-11-10T11:44:37.740Z"
   },
   {
    "duration": 20,
    "start_time": "2021-11-10T11:44:38.264Z"
   },
   {
    "duration": 22,
    "start_time": "2021-11-10T11:44:38.968Z"
   },
   {
    "duration": 6,
    "start_time": "2021-11-10T11:44:39.915Z"
   },
   {
    "duration": 18,
    "start_time": "2021-11-10T11:44:41.308Z"
   },
   {
    "duration": 35,
    "start_time": "2021-11-10T11:44:42.029Z"
   },
   {
    "duration": 26,
    "start_time": "2021-11-10T11:44:42.761Z"
   },
   {
    "duration": 28,
    "start_time": "2021-11-10T11:44:43.485Z"
   },
   {
    "duration": 16,
    "start_time": "2021-11-10T11:44:44.345Z"
   },
   {
    "duration": 24,
    "start_time": "2021-11-10T11:44:45.120Z"
   },
   {
    "duration": 23,
    "start_time": "2021-11-10T11:44:45.887Z"
   },
   {
    "duration": 19,
    "start_time": "2021-11-10T11:44:46.582Z"
   },
   {
    "duration": 22,
    "start_time": "2021-11-10T11:44:47.477Z"
   },
   {
    "duration": 24,
    "start_time": "2021-11-10T11:44:48.180Z"
   },
   {
    "duration": 11,
    "start_time": "2021-11-10T11:44:49.011Z"
   },
   {
    "duration": 6,
    "start_time": "2021-11-10T11:44:51.124Z"
   },
   {
    "duration": 22,
    "start_time": "2021-11-10T11:44:51.900Z"
   },
   {
    "duration": 8,
    "start_time": "2021-11-10T11:44:52.667Z"
   },
   {
    "duration": 7,
    "start_time": "2021-11-10T11:44:53.317Z"
   },
   {
    "duration": 10,
    "start_time": "2021-11-10T11:44:53.920Z"
   },
   {
    "duration": 14,
    "start_time": "2021-11-10T11:44:55.890Z"
   },
   {
    "duration": 4,
    "start_time": "2021-11-10T11:44:56.541Z"
   },
   {
    "duration": 8,
    "start_time": "2021-11-10T11:44:57.088Z"
   },
   {
    "duration": 29,
    "start_time": "2021-11-10T11:44:57.647Z"
   },
   {
    "duration": 30,
    "start_time": "2021-11-10T11:44:58.347Z"
   },
   {
    "duration": 6,
    "start_time": "2021-11-10T11:44:58.999Z"
   },
   {
    "duration": 5,
    "start_time": "2021-11-10T11:44:59.697Z"
   },
   {
    "duration": 25,
    "start_time": "2021-11-10T11:45:00.417Z"
   },
   {
    "duration": 14,
    "start_time": "2021-11-10T11:45:01.129Z"
   },
   {
    "duration": 32,
    "start_time": "2021-11-10T11:45:01.817Z"
   },
   {
    "duration": 23,
    "start_time": "2021-11-10T11:45:02.539Z"
   },
   {
    "duration": 49,
    "start_time": "2021-11-10T11:45:03.366Z"
   },
   {
    "duration": 14,
    "start_time": "2021-11-10T11:45:04.342Z"
   },
   {
    "duration": 41,
    "start_time": "2021-11-10T11:45:06.691Z"
   },
   {
    "duration": 14,
    "start_time": "2021-11-10T11:45:07.777Z"
   },
   {
    "duration": 8618,
    "start_time": "2021-11-10T11:45:09.390Z"
   },
   {
    "duration": 180,
    "start_time": "2021-11-10T11:48:22.279Z"
   },
   {
    "duration": 186,
    "start_time": "2021-11-10T11:48:57.751Z"
   },
   {
    "duration": 37,
    "start_time": "2021-11-10T11:57:14.836Z"
   },
   {
    "duration": 472,
    "start_time": "2021-11-10T12:00:30.436Z"
   },
   {
    "duration": 473,
    "start_time": "2021-11-10T12:01:05.243Z"
   },
   {
    "duration": 485,
    "start_time": "2021-11-10T12:01:19.977Z"
   },
   {
    "duration": 461,
    "start_time": "2021-11-10T12:01:52.923Z"
   },
   {
    "duration": 461,
    "start_time": "2021-11-10T12:02:03.952Z"
   },
   {
    "duration": 298,
    "start_time": "2021-11-10T12:11:28.302Z"
   },
   {
    "duration": 6,
    "start_time": "2021-11-10T12:13:54.163Z"
   },
   {
    "duration": 6,
    "start_time": "2021-11-10T12:17:38.169Z"
   },
   {
    "duration": 37,
    "start_time": "2021-11-10T12:17:42.696Z"
   },
   {
    "duration": 463,
    "start_time": "2021-11-10T12:17:44.182Z"
   },
   {
    "duration": 288,
    "start_time": "2021-11-10T12:17:46.203Z"
   },
   {
    "duration": 322,
    "start_time": "2021-11-10T12:19:06.667Z"
   },
   {
    "duration": 7555,
    "start_time": "2021-11-10T12:19:16.294Z"
   },
   {
    "duration": -97,
    "start_time": "2021-11-10T12:19:23.949Z"
   },
   {
    "duration": 4,
    "start_time": "2021-11-10T12:20:55.705Z"
   },
   {
    "duration": 373,
    "start_time": "2021-11-10T12:20:56.314Z"
   },
   {
    "duration": 22,
    "start_time": "2021-11-10T12:20:56.861Z"
   },
   {
    "duration": 12,
    "start_time": "2021-11-10T12:20:57.556Z"
   },
   {
    "duration": 21,
    "start_time": "2021-11-10T12:20:58.165Z"
   },
   {
    "duration": 13,
    "start_time": "2021-11-10T12:21:00.173Z"
   },
   {
    "duration": 16,
    "start_time": "2021-11-10T12:21:01.014Z"
   },
   {
    "duration": 11,
    "start_time": "2021-11-10T12:21:02.023Z"
   },
   {
    "duration": 9,
    "start_time": "2021-11-10T12:21:02.787Z"
   },
   {
    "duration": 14,
    "start_time": "2021-11-10T12:21:05.043Z"
   },
   {
    "duration": 10,
    "start_time": "2021-11-10T12:21:05.234Z"
   },
   {
    "duration": 16,
    "start_time": "2021-11-10T12:21:06.048Z"
   },
   {
    "duration": 28,
    "start_time": "2021-11-10T12:21:09.060Z"
   },
   {
    "duration": 6,
    "start_time": "2021-11-10T12:21:10.388Z"
   },
   {
    "duration": 33,
    "start_time": "2021-11-10T12:21:10.808Z"
   },
   {
    "duration": 18,
    "start_time": "2021-11-10T12:21:11.480Z"
   },
   {
    "duration": 17,
    "start_time": "2021-11-10T12:21:13.741Z"
   },
   {
    "duration": 6,
    "start_time": "2021-11-10T12:21:14.341Z"
   },
   {
    "duration": 17,
    "start_time": "2021-11-10T12:21:14.533Z"
   },
   {
    "duration": 30,
    "start_time": "2021-11-10T12:21:16.413Z"
   },
   {
    "duration": 22,
    "start_time": "2021-11-10T12:21:18.769Z"
   },
   {
    "duration": 31,
    "start_time": "2021-11-10T12:21:20.568Z"
   },
   {
    "duration": 15,
    "start_time": "2021-11-10T12:21:21.377Z"
   },
   {
    "duration": 16,
    "start_time": "2021-11-10T12:21:22.046Z"
   },
   {
    "duration": 22,
    "start_time": "2021-11-10T12:21:24.504Z"
   },
   {
    "duration": 18,
    "start_time": "2021-11-10T12:21:25.564Z"
   },
   {
    "duration": 24,
    "start_time": "2021-11-10T12:21:26.347Z"
   },
   {
    "duration": 28,
    "start_time": "2021-11-10T12:21:27.502Z"
   },
   {
    "duration": 10,
    "start_time": "2021-11-10T12:21:31.122Z"
   },
   {
    "duration": 7,
    "start_time": "2021-11-10T12:21:32.518Z"
   },
   {
    "duration": 16,
    "start_time": "2021-11-10T12:21:33.813Z"
   },
   {
    "duration": 7,
    "start_time": "2021-11-10T12:21:36.437Z"
   },
   {
    "duration": 6,
    "start_time": "2021-11-10T12:21:37.374Z"
   },
   {
    "duration": 6,
    "start_time": "2021-11-10T12:21:38.616Z"
   },
   {
    "duration": 10,
    "start_time": "2021-11-10T12:21:45.193Z"
   },
   {
    "duration": 337,
    "start_time": "2021-11-10T12:25:29.502Z"
   },
   {
    "duration": 4,
    "start_time": "2021-11-10T12:27:35.317Z"
   },
   {
    "duration": 371,
    "start_time": "2021-11-10T12:27:35.735Z"
   },
   {
    "duration": 22,
    "start_time": "2021-11-10T12:27:36.267Z"
   },
   {
    "duration": 12,
    "start_time": "2021-11-10T12:27:36.491Z"
   },
   {
    "duration": 18,
    "start_time": "2021-11-10T12:27:36.694Z"
   },
   {
    "duration": 11,
    "start_time": "2021-11-10T12:27:36.842Z"
   },
   {
    "duration": 16,
    "start_time": "2021-11-10T12:27:37.044Z"
   },
   {
    "duration": 10,
    "start_time": "2021-11-10T12:27:37.208Z"
   },
   {
    "duration": 9,
    "start_time": "2021-11-10T12:27:37.581Z"
   },
   {
    "duration": 13,
    "start_time": "2021-11-10T12:27:37.791Z"
   },
   {
    "duration": 13,
    "start_time": "2021-11-10T12:27:37.998Z"
   },
   {
    "duration": 16,
    "start_time": "2021-11-10T12:27:38.183Z"
   },
   {
    "duration": 28,
    "start_time": "2021-11-10T12:27:39.037Z"
   },
   {
    "duration": 5,
    "start_time": "2021-11-10T12:27:39.382Z"
   },
   {
    "duration": 34,
    "start_time": "2021-11-10T12:27:39.644Z"
   },
   {
    "duration": 18,
    "start_time": "2021-11-10T12:27:39.859Z"
   },
   {
    "duration": 16,
    "start_time": "2021-11-10T12:27:40.493Z"
   },
   {
    "duration": 6,
    "start_time": "2021-11-10T12:27:41.017Z"
   },
   {
    "duration": 17,
    "start_time": "2021-11-10T12:27:41.313Z"
   },
   {
    "duration": 30,
    "start_time": "2021-11-10T12:27:42.050Z"
   },
   {
    "duration": 22,
    "start_time": "2021-11-10T12:27:42.418Z"
   },
   {
    "duration": 28,
    "start_time": "2021-11-10T12:27:42.803Z"
   },
   {
    "duration": 16,
    "start_time": "2021-11-10T12:27:43.227Z"
   },
   {
    "duration": 19,
    "start_time": "2021-11-10T12:27:43.610Z"
   },
   {
    "duration": 23,
    "start_time": "2021-11-10T12:27:44.019Z"
   },
   {
    "duration": 19,
    "start_time": "2021-11-10T12:27:44.648Z"
   },
   {
    "duration": 24,
    "start_time": "2021-11-10T12:27:45.253Z"
   },
   {
    "duration": 22,
    "start_time": "2021-11-10T12:27:45.849Z"
   },
   {
    "duration": 11,
    "start_time": "2021-11-10T12:27:46.470Z"
   },
   {
    "duration": 6,
    "start_time": "2021-11-10T12:27:47.285Z"
   },
   {
    "duration": 16,
    "start_time": "2021-11-10T12:27:48.000Z"
   },
   {
    "duration": 6,
    "start_time": "2021-11-10T12:27:48.699Z"
   },
   {
    "duration": 6,
    "start_time": "2021-11-10T12:27:49.591Z"
   },
   {
    "duration": 10,
    "start_time": "2021-11-10T12:27:50.247Z"
   },
   {
    "duration": 14,
    "start_time": "2021-11-10T12:27:52.616Z"
   },
   {
    "duration": 4,
    "start_time": "2021-11-10T12:27:53.309Z"
   },
   {
    "duration": 9,
    "start_time": "2021-11-10T12:27:54.507Z"
   },
   {
    "duration": 25,
    "start_time": "2021-11-10T12:27:55.368Z"
   },
   {
    "duration": 30,
    "start_time": "2021-11-10T12:27:56.200Z"
   },
   {
    "duration": 6,
    "start_time": "2021-11-10T12:27:58.402Z"
   },
   {
    "duration": 5,
    "start_time": "2021-11-10T12:27:59.094Z"
   },
   {
    "duration": 22,
    "start_time": "2021-11-10T12:27:59.857Z"
   },
   {
    "duration": 13,
    "start_time": "2021-11-10T12:28:00.812Z"
   },
   {
    "duration": 34,
    "start_time": "2021-11-10T12:28:01.583Z"
   },
   {
    "duration": 25,
    "start_time": "2021-11-10T12:28:02.457Z"
   },
   {
    "duration": 41,
    "start_time": "2021-11-10T12:28:07.332Z"
   },
   {
    "duration": 13,
    "start_time": "2021-11-10T12:28:08.674Z"
   },
   {
    "duration": 40,
    "start_time": "2021-11-10T12:28:12.361Z"
   },
   {
    "duration": 12,
    "start_time": "2021-11-10T12:28:13.493Z"
   },
   {
    "duration": 185,
    "start_time": "2021-11-10T12:28:14.247Z"
   },
   {
    "duration": 5,
    "start_time": "2021-11-10T12:28:26.594Z"
   },
   {
    "duration": 37,
    "start_time": "2021-11-10T12:28:31.464Z"
   },
   {
    "duration": 470,
    "start_time": "2021-11-10T12:28:32.968Z"
   },
   {
    "duration": 604,
    "start_time": "2021-11-10T12:38:44.181Z"
   },
   {
    "duration": 7905,
    "start_time": "2021-11-10T12:41:20.823Z"
   },
   {
    "duration": 6,
    "start_time": "2021-11-10T12:41:35.650Z"
   },
   {
    "duration": 7,
    "start_time": "2021-11-10T12:42:05.534Z"
   },
   {
    "duration": 9,
    "start_time": "2021-11-10T12:42:11.567Z"
   },
   {
    "duration": 8,
    "start_time": "2021-11-10T12:42:33.171Z"
   },
   {
    "duration": 7,
    "start_time": "2021-11-10T12:42:44.998Z"
   },
   {
    "duration": 6,
    "start_time": "2021-11-10T12:42:56.138Z"
   },
   {
    "duration": 8,
    "start_time": "2021-11-10T12:43:56.906Z"
   },
   {
    "duration": 7,
    "start_time": "2021-11-10T12:44:20.697Z"
   },
   {
    "duration": 7,
    "start_time": "2021-11-10T12:44:49.040Z"
   },
   {
    "duration": 7,
    "start_time": "2021-11-10T12:45:08.504Z"
   },
   {
    "duration": 7,
    "start_time": "2021-11-10T12:46:50.061Z"
   },
   {
    "duration": 7,
    "start_time": "2021-11-10T12:51:07.523Z"
   },
   {
    "duration": 9,
    "start_time": "2021-11-10T12:52:43.713Z"
   },
   {
    "duration": 11,
    "start_time": "2021-11-10T12:54:11.355Z"
   },
   {
    "duration": 20,
    "start_time": "2021-11-10T12:55:58.352Z"
   },
   {
    "duration": 19,
    "start_time": "2021-11-10T12:58:34.736Z"
   },
   {
    "duration": 47,
    "start_time": "2021-11-10T13:02:04.548Z"
   },
   {
    "duration": 296,
    "start_time": "2021-11-10T13:02:55.847Z"
   },
   {
    "duration": 331,
    "start_time": "2021-11-10T13:03:09.757Z"
   },
   {
    "duration": 25,
    "start_time": "2021-11-10T13:03:22.905Z"
   },
   {
    "duration": 26,
    "start_time": "2021-11-10T13:03:34.510Z"
   },
   {
    "duration": 25,
    "start_time": "2021-11-10T13:05:53.421Z"
   },
   {
    "duration": 528,
    "start_time": "2021-11-10T13:07:17.205Z"
   },
   {
    "duration": 27,
    "start_time": "2021-11-10T13:07:29.395Z"
   },
   {
    "duration": 26,
    "start_time": "2021-11-10T13:07:30.568Z"
   },
   {
    "duration": 509,
    "start_time": "2021-11-10T13:07:31.303Z"
   },
   {
    "duration": 40,
    "start_time": "2021-11-10T13:08:33.074Z"
   },
   {
    "duration": 466,
    "start_time": "2021-11-10T13:09:37.939Z"
   },
   {
    "duration": 463,
    "start_time": "2021-11-10T13:12:14.754Z"
   },
   {
    "duration": 463,
    "start_time": "2021-11-10T13:14:08.778Z"
   },
   {
    "duration": 462,
    "start_time": "2021-11-10T13:14:25.896Z"
   },
   {
    "duration": 497,
    "start_time": "2021-11-10T13:14:32.211Z"
   },
   {
    "duration": 9,
    "start_time": "2021-11-10T13:16:35.311Z"
   },
   {
    "duration": 9,
    "start_time": "2021-11-10T13:16:52.759Z"
   },
   {
    "duration": 10,
    "start_time": "2021-11-10T13:17:19.320Z"
   },
   {
    "duration": 10,
    "start_time": "2021-11-10T13:19:07.709Z"
   },
   {
    "duration": 9,
    "start_time": "2021-11-10T13:21:11.556Z"
   },
   {
    "duration": 9,
    "start_time": "2021-11-10T13:21:57.731Z"
   },
   {
    "duration": 9,
    "start_time": "2021-11-10T13:22:55.154Z"
   },
   {
    "duration": 10,
    "start_time": "2021-11-10T16:36:11.846Z"
   },
   {
    "duration": 10,
    "start_time": "2021-11-10T16:49:22.794Z"
   },
   {
    "duration": 35,
    "start_time": "2021-11-10T16:51:28.969Z"
   },
   {
    "duration": 7,
    "start_time": "2021-11-10T16:51:52.811Z"
   },
   {
    "duration": 263,
    "start_time": "2021-11-10T16:52:07.291Z"
   },
   {
    "duration": 7,
    "start_time": "2021-11-10T16:52:12.950Z"
   },
   {
    "duration": 320,
    "start_time": "2021-11-10T16:52:23.262Z"
   },
   {
    "duration": 280,
    "start_time": "2021-11-10T16:52:31.733Z"
   },
   {
    "duration": 89,
    "start_time": "2021-11-10T16:54:00.107Z"
   },
   {
    "duration": 341,
    "start_time": "2021-11-10T16:54:03.739Z"
   },
   {
    "duration": 94,
    "start_time": "2021-11-10T16:54:14.899Z"
   },
   {
    "duration": 96,
    "start_time": "2021-11-10T16:54:20.561Z"
   },
   {
    "duration": 124,
    "start_time": "2021-11-10T16:54:46.406Z"
   },
   {
    "duration": 10,
    "start_time": "2021-11-10T16:54:57.714Z"
   },
   {
    "duration": 35,
    "start_time": "2021-11-10T16:55:04.092Z"
   },
   {
    "duration": 13,
    "start_time": "2021-11-10T16:55:16.243Z"
   },
   {
    "duration": 11,
    "start_time": "2021-11-10T16:55:33.475Z"
   },
   {
    "duration": 10,
    "start_time": "2021-11-10T17:05:00.732Z"
   },
   {
    "duration": 11,
    "start_time": "2021-11-10T17:05:27.929Z"
   },
   {
    "duration": 17,
    "start_time": "2021-11-10T17:08:25.948Z"
   },
   {
    "duration": 12,
    "start_time": "2021-11-10T17:09:14.595Z"
   },
   {
    "duration": 1343,
    "start_time": "2021-11-11T14:44:33.854Z"
   },
   {
    "duration": 422,
    "start_time": "2021-11-11T14:44:35.200Z"
   },
   {
    "duration": 23,
    "start_time": "2021-11-11T14:44:35.625Z"
   },
   {
    "duration": 15,
    "start_time": "2021-11-11T14:44:35.651Z"
   },
   {
    "duration": 35,
    "start_time": "2021-11-11T14:44:35.669Z"
   },
   {
    "duration": 12,
    "start_time": "2021-11-11T14:44:35.707Z"
   },
   {
    "duration": 21,
    "start_time": "2021-11-11T14:44:35.722Z"
   },
   {
    "duration": 66,
    "start_time": "2021-11-11T14:44:35.750Z"
   },
   {
    "duration": 12,
    "start_time": "2021-11-11T14:44:35.820Z"
   },
   {
    "duration": 15,
    "start_time": "2021-11-11T14:44:35.834Z"
   },
   {
    "duration": 54,
    "start_time": "2021-11-11T14:44:35.851Z"
   },
   {
    "duration": 15,
    "start_time": "2021-11-11T14:44:35.908Z"
   },
   {
    "duration": 30,
    "start_time": "2021-11-11T14:44:35.925Z"
   },
   {
    "duration": 5,
    "start_time": "2021-11-11T14:44:35.958Z"
   },
   {
    "duration": 41,
    "start_time": "2021-11-11T14:44:36.007Z"
   },
   {
    "duration": 49,
    "start_time": "2021-11-11T14:44:36.051Z"
   },
   {
    "duration": 30,
    "start_time": "2021-11-11T14:44:36.104Z"
   },
   {
    "duration": 5,
    "start_time": "2021-11-11T14:44:36.137Z"
   },
   {
    "duration": 27,
    "start_time": "2021-11-11T14:44:36.145Z"
   },
   {
    "duration": 68,
    "start_time": "2021-11-11T14:44:36.174Z"
   },
   {
    "duration": 24,
    "start_time": "2021-11-11T14:44:36.244Z"
   },
   {
    "duration": 50,
    "start_time": "2021-11-11T14:44:36.271Z"
   },
   {
    "duration": 15,
    "start_time": "2021-11-11T14:44:36.328Z"
   },
   {
    "duration": 58,
    "start_time": "2021-11-11T14:44:36.347Z"
   },
   {
    "duration": 27,
    "start_time": "2021-11-11T14:44:36.407Z"
   },
   {
    "duration": 19,
    "start_time": "2021-11-11T14:44:36.436Z"
   },
   {
    "duration": 57,
    "start_time": "2021-11-11T14:44:36.458Z"
   },
   {
    "duration": 23,
    "start_time": "2021-11-11T14:44:36.517Z"
   },
   {
    "duration": 10,
    "start_time": "2021-11-11T14:44:36.542Z"
   },
   {
    "duration": 52,
    "start_time": "2021-11-11T14:44:36.554Z"
   },
   {
    "duration": 16,
    "start_time": "2021-11-11T14:44:36.610Z"
   },
   {
    "duration": 8,
    "start_time": "2021-11-11T14:44:36.629Z"
   },
   {
    "duration": 7,
    "start_time": "2021-11-11T14:44:36.640Z"
   },
   {
    "duration": 58,
    "start_time": "2021-11-11T14:44:36.650Z"
   },
   {
    "duration": 17,
    "start_time": "2021-11-11T14:44:36.711Z"
   },
   {
    "duration": 5,
    "start_time": "2021-11-11T14:44:36.731Z"
   },
   {
    "duration": 13,
    "start_time": "2021-11-11T14:44:36.739Z"
   },
   {
    "duration": 72,
    "start_time": "2021-11-11T14:44:36.754Z"
   },
   {
    "duration": 30,
    "start_time": "2021-11-11T14:44:36.829Z"
   },
   {
    "duration": 6,
    "start_time": "2021-11-11T14:44:36.861Z"
   },
   {
    "duration": 32,
    "start_time": "2021-11-11T14:44:36.869Z"
   },
   {
    "duration": 25,
    "start_time": "2021-11-11T14:44:36.904Z"
   },
   {
    "duration": 19,
    "start_time": "2021-11-11T14:44:36.932Z"
   },
   {
    "duration": 77,
    "start_time": "2021-11-11T14:44:36.954Z"
   },
   {
    "duration": 26,
    "start_time": "2021-11-11T14:44:37.034Z"
   },
   {
    "duration": 87,
    "start_time": "2021-11-11T14:44:37.062Z"
   },
   {
    "duration": 14,
    "start_time": "2021-11-11T14:44:37.151Z"
   },
   {
    "duration": 88,
    "start_time": "2021-11-11T14:44:37.167Z"
   },
   {
    "duration": 13,
    "start_time": "2021-11-11T14:44:37.258Z"
   },
   {
    "duration": 208,
    "start_time": "2021-11-11T14:44:37.274Z"
   },
   {
    "duration": 15,
    "start_time": "2021-11-11T14:44:37.485Z"
   },
   {
    "duration": 44,
    "start_time": "2021-11-11T14:44:37.503Z"
   },
   {
    "duration": 61,
    "start_time": "2021-11-11T14:44:37.549Z"
   },
   {
    "duration": 31,
    "start_time": "2021-11-11T14:44:37.615Z"
   },
   {
    "duration": 545,
    "start_time": "2021-11-11T14:44:37.649Z"
   },
   {
    "duration": 489,
    "start_time": "2021-11-11T14:44:38.200Z"
   },
   {
    "duration": 522,
    "start_time": "2021-11-11T14:44:38.692Z"
   },
   {
    "duration": 13,
    "start_time": "2021-11-11T14:44:39.217Z"
   },
   {
    "duration": 10,
    "start_time": "2021-11-11T14:44:39.235Z"
   },
   {
    "duration": 10,
    "start_time": "2021-11-11T14:44:39.247Z"
   },
   {
    "duration": 55,
    "start_time": "2021-11-11T14:44:39.259Z"
   },
   {
    "duration": 12,
    "start_time": "2021-11-11T14:44:39.317Z"
   },
   {
    "duration": 17,
    "start_time": "2021-11-11T14:44:39.332Z"
   },
   {
    "duration": 61,
    "start_time": "2021-11-11T14:48:23.154Z"
   },
   {
    "duration": 26,
    "start_time": "2021-11-11T14:48:29.888Z"
   },
   {
    "duration": 13,
    "start_time": "2021-11-11T14:48:36.710Z"
   },
   {
    "duration": 59,
    "start_time": "2021-11-11T14:48:43.529Z"
   },
   {
    "duration": 22,
    "start_time": "2021-11-11T14:48:53.350Z"
   },
   {
    "duration": 60,
    "start_time": "2021-11-11T14:49:08.669Z"
   },
   {
    "duration": 4,
    "start_time": "2021-11-11T14:52:06.536Z"
   },
   {
    "duration": 54,
    "start_time": "2021-11-11T14:52:12.905Z"
   },
   {
    "duration": 40,
    "start_time": "2021-11-11T14:54:51.941Z"
   },
   {
    "duration": 368,
    "start_time": "2021-11-12T10:55:11.220Z"
   },
   {
    "duration": 286,
    "start_time": "2021-11-12T10:55:18.127Z"
   },
   {
    "duration": 1440,
    "start_time": "2021-11-12T10:57:25.351Z"
   },
   {
    "duration": 379,
    "start_time": "2021-11-12T10:57:26.794Z"
   },
   {
    "duration": 22,
    "start_time": "2021-11-12T10:57:27.177Z"
   },
   {
    "duration": 17,
    "start_time": "2021-11-12T10:57:27.202Z"
   },
   {
    "duration": 18,
    "start_time": "2021-11-12T10:57:27.493Z"
   },
   {
    "duration": 11,
    "start_time": "2021-11-12T10:57:28.295Z"
   },
   {
    "duration": 18,
    "start_time": "2021-11-12T10:57:28.920Z"
   },
   {
    "duration": 10,
    "start_time": "2021-11-12T10:57:29.535Z"
   },
   {
    "duration": 9,
    "start_time": "2021-11-12T10:57:30.188Z"
   },
   {
    "duration": 13,
    "start_time": "2021-11-12T10:57:30.850Z"
   },
   {
    "duration": 10,
    "start_time": "2021-11-12T10:57:31.511Z"
   },
   {
    "duration": 15,
    "start_time": "2021-11-12T10:57:32.160Z"
   },
   {
    "duration": 30,
    "start_time": "2021-11-12T10:57:36.346Z"
   },
   {
    "duration": 5,
    "start_time": "2021-11-12T10:57:36.888Z"
   },
   {
    "duration": 31,
    "start_time": "2021-11-12T10:57:38.253Z"
   },
   {
    "duration": 18,
    "start_time": "2021-11-12T10:57:39.352Z"
   },
   {
    "duration": 19,
    "start_time": "2021-11-12T10:57:40.046Z"
   },
   {
    "duration": 7,
    "start_time": "2021-11-12T10:57:40.911Z"
   },
   {
    "duration": 18,
    "start_time": "2021-11-12T10:57:43.331Z"
   },
   {
    "duration": 30,
    "start_time": "2021-11-12T10:57:44.118Z"
   },
   {
    "duration": 25,
    "start_time": "2021-11-12T10:57:44.703Z"
   },
   {
    "duration": 30,
    "start_time": "2021-11-12T10:57:46.995Z"
   },
   {
    "duration": 14,
    "start_time": "2021-11-12T10:57:48.496Z"
   },
   {
    "duration": 96,
    "start_time": "2021-11-12T10:57:49.660Z"
   },
   {
    "duration": 190,
    "start_time": "2021-11-12T11:00:12.571Z"
   },
   {
    "duration": 4,
    "start_time": "2021-11-12T11:02:40.255Z"
   },
   {
    "duration": 385,
    "start_time": "2021-11-12T11:02:43.952Z"
   },
   {
    "duration": 1497,
    "start_time": "2021-11-12T11:02:54.876Z"
   },
   {
    "duration": 408,
    "start_time": "2021-11-12T11:02:56.376Z"
   },
   {
    "duration": 24,
    "start_time": "2021-11-12T11:02:56.787Z"
   },
   {
    "duration": 17,
    "start_time": "2021-11-12T11:02:56.814Z"
   },
   {
    "duration": 35,
    "start_time": "2021-11-12T11:02:56.834Z"
   },
   {
    "duration": 14,
    "start_time": "2021-11-12T11:02:56.872Z"
   },
   {
    "duration": 40,
    "start_time": "2021-11-12T11:02:56.889Z"
   },
   {
    "duration": 10,
    "start_time": "2021-11-12T11:02:56.935Z"
   },
   {
    "duration": 10,
    "start_time": "2021-11-12T11:02:56.948Z"
   },
   {
    "duration": 18,
    "start_time": "2021-11-12T11:02:56.961Z"
   },
   {
    "duration": 41,
    "start_time": "2021-11-12T11:02:56.982Z"
   },
   {
    "duration": 17,
    "start_time": "2021-11-12T11:02:57.026Z"
   },
   {
    "duration": 32,
    "start_time": "2021-11-12T11:02:57.046Z"
   },
   {
    "duration": 5,
    "start_time": "2021-11-12T11:02:57.081Z"
   },
   {
    "duration": 32,
    "start_time": "2021-11-12T11:02:57.122Z"
   },
   {
    "duration": 20,
    "start_time": "2021-11-12T11:02:57.157Z"
   },
   {
    "duration": 47,
    "start_time": "2021-11-12T11:02:57.179Z"
   },
   {
    "duration": 5,
    "start_time": "2021-11-12T11:02:57.229Z"
   },
   {
    "duration": 16,
    "start_time": "2021-11-12T11:02:57.237Z"
   },
   {
    "duration": 35,
    "start_time": "2021-11-12T11:02:57.256Z"
   },
   {
    "duration": 23,
    "start_time": "2021-11-12T11:02:57.323Z"
   },
   {
    "duration": 27,
    "start_time": "2021-11-12T11:02:57.348Z"
   },
   {
    "duration": 42,
    "start_time": "2021-11-12T11:02:57.383Z"
   },
   {
    "duration": 32,
    "start_time": "2021-11-12T11:02:57.428Z"
   },
   {
    "duration": 23,
    "start_time": "2021-11-12T11:02:57.462Z"
   },
   {
    "duration": 40,
    "start_time": "2021-11-12T11:02:57.488Z"
   },
   {
    "duration": 21,
    "start_time": "2021-11-12T11:02:57.531Z"
   },
   {
    "duration": 24,
    "start_time": "2021-11-12T11:02:57.554Z"
   },
   {
    "duration": 44,
    "start_time": "2021-11-12T11:02:57.580Z"
   },
   {
    "duration": 5,
    "start_time": "2021-11-12T11:02:57.627Z"
   },
   {
    "duration": 16,
    "start_time": "2021-11-12T11:02:57.635Z"
   },
   {
    "duration": 12,
    "start_time": "2021-11-12T11:02:57.653Z"
   },
   {
    "duration": 8,
    "start_time": "2021-11-12T11:02:57.668Z"
   },
   {
    "duration": 49,
    "start_time": "2021-11-12T11:02:57.678Z"
   },
   {
    "duration": 14,
    "start_time": "2021-11-12T11:02:57.730Z"
   },
   {
    "duration": 4,
    "start_time": "2021-11-12T11:02:57.746Z"
   },
   {
    "duration": 13,
    "start_time": "2021-11-12T11:02:57.753Z"
   },
   {
    "duration": 60,
    "start_time": "2021-11-12T11:02:57.768Z"
   },
   {
    "duration": 19,
    "start_time": "2021-11-12T11:02:57.831Z"
   },
   {
    "duration": 29,
    "start_time": "2021-11-12T11:02:57.853Z"
   },
   {
    "duration": 39,
    "start_time": "2021-11-12T11:02:57.885Z"
   },
   {
    "duration": 4,
    "start_time": "2021-11-12T11:02:57.927Z"
   },
   {
    "duration": 22,
    "start_time": "2021-11-12T11:02:57.933Z"
   },
   {
    "duration": 13,
    "start_time": "2021-11-12T11:02:57.958Z"
   },
   {
    "duration": 68,
    "start_time": "2021-11-12T11:02:57.974Z"
   },
   {
    "duration": 24,
    "start_time": "2021-11-12T11:02:58.044Z"
   },
   {
    "duration": 64,
    "start_time": "2021-11-12T11:02:58.070Z"
   },
   {
    "duration": 11,
    "start_time": "2021-11-12T11:02:58.137Z"
   },
   {
    "duration": 47,
    "start_time": "2021-11-12T11:02:58.151Z"
   },
   {
    "duration": 34,
    "start_time": "2021-11-12T11:02:58.200Z"
   },
   {
    "duration": 194,
    "start_time": "2021-11-12T11:02:58.236Z"
   },
   {
    "duration": 5,
    "start_time": "2021-11-12T11:02:58.433Z"
   },
   {
    "duration": 37,
    "start_time": "2021-11-12T11:02:58.440Z"
   },
   {
    "duration": 53,
    "start_time": "2021-11-12T11:02:58.479Z"
   },
   {
    "duration": 25,
    "start_time": "2021-11-12T11:02:58.535Z"
   },
   {
    "duration": 529,
    "start_time": "2021-11-12T11:02:58.563Z"
   },
   {
    "duration": 471,
    "start_time": "2021-11-12T11:02:59.095Z"
   },
   {
    "duration": 565,
    "start_time": "2021-11-12T11:02:59.568Z"
   },
   {
    "duration": 10,
    "start_time": "2021-11-12T11:03:00.135Z"
   },
   {
    "duration": 16,
    "start_time": "2021-11-12T11:03:00.147Z"
   },
   {
    "duration": 16,
    "start_time": "2021-11-12T11:03:00.165Z"
   },
   {
    "duration": 44,
    "start_time": "2021-11-12T11:03:00.184Z"
   },
   {
    "duration": 16,
    "start_time": "2021-11-12T11:03:00.231Z"
   },
   {
    "duration": 43,
    "start_time": "2021-11-12T11:03:00.250Z"
   },
   {
    "duration": 14,
    "start_time": "2021-11-12T11:03:22.504Z"
   },
   {
    "duration": 4,
    "start_time": "2021-11-12T11:04:03.951Z"
   },
   {
    "duration": 405,
    "start_time": "2021-11-12T11:04:04.893Z"
   },
   {
    "duration": 22,
    "start_time": "2021-11-12T11:04:05.301Z"
   },
   {
    "duration": 12,
    "start_time": "2021-11-12T11:04:06.596Z"
   },
   {
    "duration": 21,
    "start_time": "2021-11-12T11:04:07.120Z"
   },
   {
    "duration": 13,
    "start_time": "2021-11-12T11:04:07.636Z"
   },
   {
    "duration": 16,
    "start_time": "2021-11-12T11:04:08.274Z"
   },
   {
    "duration": 11,
    "start_time": "2021-11-12T11:04:08.950Z"
   },
   {
    "duration": 10,
    "start_time": "2021-11-12T11:04:09.468Z"
   },
   {
    "duration": 13,
    "start_time": "2021-11-12T11:04:09.883Z"
   },
   {
    "duration": 9,
    "start_time": "2021-11-12T11:04:10.495Z"
   },
   {
    "duration": 20,
    "start_time": "2021-11-12T11:04:11.004Z"
   },
   {
    "duration": 31,
    "start_time": "2021-11-12T11:04:13.231Z"
   },
   {
    "duration": 6,
    "start_time": "2021-11-12T11:04:13.699Z"
   },
   {
    "duration": 33,
    "start_time": "2021-11-12T11:04:14.539Z"
   },
   {
    "duration": 18,
    "start_time": "2021-11-12T11:04:15.406Z"
   },
   {
    "duration": 18,
    "start_time": "2021-11-12T11:04:15.764Z"
   },
   {
    "duration": 5,
    "start_time": "2021-11-12T11:04:16.192Z"
   },
   {
    "duration": 17,
    "start_time": "2021-11-12T11:04:17.050Z"
   },
   {
    "duration": 42,
    "start_time": "2021-11-12T11:04:17.460Z"
   },
   {
    "duration": 23,
    "start_time": "2021-11-12T11:04:17.837Z"
   },
   {
    "duration": 29,
    "start_time": "2021-11-12T11:04:18.412Z"
   },
   {
    "duration": 16,
    "start_time": "2021-11-12T11:04:18.941Z"
   },
   {
    "duration": 15,
    "start_time": "2021-11-12T11:04:19.436Z"
   },
   {
    "duration": 25,
    "start_time": "2021-11-12T11:06:14.976Z"
   },
   {
    "duration": 18,
    "start_time": "2021-11-12T11:06:18.299Z"
   },
   {
    "duration": 26,
    "start_time": "2021-11-12T11:06:23.546Z"
   },
   {
    "duration": 27,
    "start_time": "2021-11-12T11:14:05.620Z"
   },
   {
    "duration": 23,
    "start_time": "2021-11-12T11:15:33.906Z"
   },
   {
    "duration": 10,
    "start_time": "2021-11-12T11:15:35.597Z"
   },
   {
    "duration": 6,
    "start_time": "2021-11-12T11:15:39.308Z"
   },
   {
    "duration": 15,
    "start_time": "2021-11-12T11:15:41.379Z"
   },
   {
    "duration": 7,
    "start_time": "2021-11-12T11:15:54.563Z"
   },
   {
    "duration": 7,
    "start_time": "2021-11-12T11:15:55.365Z"
   },
   {
    "duration": 10,
    "start_time": "2021-11-12T11:15:56.230Z"
   },
   {
    "duration": 16,
    "start_time": "2021-11-12T11:16:15.011Z"
   },
   {
    "duration": 4,
    "start_time": "2021-11-12T11:16:20.256Z"
   },
   {
    "duration": 9,
    "start_time": "2021-11-12T11:21:14.595Z"
   },
   {
    "duration": 26,
    "start_time": "2021-11-12T11:21:24.667Z"
   },
   {
    "duration": 20,
    "start_time": "2021-11-12T11:21:38.991Z"
   },
   {
    "duration": 10,
    "start_time": "2021-11-12T11:21:56.818Z"
   },
   {
    "duration": 30,
    "start_time": "2021-11-12T11:22:10.026Z"
   },
   {
    "duration": 11,
    "start_time": "2021-11-12T11:22:24.572Z"
   },
   {
    "duration": 5,
    "start_time": "2021-11-12T11:22:56.185Z"
   },
   {
    "duration": 34,
    "start_time": "2021-11-12T11:23:14.602Z"
   },
   {
    "duration": 5,
    "start_time": "2021-11-12T11:23:15.724Z"
   },
   {
    "duration": 1238,
    "start_time": "2021-11-12T11:23:26.462Z"
   },
   {
    "duration": -107,
    "start_time": "2021-11-12T11:23:27.810Z"
   },
   {
    "duration": 46,
    "start_time": "2021-11-12T11:27:18.572Z"
   },
   {
    "duration": 9,
    "start_time": "2021-11-12T12:00:14.667Z"
   },
   {
    "duration": 9,
    "start_time": "2021-11-12T12:00:33.318Z"
   },
   {
    "duration": 13,
    "start_time": "2021-11-12T12:01:00.291Z"
   },
   {
    "duration": 30,
    "start_time": "2021-11-12T12:03:42.288Z"
   },
   {
    "duration": 4,
    "start_time": "2021-11-12T12:03:52.173Z"
   },
   {
    "duration": 379,
    "start_time": "2021-11-12T12:03:52.674Z"
   },
   {
    "duration": 20,
    "start_time": "2021-11-12T12:03:53.109Z"
   },
   {
    "duration": 12,
    "start_time": "2021-11-12T12:03:53.565Z"
   },
   {
    "duration": 18,
    "start_time": "2021-11-12T12:03:54.066Z"
   },
   {
    "duration": 15,
    "start_time": "2021-11-12T12:03:54.926Z"
   },
   {
    "duration": 16,
    "start_time": "2021-11-12T12:03:55.044Z"
   },
   {
    "duration": 10,
    "start_time": "2021-11-12T12:03:55.808Z"
   },
   {
    "duration": 10,
    "start_time": "2021-11-12T12:03:56.536Z"
   },
   {
    "duration": 13,
    "start_time": "2021-11-12T12:03:57.155Z"
   },
   {
    "duration": 10,
    "start_time": "2021-11-12T12:03:57.873Z"
   },
   {
    "duration": 14,
    "start_time": "2021-11-12T12:03:58.513Z"
   },
   {
    "duration": 27,
    "start_time": "2021-11-12T12:04:02.023Z"
   },
   {
    "duration": 5,
    "start_time": "2021-11-12T12:04:04.824Z"
   },
   {
    "duration": 31,
    "start_time": "2021-11-12T12:04:06.164Z"
   },
   {
    "duration": 16,
    "start_time": "2021-11-12T12:04:07.319Z"
   },
   {
    "duration": 16,
    "start_time": "2021-11-12T12:04:08.057Z"
   },
   {
    "duration": 5,
    "start_time": "2021-11-12T12:04:08.823Z"
   },
   {
    "duration": 17,
    "start_time": "2021-11-12T12:04:11.571Z"
   },
   {
    "duration": 28,
    "start_time": "2021-11-12T12:04:12.186Z"
   },
   {
    "duration": 22,
    "start_time": "2021-11-12T12:04:12.995Z"
   },
   {
    "duration": 27,
    "start_time": "2021-11-12T12:04:14.878Z"
   },
   {
    "duration": 16,
    "start_time": "2021-11-12T12:04:15.898Z"
   },
   {
    "duration": 29,
    "start_time": "2021-11-12T12:04:16.593Z"
   },
   {
    "duration": 22,
    "start_time": "2021-11-12T12:04:19.803Z"
   },
   {
    "duration": 18,
    "start_time": "2021-11-12T12:04:23.580Z"
   },
   {
    "duration": 23,
    "start_time": "2021-11-12T12:04:24.073Z"
   },
   {
    "duration": 32,
    "start_time": "2021-11-12T12:04:24.727Z"
   },
   {
    "duration": 14,
    "start_time": "2021-11-12T12:04:26.693Z"
   },
   {
    "duration": 8,
    "start_time": "2021-11-12T12:04:28.157Z"
   },
   {
    "duration": 22,
    "start_time": "2021-11-12T12:04:29.211Z"
   },
   {
    "duration": 7,
    "start_time": "2021-11-12T12:04:29.635Z"
   },
   {
    "duration": 9,
    "start_time": "2021-11-12T12:04:32.773Z"
   },
   {
    "duration": 11,
    "start_time": "2021-11-12T12:04:33.205Z"
   },
   {
    "duration": 13,
    "start_time": "2021-11-12T12:04:37.289Z"
   },
   {
    "duration": 5,
    "start_time": "2021-11-12T12:04:39.862Z"
   },
   {
    "duration": 11,
    "start_time": "2021-11-12T12:04:41.004Z"
   },
   {
    "duration": 8,
    "start_time": "2021-11-12T12:04:42.442Z"
   },
   {
    "duration": 8,
    "start_time": "2021-11-12T12:04:47.058Z"
   },
   {
    "duration": 32,
    "start_time": "2021-11-12T12:04:52.955Z"
   },
   {
    "duration": 11,
    "start_time": "2021-11-12T12:04:59.871Z"
   },
   {
    "duration": 20,
    "start_time": "2021-11-12T12:06:03.839Z"
   },
   {
    "duration": 41,
    "start_time": "2021-11-12T12:10:41.667Z"
   },
   {
    "duration": 12,
    "start_time": "2021-11-12T12:11:07.997Z"
   },
   {
    "duration": 6,
    "start_time": "2021-11-12T12:11:28.113Z"
   },
   {
    "duration": 5,
    "start_time": "2021-11-12T12:11:34.560Z"
   },
   {
    "duration": 4,
    "start_time": "2021-11-12T12:11:39.582Z"
   },
   {
    "duration": 20,
    "start_time": "2021-11-12T12:11:40.507Z"
   },
   {
    "duration": 22,
    "start_time": "2021-11-12T12:12:20.740Z"
   },
   {
    "duration": 14,
    "start_time": "2021-11-12T12:12:21.925Z"
   },
   {
    "duration": 38,
    "start_time": "2021-11-12T12:12:51.409Z"
   },
   {
    "duration": 26,
    "start_time": "2021-11-12T12:14:41.354Z"
   },
   {
    "duration": 41,
    "start_time": "2021-11-12T12:14:42.337Z"
   },
   {
    "duration": 3,
    "start_time": "2021-11-12T12:14:55.579Z"
   },
   {
    "duration": 397,
    "start_time": "2021-11-12T12:14:55.767Z"
   },
   {
    "duration": 20,
    "start_time": "2021-11-12T12:14:56.167Z"
   },
   {
    "duration": 12,
    "start_time": "2021-11-12T12:14:56.257Z"
   },
   {
    "duration": 18,
    "start_time": "2021-11-12T12:14:56.427Z"
   },
   {
    "duration": 11,
    "start_time": "2021-11-12T12:14:56.617Z"
   },
   {
    "duration": 15,
    "start_time": "2021-11-12T12:14:56.805Z"
   },
   {
    "duration": 11,
    "start_time": "2021-11-12T12:14:56.985Z"
   },
   {
    "duration": 12,
    "start_time": "2021-11-12T12:14:57.156Z"
   },
   {
    "duration": 13,
    "start_time": "2021-11-12T12:14:57.343Z"
   },
   {
    "duration": 11,
    "start_time": "2021-11-12T12:14:57.523Z"
   },
   {
    "duration": 18,
    "start_time": "2021-11-12T12:14:57.704Z"
   },
   {
    "duration": 26,
    "start_time": "2021-11-12T12:14:59.015Z"
   },
   {
    "duration": 5,
    "start_time": "2021-11-12T12:14:59.187Z"
   },
   {
    "duration": 31,
    "start_time": "2021-11-12T12:14:59.565Z"
   },
   {
    "duration": 18,
    "start_time": "2021-11-12T12:14:59.914Z"
   },
   {
    "duration": 19,
    "start_time": "2021-11-12T12:15:00.093Z"
   },
   {
    "duration": 6,
    "start_time": "2021-11-12T12:15:00.296Z"
   },
   {
    "duration": 18,
    "start_time": "2021-11-12T12:15:01.043Z"
   },
   {
    "duration": 28,
    "start_time": "2021-11-12T12:15:01.813Z"
   },
   {
    "duration": 22,
    "start_time": "2021-11-12T12:15:01.983Z"
   },
   {
    "duration": 28,
    "start_time": "2021-11-12T12:15:02.172Z"
   },
   {
    "duration": 16,
    "start_time": "2021-11-12T12:15:02.374Z"
   },
   {
    "duration": 16,
    "start_time": "2021-11-12T12:15:02.628Z"
   },
   {
    "duration": 22,
    "start_time": "2021-11-12T12:15:05.096Z"
   },
   {
    "duration": 17,
    "start_time": "2021-11-12T12:15:05.594Z"
   },
   {
    "duration": 21,
    "start_time": "2021-11-12T12:15:06.639Z"
   },
   {
    "duration": 22,
    "start_time": "2021-11-12T12:15:07.255Z"
   },
   {
    "duration": 10,
    "start_time": "2021-11-12T12:15:07.884Z"
   },
   {
    "duration": 6,
    "start_time": "2021-11-12T12:15:08.509Z"
   },
   {
    "duration": 15,
    "start_time": "2021-11-12T12:15:08.983Z"
   },
   {
    "duration": 7,
    "start_time": "2021-11-12T12:15:09.569Z"
   },
   {
    "duration": 6,
    "start_time": "2021-11-12T12:15:10.139Z"
   },
   {
    "duration": 10,
    "start_time": "2021-11-12T12:15:10.535Z"
   },
   {
    "duration": 13,
    "start_time": "2021-11-12T12:15:13.577Z"
   },
   {
    "duration": 4,
    "start_time": "2021-11-12T12:15:15.762Z"
   },
   {
    "duration": 27,
    "start_time": "2021-11-12T12:15:16.348Z"
   },
   {
    "duration": 12,
    "start_time": "2021-11-12T12:15:17.164Z"
   },
   {
    "duration": 20,
    "start_time": "2021-11-12T12:15:17.850Z"
   },
   {
    "duration": 36,
    "start_time": "2021-11-12T12:15:18.578Z"
   },
   {
    "duration": 12,
    "start_time": "2021-11-12T12:15:19.247Z"
   },
   {
    "duration": 5,
    "start_time": "2021-11-12T12:15:21.785Z"
   },
   {
    "duration": 5,
    "start_time": "2021-11-12T12:15:23.234Z"
   },
   {
    "duration": 21,
    "start_time": "2021-11-12T12:15:23.824Z"
   },
   {
    "duration": 14,
    "start_time": "2021-11-12T12:15:24.582Z"
   },
   {
    "duration": 34,
    "start_time": "2021-11-12T12:15:25.212Z"
   },
   {
    "duration": 8263,
    "start_time": "2021-11-12T12:16:48.581Z"
   },
   {
    "duration": 25,
    "start_time": "2021-11-12T12:17:02.943Z"
   },
   {
    "duration": 41,
    "start_time": "2021-11-12T12:17:04.285Z"
   },
   {
    "duration": 13,
    "start_time": "2021-11-12T12:17:05.355Z"
   },
   {
    "duration": 309,
    "start_time": "2021-11-12T12:17:09.799Z"
   },
   {
    "duration": 42,
    "start_time": "2021-11-12T12:17:26.351Z"
   },
   {
    "duration": 281,
    "start_time": "2021-11-12T12:18:09.323Z"
   },
   {
    "duration": 282,
    "start_time": "2021-11-12T12:18:22.116Z"
   },
   {
    "duration": 290,
    "start_time": "2021-11-12T12:18:31.596Z"
   },
   {
    "duration": 292,
    "start_time": "2021-11-12T12:18:37.157Z"
   },
   {
    "duration": 3,
    "start_time": "2021-11-12T12:19:16.510Z"
   },
   {
    "duration": 285,
    "start_time": "2021-11-12T12:19:31.142Z"
   },
   {
    "duration": 27,
    "start_time": "2021-11-12T12:20:31.967Z"
   },
   {
    "duration": 27,
    "start_time": "2021-11-12T12:20:47.074Z"
   },
   {
    "duration": 38,
    "start_time": "2021-11-12T12:23:52.124Z"
   },
   {
    "duration": 12,
    "start_time": "2021-11-12T12:24:40.237Z"
   },
   {
    "duration": 224,
    "start_time": "2021-11-12T12:24:41.051Z"
   },
   {
    "duration": 6,
    "start_time": "2021-11-12T12:24:42.061Z"
   },
   {
    "duration": 18,
    "start_time": "2021-11-12T12:25:48.021Z"
   },
   {
    "duration": 38,
    "start_time": "2021-11-12T12:25:56.710Z"
   },
   {
    "duration": 25,
    "start_time": "2021-11-12T12:25:57.483Z"
   },
   {
    "duration": 24,
    "start_time": "2021-11-12T12:25:58.141Z"
   },
   {
    "duration": 492,
    "start_time": "2021-11-12T12:26:00.417Z"
   },
   {
    "duration": 458,
    "start_time": "2021-11-12T12:26:06.916Z"
   },
   {
    "duration": 466,
    "start_time": "2021-11-12T12:26:24.959Z"
   },
   {
    "duration": 496,
    "start_time": "2021-11-12T12:26:37.171Z"
   },
   {
    "duration": 499,
    "start_time": "2021-11-12T12:26:44.224Z"
   },
   {
    "duration": 517,
    "start_time": "2021-11-12T12:26:56.056Z"
   },
   {
    "duration": 456,
    "start_time": "2021-11-12T12:27:06.815Z"
   },
   {
    "duration": 440,
    "start_time": "2021-11-12T12:27:44.720Z"
   },
   {
    "duration": 436,
    "start_time": "2021-11-12T12:27:51.140Z"
   },
   {
    "duration": 436,
    "start_time": "2021-11-12T12:28:26.289Z"
   },
   {
    "duration": 546,
    "start_time": "2021-11-12T12:28:27.013Z"
   },
   {
    "duration": 10,
    "start_time": "2021-11-12T12:28:31.325Z"
   },
   {
    "duration": 10,
    "start_time": "2021-11-12T12:28:31.967Z"
   },
   {
    "duration": 10,
    "start_time": "2021-11-12T12:28:32.537Z"
   },
   {
    "duration": 10,
    "start_time": "2021-11-12T12:29:07.515Z"
   },
   {
    "duration": 10,
    "start_time": "2021-11-12T12:29:10.249Z"
   },
   {
    "duration": 14,
    "start_time": "2021-11-12T12:29:10.750Z"
   },
   {
    "duration": 1365,
    "start_time": "2021-11-12T13:08:23.313Z"
   },
   {
    "duration": 383,
    "start_time": "2021-11-12T13:08:24.681Z"
   },
   {
    "duration": 22,
    "start_time": "2021-11-12T13:08:25.067Z"
   },
   {
    "duration": 15,
    "start_time": "2021-11-12T13:08:25.092Z"
   },
   {
    "duration": 22,
    "start_time": "2021-11-12T13:08:25.110Z"
   },
   {
    "duration": 10,
    "start_time": "2021-11-12T13:08:25.135Z"
   },
   {
    "duration": 19,
    "start_time": "2021-11-12T13:08:25.148Z"
   },
   {
    "duration": 10,
    "start_time": "2021-11-12T13:08:25.171Z"
   },
   {
    "duration": 9,
    "start_time": "2021-11-12T13:08:25.184Z"
   },
   {
    "duration": 41,
    "start_time": "2021-11-12T13:08:25.195Z"
   },
   {
    "duration": 10,
    "start_time": "2021-11-12T13:08:25.239Z"
   },
   {
    "duration": 15,
    "start_time": "2021-11-12T13:08:25.251Z"
   },
   {
    "duration": 62,
    "start_time": "2021-11-12T13:08:25.268Z"
   },
   {
    "duration": 5,
    "start_time": "2021-11-12T13:08:25.333Z"
   },
   {
    "duration": 42,
    "start_time": "2021-11-12T13:08:25.340Z"
   },
   {
    "duration": 16,
    "start_time": "2021-11-12T13:08:25.385Z"
   },
   {
    "duration": 38,
    "start_time": "2021-11-12T13:08:25.404Z"
   },
   {
    "duration": 5,
    "start_time": "2021-11-12T13:08:25.445Z"
   },
   {
    "duration": 17,
    "start_time": "2021-11-12T13:08:25.452Z"
   },
   {
    "duration": 62,
    "start_time": "2021-11-12T13:08:25.472Z"
   },
   {
    "duration": 23,
    "start_time": "2021-11-12T13:08:25.536Z"
   },
   {
    "duration": 27,
    "start_time": "2021-11-12T13:08:25.561Z"
   },
   {
    "duration": 44,
    "start_time": "2021-11-12T13:08:25.593Z"
   },
   {
    "duration": 14,
    "start_time": "2021-11-12T13:08:25.641Z"
   },
   {
    "duration": 22,
    "start_time": "2021-11-12T13:08:25.657Z"
   },
   {
    "duration": 48,
    "start_time": "2021-11-12T13:08:25.681Z"
   },
   {
    "duration": 22,
    "start_time": "2021-11-12T13:08:25.731Z"
   },
   {
    "duration": 21,
    "start_time": "2021-11-12T13:08:25.755Z"
   },
   {
    "duration": 10,
    "start_time": "2021-11-12T13:08:25.778Z"
   },
   {
    "duration": 43,
    "start_time": "2021-11-12T13:08:25.790Z"
   },
   {
    "duration": 33,
    "start_time": "2021-11-12T13:08:25.835Z"
   },
   {
    "duration": 14,
    "start_time": "2021-11-12T13:08:25.870Z"
   },
   {
    "duration": 9,
    "start_time": "2021-11-12T13:08:25.886Z"
   },
   {
    "duration": 20,
    "start_time": "2021-11-12T13:08:25.897Z"
   },
   {
    "duration": 23,
    "start_time": "2021-11-12T13:08:25.919Z"
   },
   {
    "duration": 9,
    "start_time": "2021-11-12T13:08:25.945Z"
   },
   {
    "duration": 38,
    "start_time": "2021-11-12T13:08:25.956Z"
   },
   {
    "duration": 13,
    "start_time": "2021-11-12T13:08:25.996Z"
   },
   {
    "duration": 30,
    "start_time": "2021-11-12T13:08:26.011Z"
   },
   {
    "duration": 42,
    "start_time": "2021-11-12T13:08:26.043Z"
   },
   {
    "duration": 12,
    "start_time": "2021-11-12T13:08:26.088Z"
   },
   {
    "duration": 29,
    "start_time": "2021-11-12T13:08:26.102Z"
   },
   {
    "duration": 7,
    "start_time": "2021-11-12T13:08:26.133Z"
   },
   {
    "duration": 26,
    "start_time": "2021-11-12T13:08:26.143Z"
   },
   {
    "duration": 17,
    "start_time": "2021-11-12T13:08:26.172Z"
   },
   {
    "duration": 58,
    "start_time": "2021-11-12T13:08:26.191Z"
   },
   {
    "duration": 24,
    "start_time": "2021-11-12T13:08:26.251Z"
   },
   {
    "duration": 68,
    "start_time": "2021-11-12T13:08:26.278Z"
   },
   {
    "duration": 14,
    "start_time": "2021-11-12T13:08:26.349Z"
   },
   {
    "duration": 63,
    "start_time": "2021-11-12T13:08:26.366Z"
   },
   {
    "duration": 13,
    "start_time": "2021-11-12T13:08:26.431Z"
   },
   {
    "duration": 247,
    "start_time": "2021-11-12T13:08:26.447Z"
   },
   {
    "duration": 6,
    "start_time": "2021-11-12T13:08:26.696Z"
   },
   {
    "duration": 51,
    "start_time": "2021-11-12T13:08:26.704Z"
   },
   {
    "duration": 24,
    "start_time": "2021-11-12T13:08:26.757Z"
   },
   {
    "duration": 55,
    "start_time": "2021-11-12T13:08:26.784Z"
   },
   {
    "duration": 491,
    "start_time": "2021-11-12T13:08:26.842Z"
   },
   {
    "duration": 499,
    "start_time": "2021-11-12T13:08:27.335Z"
   },
   {
    "duration": 471,
    "start_time": "2021-11-12T13:08:27.838Z"
   },
   {
    "duration": 8,
    "start_time": "2021-11-12T13:08:28.312Z"
   },
   {
    "duration": 17,
    "start_time": "2021-11-12T13:08:28.330Z"
   },
   {
    "duration": 36,
    "start_time": "2021-11-12T13:08:28.350Z"
   },
   {
    "duration": 32,
    "start_time": "2021-11-12T13:08:28.388Z"
   },
   {
    "duration": 23,
    "start_time": "2021-11-12T13:08:28.423Z"
   },
   {
    "duration": 33,
    "start_time": "2021-11-12T13:08:28.448Z"
   }
  ],
  "kernelspec": {
   "display_name": "Python 3",
   "language": "python",
   "name": "python3"
  },
  "language_info": {
   "codemirror_mode": {
    "name": "ipython",
    "version": 3
   },
   "file_extension": ".py",
   "mimetype": "text/x-python",
   "name": "python",
   "nbconvert_exporter": "python",
   "pygments_lexer": "ipython3",
   "version": "3.7.8"
  },
  "toc": {
   "base_numbering": 1,
   "nav_menu": {},
   "number_sections": true,
   "sideBar": true,
   "skip_h1_title": true,
   "title_cell": "Table of Contents",
   "title_sidebar": "Contents",
   "toc_cell": false,
   "toc_position": {},
   "toc_section_display": true,
   "toc_window_display": false
  }
 },
 "nbformat": 4,
 "nbformat_minor": 2
}